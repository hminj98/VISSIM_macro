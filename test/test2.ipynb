{
 "cells": [
  {
   "cell_type": "code",
   "id": "initial_id",
   "metadata": {
    "collapsed": true,
    "ExecuteTime": {
     "end_time": "2025-03-05T03:45:05.218542Z",
     "start_time": "2025-03-05T03:44:39.471176Z"
    }
   },
   "source": [
    "import win32com.client  # Windows COM 인터페이스 사용\n",
    "\n",
    "# VISSIM 실행 및 연결\n",
    "Vissim = win32com.client.Dispatch(\"Vissim.Vissim\")  # Vissim 인스턴스 생성\n",
    "\n",
    "# VISSIM 네트워크 파일 (.inpx) 로드\n",
    "network_path = r\"C:\\VISSIM_Workspace\\test\\test.inpx\"  # 실제 파일 경로 입력\n",
    "Vissim.LoadNet(network_path)\n",
    "\n",
    "# Links Input 갯수\n",
    "count = len(Vissim.Net.Links.GetAll()) # 링크 갯수\n",
    "print(\"count : \" ,count)\n",
    "\n",
    "# Vehicle Input 리스트 가져오기\n",
    "vehicle_inputs = Vissim.Net.VehicleInputs.GetAll()\n",
    "a  = Vissim.Net.VehicleInputs.ItemByKey(2).AttValue('Link') # Volumn은 1 고정\n",
    "print(\"a : \", a)\n",
    "\n",
    "# 값 가져오기\n",
    "for i in range(count):\n",
    "    link_number = i+1\n",
    "    link_name = Vissim.Net.Links.ItemByKey(link_number).AttValue('Name')\n",
    "    volume = Vissim.Net.VehicleInputs.ItemByKey(link_number).AttValue('Volume(1)') # Volumn은 1 고정\n",
    "    print(f\"Link {link_number} - Volume: {volume}\")\n",
    "\n",
    "# 변수 리스트 설정\n",
    "new_names = [\"hi\", \"hello\"]\n",
    "new_volume = [\"2000\", \"3000\"]\n",
    "\n",
    "# 값 변경\n",
    "for i in range(count):\n",
    "  Vissim.Net.Links.ItemByKey(i+1).SetAttValue('Name', new_names[i])\n",
    "  Vissim.Net.VehicleInputs.ItemByKey(i+1).SetAttValue('Volume(1)', new_volume[i])\n",
    "\n",
    "for i in range(count):\n",
    "    link_number = i+1\n",
    "    link_name = Vissim.Net.Links.ItemByKey(link_number).AttValue('Name')\n",
    "    volume = Vissim.Net.VehicleInputs.ItemByKey(link_number).AttValue('Volume(1)') # Volumn은 1 고정\n",
    "    print(f\"Link {link_number} - Volume: {volume}\")\n",
    "\n",
    "# Vissim.Simulation.RunContinuous()\n",
    "# print(\"VISSIM 시뮬레이션 실행 중...\")\n",
    "\n",
    "#Vissim.Exit()  # VISSIM 종료\n"
   ],
   "outputs": [
    {
     "name": "stdout",
     "output_type": "stream",
     "text": [
      "count :  2\n",
      "a :  2\n",
      "Link 1 - Volume: 500.0\n",
      "Link 2 - Volume: 1000.0\n",
      "Link 1 - Volume: 2000.0\n",
      "Link 2 - Volume: 3000.0\n"
     ]
    }
   ],
   "execution_count": 10
  }
 ],
 "metadata": {
  "kernelspec": {
   "display_name": "Python 3",
   "language": "python",
   "name": "python3"
  },
  "language_info": {
   "codemirror_mode": {
    "name": "ipython",
    "version": 2
   },
   "file_extension": ".py",
   "mimetype": "text/x-python",
   "name": "python",
   "nbconvert_exporter": "python",
   "pygments_lexer": "ipython2",
   "version": "2.7.6"
  }
 },
 "nbformat": 4,
 "nbformat_minor": 5
}
