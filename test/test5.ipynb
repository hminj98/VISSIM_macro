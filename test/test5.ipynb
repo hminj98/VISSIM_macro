{
 "cells": [
  {
   "cell_type": "code",
   "id": "initial_id",
   "metadata": {
    "collapsed": true,
    "ExecuteTime": {
     "end_time": "2025-03-06T08:04:52.230427Z",
     "start_time": "2025-03-06T08:04:32.779037Z"
    }
   },
   "source": [
    "import csv\n",
    "\n",
    "import pandas as pd\n",
    "import win32com.client  # Windows COM 인터페이스 사용\n",
    "\n",
    "# VISSIM 실행 및 연결\n",
    "Vissim = win32com.client.Dispatch(\"Vissim.Vissim\")  # Vissim 인스턴스 생성\n",
    "\n",
    "net_attributes = dir(Vissim.Net.DataCollectionMeasurements.GetAll)\n",
    "print(\"📌 Vissim.Net에서 사용할 수 있는 속성 목록:\")\n",
    "for attr in net_attributes:\n",
    "    print(attr)\n",
    "Vissim.Exit()  # VISSIM 종료\n",
    "\n"
   ],
   "outputs": [
    {
     "name": "stdout",
     "output_type": "stream",
     "text": [
      "📌 Vissim.Net에서 사용할 수 있는 속성 목록:\n",
      "__call__\n",
      "__class__\n",
      "__delattr__\n",
      "__dir__\n",
      "__doc__\n",
      "__eq__\n",
      "__format__\n",
      "__func__\n",
      "__ge__\n",
      "__get__\n",
      "__getattribute__\n",
      "__gt__\n",
      "__hash__\n",
      "__init__\n",
      "__init_subclass__\n",
      "__le__\n",
      "__lt__\n",
      "__ne__\n",
      "__new__\n",
      "__reduce__\n",
      "__reduce_ex__\n",
      "__repr__\n",
      "__self__\n",
      "__setattr__\n",
      "__sizeof__\n",
      "__str__\n",
      "__subclasshook__\n"
     ]
    }
   ],
   "execution_count": 5
  }
 ],
 "metadata": {
  "kernelspec": {
   "display_name": "Python 3",
   "language": "python",
   "name": "python3"
  },
  "language_info": {
   "codemirror_mode": {
    "name": "ipython",
    "version": 2
   },
   "file_extension": ".py",
   "mimetype": "text/x-python",
   "name": "python",
   "nbconvert_exporter": "python",
   "pygments_lexer": "ipython2",
   "version": "2.7.6"
  }
 },
 "nbformat": 4,
 "nbformat_minor": 5
}
