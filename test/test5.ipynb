{
 "cells": [
  {
   "cell_type": "code",
   "id": "initial_id",
   "metadata": {
    "collapsed": true,
    "ExecuteTime": {
     "end_time": "2025-03-11T04:14:54.016080Z",
     "start_time": "2025-03-11T04:14:53.545878Z"
    }
   },
   "source": [
    "import sqlite3\n",
    "import pandas as pd\n",
    "import os\n",
    "\n",
    "# .db 파일들이 위치한 폴더 경로 (사용자의 실제 경로로 변경 필요)\n",
    "folder_path = \"C:/VISSIM_Workspace/network_test/network01.results\"\n",
    "\n",
    "# 폴더 내 모든 .db 파일 찾기\n",
    "db_files = sorted([f for f in os.listdir(folder_path) if f.endswith(\".db\")], key=lambda x: int(x.split(\".\")[0]))\n",
    "\n",
    "# 분석할 수치 컬럼들\n",
    "numeric_columns = ['ACCELERATION', 'DIST', 'LENGTH', 'VEHS', 'PERS',\n",
    "                   'QUEUEDELAY', 'SPEEDAVGARITH', 'SPEEDAVGHARM', 'OCCUPRATE']\n",
    "\n",
    "# 평균값을 저장할 리스트\n",
    "all_data = []\n",
    "\n",
    "# 각 데이터베이스에서 평균값 추출\n",
    "for db_file in db_files:\n",
    "    db_path = os.path.join(folder_path, db_file)\n",
    "\n",
    "    # 데이터베이스 연결\n",
    "    conn = sqlite3.connect(db_path)\n",
    "\n",
    "    # 데이터 읽기\n",
    "    query = f\"SELECT {', '.join(numeric_columns)} FROM DATACOLLECTIONMEASUREMENT_EvaluationTimeIntervalClass\"\n",
    "    df = pd.read_sql_query(query, conn)\n",
    "\n",
    "    # 연결 종료\n",
    "    conn.close()\n",
    "\n",
    "    # 컬럼별 평균값 계산\n",
    "    avg_values = df.mean().to_dict()  # DataFrame → Dictionary 변환\n",
    "    avg_values[\"DB_FILE\"] = db_file  # 파일명 추가\n",
    "\n",
    "    # 리스트에 저장\n",
    "    all_data.append(avg_values)\n",
    "\n",
    "# 최종 데이터프레임 생성\n",
    "result_df = pd.DataFrame(all_data)\n",
    "\n",
    "# 전체 평균값 (10개의 DB에 대한 평균)\n",
    "final_avg = result_df.mean(numeric_only=True)\n",
    "\n",
    "# 결과 출력\n",
    "print(\"각 데이터베이스의 평균값:\")\n",
    "print(result_df)\n",
    "\n",
    "print(\"\\n10개 DB의 전체 평균값:\")\n",
    "print(final_avg)\n",
    "\n",
    "# CSV 파일로 저장 (선택 사항)\n",
    "result_df.to_csv(\"db_summary.csv\", index=False)\n",
    "final_avg.to_csv(\"db_overall_avg.csv\", index=True)\n"
   ],
   "outputs": [
    {
     "name": "stdout",
     "output_type": "stream",
     "text": [
      "각 데이터베이스의 평균값:\n",
      "   ACCELERATION         DIST    LENGTH       VEHS       PERS  QUEUEDELAY  \\\n",
      "0      0.036772  7922.821868  5.289805  63.976667  63.976667   42.672229   \n",
      "1      0.040065  7919.035944  5.282851  64.746111  64.746111   28.962803   \n",
      "2      0.038015  7948.248456  5.275192  61.590833  61.590833   71.223777   \n",
      "3      0.040183  7968.527892  5.261606  63.161944  63.161944   58.594637   \n",
      "4      0.036161  7964.965486  5.316481  62.260556  62.260556   63.420654   \n",
      "5      0.038834  7994.131009  5.260386  62.598333  62.598333   88.783816   \n",
      "6      0.050804  7919.615173  5.222190  64.730000  64.730000   33.185602   \n",
      "7      0.029185  7970.070249  5.263966  62.263889  62.263889   97.718866   \n",
      "8      0.034428  7939.756246  5.250003  64.217500  64.217500   51.577341   \n",
      "9      0.037952  7904.864518  5.330216  64.017222  64.017222   39.343446   \n",
      "\n",
      "   SPEEDAVGARITH  SPEEDAVGHARM  OCCUPRATE DB_FILE  \n",
      "0      91.197486     89.331444   0.235998    1.db  \n",
      "1      92.991264     91.171618   0.226591    2.db  \n",
      "2      89.861267     87.698174   0.250065    3.db  \n",
      "3      92.337336     90.315907   0.235447    4.db  \n",
      "4      91.694089     89.584446   0.241476    5.db  \n",
      "5      91.618090     89.835729   0.243796    6.db  \n",
      "6      92.380464     90.308019   0.230962    7.db  \n",
      "7      91.067459     88.989803   0.243174    8.db  \n",
      "8      92.873980     90.951851   0.231764    9.db  \n",
      "9      91.371669     89.519162   0.236261   10.db  \n",
      "\n",
      "10개 DB의 전체 평균값:\n",
      "ACCELERATION        0.038240\n",
      "DIST             7945.203684\n",
      "LENGTH              5.275270\n",
      "VEHS               63.356306\n",
      "PERS               63.356306\n",
      "QUEUEDELAY         57.548317\n",
      "SPEEDAVGARITH      91.739310\n",
      "SPEEDAVGHARM       89.770615\n",
      "OCCUPRATE           0.237553\n",
      "dtype: float64\n"
     ]
    }
   ],
   "execution_count": 1
  }
 ],
 "metadata": {
  "kernelspec": {
   "display_name": "Python 3",
   "language": "python",
   "name": "python3"
  },
  "language_info": {
   "codemirror_mode": {
    "name": "ipython",
    "version": 2
   },
   "file_extension": ".py",
   "mimetype": "text/x-python",
   "name": "python",
   "nbconvert_exporter": "python",
   "pygments_lexer": "ipython2",
   "version": "2.7.6"
  }
 },
 "nbformat": 4,
 "nbformat_minor": 5
}
