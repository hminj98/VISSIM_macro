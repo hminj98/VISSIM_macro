{
 "cells": [
  {
   "cell_type": "code",
   "id": "initial_id",
   "metadata": {
    "collapsed": true,
    "ExecuteTime": {
     "end_time": "2025-03-06T03:32:04.992157Z",
     "start_time": "2025-03-06T03:31:19.892379Z"
    }
   },
   "source": [
    "import csv\n",
    "\n",
    "import pandas as pd\n",
    "import win32com.client  # Windows COM 인터페이스 사용\n",
    "\n",
    "\n",
    "\n",
    "\n",
    "# VISSIM 실행 및 연결\n",
    "Vissim = win32com.client.Dispatch(\"Vissim.Vissim\")  # Vissim 인스턴스 생성\n",
    "\n",
    "# VISSIM 네트워크 파일 (.inpx) 로드\n",
    "network_path = r\"C:\\VISSIM_Workspace\\test\\test.inpx\"  # 실제 파일 경로 입력\n",
    "\n",
    "Vissim.LoadNet(network_path)\n",
    "\n",
    "\n",
    "# Vehicle Input 리스트 가져오기\n",
    "vehicle_inputs = Vissim.Net.VehicleInputs.GetAll()\n",
    "\n",
    "\n",
    "count = len(vehicle_inputs)\n",
    "\n",
    "# 값 가져오기\n",
    "for i in range(count):\n",
    "    link_number = i+1\n",
    "    link_name = Vissim.Net.VehicleInputs.ItemByKey(link_number).AttValue('Name')\n",
    "    volume = Vissim.Net.VehicleInputs.ItemByKey(link_number).AttValue('Volume(1)') # Volumn은 1 고정\n",
    "    print(f\"Link {link_number} - Link_name {link_name} - Volume: {volume}\")\n",
    "\n",
    "# 변수 리스트 설정\n",
    "new_names = [\"a\", \"b\"]\n",
    "new_volume = [\"100\", \"200\"]\n",
    "\n",
    "# 값 변경\n",
    "for i in range(count):\n",
    "  Vissim.Net.VehicleInputs.ItemByKey(i+1).SetAttValue('Name', new_names[i])\n",
    "  Vissim.Net.VehicleInputs.ItemByKey(i+1).SetAttValue('Volume(1)', new_volume[i])\n",
    "\n",
    "for i in range(count):\n",
    "    link_number = i+1\n",
    "    link_name = Vissim.Net.VehicleInputs.ItemByKey(link_number).AttValue('Name')\n",
    "    volume = Vissim.Net.VehicleInputs.ItemByKey(link_number).AttValue('Volume(1)') # Volumn은 1 고정\n",
    "    print(f\"Link {link_number} - Link_name {link_name} - Volume: {volume}\")\n",
    "\n",
    "print(\"VISSIM 시뮬레이션 실행 중...\")\n",
    "Vissim.Simulation.RunContinuous()\n",
    "#\n",
    "Vissim.Simulation.Stop()\n",
    "print(\"VISSIM 시뮬레이션 종료\")\n",
    "\n",
    "# data_collection = Vissim.Net.DataCollectionMeasurements.GetAll()\n",
    "\n",
    "\n",
    "# for i in range(len_data):\n",
    "    # print(f\"data_collection{i+1} : \", Vissim.Net.DataCollectionMeasurements.ItemByKey(i+1).AttValue(f\"Length      (AVG,{i+1},All)\"))\n",
    "\n",
    "\n",
    "\n",
    "\n",
    "# Vissim.Exit()  # VISSIM 종료\n",
    "\n"
   ],
   "outputs": [
    {
     "name": "stdout",
     "output_type": "stream",
     "text": [
      "Link 1 - Link_name a - Volume: 100.0\n",
      "Link 2 - Link_name b - Volume: 200.0\n",
      "Link 1 - Link_name a - Volume: 100.0\n",
      "Link 2 - Link_name b - Volume: 200.0\n",
      "VISSIM 시뮬레이션 실행 중...\n",
      "VISSIM 시뮬레이션 종료\n"
     ]
    }
   ],
   "execution_count": 4
  },
  {
   "metadata": {},
   "cell_type": "code",
   "outputs": [],
   "execution_count": null,
   "source": "",
   "id": "33888157d14320dc"
  }
 ],
 "metadata": {
  "kernelspec": {
   "display_name": "Python 3",
   "language": "python",
   "name": "python3"
  },
  "language_info": {
   "codemirror_mode": {
    "name": "ipython",
    "version": 2
   },
   "file_extension": ".py",
   "mimetype": "text/x-python",
   "name": "python",
   "nbconvert_exporter": "python",
   "pygments_lexer": "ipython2",
   "version": "2.7.6"
  }
 },
 "nbformat": 4,
 "nbformat_minor": 5
}
