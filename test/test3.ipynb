{
 "cells": [
  {
   "cell_type": "code",
   "id": "initial_id",
   "metadata": {
    "collapsed": true,
    "ExecuteTime": {
     "end_time": "2025-03-05T06:25:55.591421Z",
     "start_time": "2025-03-05T06:24:19.201669Z"
    }
   },
   "source": [
    "import csv\n",
    "\n",
    "import win32com.client  # Windows COM 인터페이스 사용\n",
    "\n",
    "# VISSIM 실행 및 연결\n",
    "Vissim = win32com.client.Dispatch(\"Vissim.Vissim\")  # Vissim 인스턴스 생성\n",
    "\n",
    "# VISSIM 네트워크 파일 (.inpx) 로드\n",
    "network_path = r\"C:\\VISSIM_Workspace\\test\\test.inpx\"  # 실제 파일 경로 입력\n",
    "Vissim.LoadNet(network_path)\n",
    "\n",
    "\n",
    "# Vehicle Input 리스트 가져오기\n",
    "vehicle_inputs = Vissim.Net.VehicleInputs.GetAll()\n",
    "count = len(vehicle_inputs)\n",
    "\n",
    "# 값 가져오기\n",
    "for i in range(count):\n",
    "    link_number = i+1\n",
    "    link_name = Vissim.Net.VehicleInputs.ItemByKey(link_number).AttValue('Name')\n",
    "    volume = Vissim.Net.VehicleInputs.ItemByKey(link_number).AttValue('Volume(1)') # Volumn은 1 고정\n",
    "    print(f\"Link {link_number} - Link_name {link_name} - Volume: {volume}\")\n",
    "\n",
    "# 변수 리스트 설정\n",
    "new_names = [\"hi\", \"hello\"]\n",
    "new_volume = [\"400\", \"500\"]\n",
    "\n",
    "# 값 변경\n",
    "for i in range(count):\n",
    "  Vissim.Net.VehicleInputs.ItemByKey(i+1).SetAttValue('Name', new_names[i])\n",
    "  Vissim.Net.VehicleInputs.ItemByKey(i+1).SetAttValue('Volume(1)', new_volume[i])\n",
    "\n",
    "for i in range(count):\n",
    "    link_number = i+1\n",
    "    link_name = Vissim.Net.VehicleInputs.ItemByKey(link_number).AttValue('Name')\n",
    "    volume = Vissim.Net.VehicleInputs.ItemByKey(link_number).AttValue('Volume(1)') # Volumn은 1 고정\n",
    "    print(f\"Link {link_number} - Link_name {link_name} - Volume: {volume}\")\n",
    "\n",
    "print(\"VISSIM 시뮬레이션 실행 중...\")\n",
    "Vissim.Simulation.RunContinuous()\n",
    "\n",
    "save_path = r\"C:\\VISSIM_Workspace\\test\\test_Vehicle_Inputs.csv\"\n",
    "\n",
    "# CSV 파일로 저장\n",
    "with open(save_path, mode='w', newline='') as file:\n",
    "    writer = csv.writer(file)\n",
    "    writer.writerow([\"NO\", \"NAME\", \"LINK\", \"VOLUME(1)\", \"VEHCOMP(1)\"])  # 헤더 작성\n",
    "\n",
    "    for vi in vehicle_inputs:\n",
    "        no = vi.AttValue(\"No\")\n",
    "        name = vi.AttValue(\"Name\")\n",
    "        link_number = vi.AttValue(\"Link\")\n",
    "        volume = vi.AttValue(\"Volume(1)\")\n",
    "        vehComp = vi.AttValue(\"VehComp(1)\")\n",
    "        writer.writerow([no, name, link_number, volume, vehComp])\n",
    "\n",
    "# VISSIM 시뮬레이션 종료\n",
    "Vissim.Simulation.Stop()\n",
    "print(\"VISSIM 시뮬레이션 종료\")\n",
    "\n",
    "Vissim.Exit()  # VISSIM 종료\n"
   ],
   "outputs": [
    {
     "name": "stdout",
     "output_type": "stream",
     "text": [
      "Link 1 - Link_name hi - Volume: 2000.0\n",
      "Link 2 - Link_name hello - Volume: 3000.0\n",
      "Link 1 - Link_name hi - Volume: 400.0\n",
      "Link 2 - Link_name hello - Volume: 500.0\n",
      "VISSIM 시뮬레이션 실행 중...\n"
     ]
    }
   ],
   "execution_count": 2
  }
 ],
 "metadata": {
  "kernelspec": {
   "display_name": "Python 3",
   "language": "python",
   "name": "python3"
  },
  "language_info": {
   "codemirror_mode": {
    "name": "ipython",
    "version": 2
   },
   "file_extension": ".py",
   "mimetype": "text/x-python",
   "name": "python",
   "nbconvert_exporter": "python",
   "pygments_lexer": "ipython2",
   "version": "2.7.6"
  }
 },
 "nbformat": 4,
 "nbformat_minor": 5
}
