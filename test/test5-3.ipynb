{
 "cells": [
  {
   "cell_type": "code",
   "id": "initial_id",
   "metadata": {
    "collapsed": true,
    "ExecuteTime": {
     "end_time": "2025-03-10T00:12:22.941037Z",
     "start_time": "2025-03-10T00:10:22.427720Z"
    }
   },
   "source": [
    "import win32com.client  # Windows COM 인터페이스 사용\n",
    "import os\n",
    "import signal\n",
    "import subprocess\n",
    "\n",
    "def terminate_vissim():\n",
    "    result = subprocess.run([\"tasklist\"], capture_output=True, text=True)\n",
    "    for line in result.stdout.split(\"\\n\"):\n",
    "        if \"VISSIM\" in line:\n",
    "            parts = line.split()\n",
    "            pid = int(parts[1])\n",
    "            os.kill(pid, signal.SIGTERM)\n",
    "            print(f\"VISSIM 프로세스 종료됨 (PID: {pid})\")\n",
    "\n",
    "terminate_vissim()  # 기존 VISSIM 종료 후 새 인스턴스 생성\n",
    "\n",
    "Vissim = win32com.client.Dispatch(\"Vissim.Vissim\")\n"
   ],
   "outputs": [
    {
     "ename": "com_error",
     "evalue": "(-2146959355, '서버 실행이 실패했습니다.', None, None)",
     "output_type": "error",
     "traceback": [
      "\u001B[1;31m---------------------------------------------------------------------------\u001B[0m",
      "\u001B[1;31mcom_error\u001B[0m                                 Traceback (most recent call last)",
      "\u001B[1;32mC:\\Workspace\\vissimTest_Python\\.venv\\lib\\site-packages\\win32com\\client\\dynamic.py\u001B[0m in \u001B[0;36m_GetGoodDispatch\u001B[1;34m(IDispatch, clsctx)\u001B[0m\n\u001B[0;32m     79\u001B[0m         \u001B[1;32mtry\u001B[0m\u001B[1;33m:\u001B[0m\u001B[1;33m\u001B[0m\u001B[1;33m\u001B[0m\u001B[0m\n\u001B[1;32m---> 80\u001B[1;33m             \u001B[0mIDispatch\u001B[0m \u001B[1;33m=\u001B[0m \u001B[0mpythoncom\u001B[0m\u001B[1;33m.\u001B[0m\u001B[0mconnect\u001B[0m\u001B[1;33m(\u001B[0m\u001B[0mIDispatch\u001B[0m\u001B[1;33m)\u001B[0m\u001B[1;33m\u001B[0m\u001B[1;33m\u001B[0m\u001B[0m\n\u001B[0m\u001B[0;32m     81\u001B[0m         \u001B[1;32mexcept\u001B[0m \u001B[0mpythoncom\u001B[0m\u001B[1;33m.\u001B[0m\u001B[0mole_error\u001B[0m\u001B[1;33m:\u001B[0m\u001B[1;33m\u001B[0m\u001B[1;33m\u001B[0m\u001B[0m\n",
      "\u001B[1;31mcom_error\u001B[0m: (-2147221021, '작업을 사용할 수 없습니다.', None, None)",
      "\nDuring handling of the above exception, another exception occurred:\n",
      "\u001B[1;31mcom_error\u001B[0m                                 Traceback (most recent call last)",
      "\u001B[1;32mC:\\Users\\Public\\Documents\\ESTsoft\\CreatorTemp\\ipykernel_9532\\2098279496.py\u001B[0m in \u001B[0;36m<module>\u001B[1;34m\u001B[0m\n\u001B[0;32m     15\u001B[0m \u001B[0mterminate_vissim\u001B[0m\u001B[1;33m(\u001B[0m\u001B[1;33m)\u001B[0m  \u001B[1;31m# 기존 VISSIM 종료 후 새 인스턴스 생성\u001B[0m\u001B[1;33m\u001B[0m\u001B[1;33m\u001B[0m\u001B[0m\n\u001B[0;32m     16\u001B[0m \u001B[1;33m\u001B[0m\u001B[0m\n\u001B[1;32m---> 17\u001B[1;33m \u001B[0mVissim\u001B[0m \u001B[1;33m=\u001B[0m \u001B[0mwin32com\u001B[0m\u001B[1;33m.\u001B[0m\u001B[0mclient\u001B[0m\u001B[1;33m.\u001B[0m\u001B[0mDispatch\u001B[0m\u001B[1;33m(\u001B[0m\u001B[1;34m\"Vissim.Vissim\"\u001B[0m\u001B[1;33m)\u001B[0m\u001B[1;33m\u001B[0m\u001B[1;33m\u001B[0m\u001B[0m\n\u001B[0m\u001B[0;32m     18\u001B[0m \u001B[1;33m\u001B[0m\u001B[0m\n",
      "\u001B[1;32mC:\\Workspace\\vissimTest_Python\\.venv\\lib\\site-packages\\win32com\\client\\__init__.py\u001B[0m in \u001B[0;36mDispatch\u001B[1;34m(dispatch, userName, resultCLSID, typeinfo, clsctx)\u001B[0m\n\u001B[0;32m    112\u001B[0m ):\n\u001B[0;32m    113\u001B[0m     \u001B[1;34m\"\"\"Creates a Dispatch based COM object.\"\"\"\u001B[0m\u001B[1;33m\u001B[0m\u001B[1;33m\u001B[0m\u001B[0m\n\u001B[1;32m--> 114\u001B[1;33m     \u001B[0mdispatch\u001B[0m\u001B[1;33m,\u001B[0m \u001B[0muserName\u001B[0m \u001B[1;33m=\u001B[0m \u001B[0mdynamic\u001B[0m\u001B[1;33m.\u001B[0m\u001B[0m_GetGoodDispatchAndUserName\u001B[0m\u001B[1;33m(\u001B[0m\u001B[0mdispatch\u001B[0m\u001B[1;33m,\u001B[0m \u001B[0muserName\u001B[0m\u001B[1;33m,\u001B[0m \u001B[0mclsctx\u001B[0m\u001B[1;33m)\u001B[0m\u001B[1;33m\u001B[0m\u001B[1;33m\u001B[0m\u001B[0m\n\u001B[0m\u001B[0;32m    115\u001B[0m     \u001B[1;32mreturn\u001B[0m \u001B[0m__WrapDispatch\u001B[0m\u001B[1;33m(\u001B[0m\u001B[0mdispatch\u001B[0m\u001B[1;33m,\u001B[0m \u001B[0muserName\u001B[0m\u001B[1;33m,\u001B[0m \u001B[0mresultCLSID\u001B[0m\u001B[1;33m,\u001B[0m \u001B[0mtypeinfo\u001B[0m\u001B[1;33m,\u001B[0m \u001B[0mclsctx\u001B[0m\u001B[1;33m=\u001B[0m\u001B[0mclsctx\u001B[0m\u001B[1;33m)\u001B[0m\u001B[1;33m\u001B[0m\u001B[1;33m\u001B[0m\u001B[0m\n\u001B[0;32m    116\u001B[0m \u001B[1;33m\u001B[0m\u001B[0m\n",
      "\u001B[1;32mC:\\Workspace\\vissimTest_Python\\.venv\\lib\\site-packages\\win32com\\client\\dynamic.py\u001B[0m in \u001B[0;36m_GetGoodDispatchAndUserName\u001B[1;34m(IDispatch, userName, clsctx)\u001B[0m\n\u001B[0;32m     98\u001B[0m     \u001B[1;32melse\u001B[0m\u001B[1;33m:\u001B[0m\u001B[1;33m\u001B[0m\u001B[1;33m\u001B[0m\u001B[0m\n\u001B[0;32m     99\u001B[0m         \u001B[0muserName\u001B[0m \u001B[1;33m=\u001B[0m \u001B[0mstr\u001B[0m\u001B[1;33m(\u001B[0m\u001B[0muserName\u001B[0m\u001B[1;33m)\u001B[0m\u001B[1;33m\u001B[0m\u001B[1;33m\u001B[0m\u001B[0m\n\u001B[1;32m--> 100\u001B[1;33m     \u001B[1;32mreturn\u001B[0m \u001B[1;33m(\u001B[0m\u001B[0m_GetGoodDispatch\u001B[0m\u001B[1;33m(\u001B[0m\u001B[0mIDispatch\u001B[0m\u001B[1;33m,\u001B[0m \u001B[0mclsctx\u001B[0m\u001B[1;33m)\u001B[0m\u001B[1;33m,\u001B[0m \u001B[0muserName\u001B[0m\u001B[1;33m)\u001B[0m\u001B[1;33m\u001B[0m\u001B[1;33m\u001B[0m\u001B[0m\n\u001B[0m\u001B[0;32m    101\u001B[0m \u001B[1;33m\u001B[0m\u001B[0m\n\u001B[0;32m    102\u001B[0m \u001B[1;33m\u001B[0m\u001B[0m\n",
      "\u001B[1;32mC:\\Workspace\\vissimTest_Python\\.venv\\lib\\site-packages\\win32com\\client\\dynamic.py\u001B[0m in \u001B[0;36m_GetGoodDispatch\u001B[1;34m(IDispatch, clsctx)\u001B[0m\n\u001B[0;32m     81\u001B[0m         \u001B[1;32mexcept\u001B[0m \u001B[0mpythoncom\u001B[0m\u001B[1;33m.\u001B[0m\u001B[0mole_error\u001B[0m\u001B[1;33m:\u001B[0m\u001B[1;33m\u001B[0m\u001B[1;33m\u001B[0m\u001B[0m\n\u001B[0;32m     82\u001B[0m             IDispatch = pythoncom.CoCreateInstance(\n\u001B[1;32m---> 83\u001B[1;33m                 \u001B[0mIDispatch\u001B[0m\u001B[1;33m,\u001B[0m \u001B[1;32mNone\u001B[0m\u001B[1;33m,\u001B[0m \u001B[0mclsctx\u001B[0m\u001B[1;33m,\u001B[0m \u001B[0mpythoncom\u001B[0m\u001B[1;33m.\u001B[0m\u001B[0mIID_IDispatch\u001B[0m\u001B[1;33m\u001B[0m\u001B[1;33m\u001B[0m\u001B[0m\n\u001B[0m\u001B[0;32m     84\u001B[0m             )\n\u001B[0;32m     85\u001B[0m     \u001B[1;32melse\u001B[0m\u001B[1;33m:\u001B[0m\u001B[1;33m\u001B[0m\u001B[1;33m\u001B[0m\u001B[0m\n",
      "\u001B[1;31mcom_error\u001B[0m: (-2146959355, '서버 실행이 실패했습니다.', None, None)"
     ]
    }
   ],
   "execution_count": 1
  },
  {
   "metadata": {},
   "cell_type": "code",
   "outputs": [],
   "execution_count": null,
   "source": "",
   "id": "9812b555c2bab633"
  }
 ],
 "metadata": {
  "kernelspec": {
   "display_name": "Python 3",
   "language": "python",
   "name": "python3"
  },
  "language_info": {
   "codemirror_mode": {
    "name": "ipython",
    "version": 2
   },
   "file_extension": ".py",
   "mimetype": "text/x-python",
   "name": "python",
   "nbconvert_exporter": "python",
   "pygments_lexer": "ipython2",
   "version": "2.7.6"
  }
 },
 "nbformat": 4,
 "nbformat_minor": 5
}
