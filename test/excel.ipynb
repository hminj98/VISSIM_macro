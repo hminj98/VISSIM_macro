{
 "cells": [
  {
   "metadata": {
    "collapsed": true,
    "ExecuteTime": {
     "end_time": "2025-03-12T02:29:54.253360Z",
     "start_time": "2025-03-12T02:29:52.965451Z"
    }
   },
   "cell_type": "code",
   "source": [
    "import os\n",
    "import pandas as pd\n",
    "\"\"\"엑셀 파일 데이터 변환\"\"\"\n",
    "# ✅ Excel 파일이 있는 폴더 경로\n",
    "folder_path = r\"C:\\VISSIM_Workspace\\network_test\\network01_output\"\n",
    "\n",
    "siml_count = 10  # 시뮬레이션 횟수\n",
    "\n",
    "# ✅ 폴더 내 모든 .xlsx 파일 가져오기\n",
    "#xlsx_files = sorted([f for f in os.listdir(folder_path) if f.endswith(\".xlsx\")])\n",
    "xlsx_files = [\"7_output.xlsx\"]\n",
    "print(xlsx_files)\n",
    "# ✅ 파일 처리\n",
    "for file_name in xlsx_files:\n",
    "    file_path = os.path.join(folder_path, file_name)\n",
    "\n",
    "    # 🔹 Excel 파일 읽기\n",
    "    df = pd.read_excel(file_path)\n",
    "\n",
    "    # 🔹 특정 컬럼의 모든 값을 10으로 변경\n",
    "    if \"SIMRUN\" in df.columns:\n",
    "        df[\"SIMRUN\"] = 10  # 모든 값을 10으로 설정\n",
    "    if \"ACCELERATION(ALL)\" in df.columns:\n",
    "        df[\"ACCELERATION(ALL)\"] = round(df[\"ACCELERATION(ALL)\"],2)  # 모든 값을 10으로 설정\n",
    "    if \"DIST(ALL)\" in df.columns:\n",
    "        df[\"DIST(ALL)\"] = round(df[\"LENGTH(ALL)\"],2)  # 모든 값을 10으로 설정\n",
    "    if \"LENGTH(ALL)\" in df.columns:\n",
    "        df[\"LENGTH(ALL)\"] = round(df[\"LENGTH(ALL)\"],2)  # 모든 값을 10으로 설정\n",
    "\n",
    "    if \"QUEUEDELAY(ALL)\" in df.columns:\n",
    "        df[\"QUEUEDELAY(ALL)\"] = round(df[\"QUEUEDELAY(ALL)\"],2)  # 모든 값을 10으로 설정\n",
    "    if \"SPEEDAVGARITH(ALL)\" in df.columns:\n",
    "        df[\"SPEEDAVGARITH(ALL)\"] = round(df[\"SPEEDAVGARITH(ALL)\"],2)  # 모든 값을 10으로 설정\n",
    "    if \"SPEEDAVGHARM(ALL)\" in df.columns:\n",
    "        df[\"SPEEDAVGHARM(ALL)\"] = round(df[\"SPEEDAVGHARM(ALL)\"],2)  # 모든 값을 10으로 설정\n",
    "    df[\"SIMRUN\"] = siml_count\n",
    " # 순서 재정의\n",
    "    df = df[[\"SIMRUN\", \"TIMEINT\", \"DATACOLLECTIONMEASUREMENT\", \"ACCELERATION(ALL)\", \"DIST(ALL)\",\n",
    "         \"LENGTH(ALL)\", \"VEHS(ALL)\", \"PERS(ALL)\", \"QUEUEDELAY(ALL)\", \"SPEEDAVGARITH(ALL)\", \"SPEEDAVGHARM(ALL)\", \"OCCUPRATE(ALL)\"]]\n",
    "    # 🔹 변경된 데이터 저장 (덮어쓰기)\n",
    "    df.to_excel(file_path, index=False)\n",
    "    print(f\"✔ 파일 저장 완료: {file_path}\")\n",
    "print(\"✅ 모든 Excel 파일 업데이트 완료!\")\n"
   ],
   "id": "initial_id",
   "outputs": [
    {
     "name": "stdout",
     "output_type": "stream",
     "text": [
      "['7_output.xlsx']\n",
      "✔ 파일 저장 완료: C:\\VISSIM_Workspace\\network_test\\network01_output\\7_output.xlsx\n",
      "✅ 모든 Excel 파일 업데이트 완료!\n"
     ]
    }
   ],
   "execution_count": 19
  },
  {
   "metadata": {},
   "cell_type": "markdown",
   "source": "",
   "id": "7155b37dc7471574"
  },
  {
   "metadata": {},
   "cell_type": "code",
   "source": "",
   "id": "9812b555c2bab633",
   "outputs": [],
   "execution_count": null
  }
 ],
 "metadata": {
  "kernelspec": {
   "display_name": "Python 3",
   "language": "python",
   "name": "python3"
  },
  "language_info": {
   "codemirror_mode": {
    "name": "ipython",
    "version": 2
   },
   "file_extension": ".py",
   "mimetype": "text/x-python",
   "name": "python",
   "nbconvert_exporter": "python",
   "pygments_lexer": "ipython2",
   "version": "2.7.6"
  }
 },
 "nbformat": 4,
 "nbformat_minor": 5
}
