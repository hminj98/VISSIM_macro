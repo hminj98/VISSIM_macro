{
 "cells": [
  {
   "cell_type": "code",
   "id": "initial_id",
   "metadata": {
    "collapsed": true,
    "ExecuteTime": {
     "end_time": "2025-03-10T02:10:04.028916Z",
     "start_time": "2025-03-10T02:10:04.010857Z"
    }
   },
   "source": [
    "import os\n",
    "import xml.etree.ElementTree as ET\n",
    "\n",
    "\n",
    "# 폴더 경로 설정\n",
    "folder_path = r\"C:\\VISSIM_Workspace\\test3\"  # 폴더 경로 입력 받아야함 추후에 함수에 파라미터로 처리 예정\n",
    "# 폴더 내 파일 목록 가져오기\n",
    "file_list = os.listdir(folder_path)\n",
    "inpx_files = [file for file in file_list if file.endswith(\".inpx\")]\n",
    "\n",
    "for i in range(1):\n",
    "    file_name = inpx_files[i]\n",
    "    print(\"file_name : \", file_name)\n",
    "    file_path = folder_path + \"\\\\\" +file_name\n",
    "    print(\"file_path : \", file_path)\n",
    "    tree =  ET.parse(file_path)\n",
    "    root = tree.getroot()\n",
    "\n",
    "    # <vehicleCompositions> 태그 내 <vehicleComposition name=\"Default\"> 찾기\n",
    "    for vehicle_comp in root.findall(\".//vehicleComposition\"):\n",
    "        if vehicle_comp.get(\"name\") == \"test\":\n",
    "            print(f\"Found <vehicleComposition> with name: {vehicle_comp.get('name')}\")\n",
    "\n",
    "            # <vehCompRelFlows> 태그 찾기\n",
    "            vehCompRelFlows = vehicle_comp.find(\"vehCompRelFlows\")\n",
    "            if vehCompRelFlows is not None:\n",
    "                # <vehicleCompositionRelativeFlow> 태그 찾기\n",
    "                for relflow in vehCompRelFlows.findall(\"vehicleCompositionRelativeFlow\"):\n",
    "                    relflow_value = relflow.get(\"relFlow\")\n",
    "                    vehType = relflow.get(\"vehType\")\n",
    "                    if(vehType == \"200\"):\n",
    "                        print(f\"vehType: {vehType}, relFlow: {relflow_value}\")\n",
    "\n",
    "    # 변경된 XML을 원본 파일에 덮어쓰기\n",
    "    #tree.write(file_path, encoding=\"utf-8\", xml_declaration=True)\n",
    "    #print(f\"파일이 수정되어 저장되었습니다: {file_path}\")"
   ],
   "outputs": [
    {
     "name": "stdout",
     "output_type": "stream",
     "text": [
      "file_name :  test.inpx\n",
      "file_path :  C:\\VISSIM_Workspace\\test3\\test.inpx\n",
      "Found <vehicleComposition> with name: test\n",
      "vehType: 200, relFlow: 0.05\n"
     ]
    }
   ],
   "execution_count": 21
  },
  {
   "metadata": {},
   "cell_type": "code",
   "outputs": [],
   "execution_count": null,
   "source": "\"",
   "id": "9812b555c2bab633"
  }
 ],
 "metadata": {
  "kernelspec": {
   "display_name": "Python 3",
   "language": "python",
   "name": "python3"
  },
  "language_info": {
   "codemirror_mode": {
    "name": "ipython",
    "version": 2
   },
   "file_extension": ".py",
   "mimetype": "text/x-python",
   "name": "python",
   "nbconvert_exporter": "python",
   "pygments_lexer": "ipython2",
   "version": "2.7.6"
  }
 },
 "nbformat": 4,
 "nbformat_minor": 5
}
