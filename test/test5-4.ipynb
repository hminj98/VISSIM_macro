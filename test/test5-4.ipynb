{
 "cells": [
  {
   "cell_type": "code",
   "id": "initial_id",
   "metadata": {
    "collapsed": true,
    "ExecuteTime": {
     "end_time": "2025-03-10T04:51:11.451454Z",
     "start_time": "2025-03-10T04:51:11.430352Z"
    }
   },
   "source": [
    "import numpy as np\n",
    "\n",
    "vehicle1 = np.array([86.24, 81.70, 77.16, 72.62, 68.09, 63.55])\n",
    "vehicle2 = np.array([8.76, 8.30, 7.84, 7.38, 6.91, 6.45])\n",
    "vehicle3 = np.array([3.56, 7.13, 10.69, 14.26, 17.82, 21.38])\n",
    "vehicle4 = np.array([1.27, 2.53, 3.80, 5.07, 6.34, 7.60])\n",
    "vehicle5 = np.array([0.17, 0.34, 0.51, 0.68, 0.84, 1.01])\n",
    "vehicle = np.array([vehicle1[0], vehicle2[0], vehicle3[0], vehicle4[0], vehicle5[0]])*0.01\n",
    "print(vehicle)\n",
    "print(round(vehicle[0],4))"
   ],
   "outputs": [
    {
     "name": "stdout",
     "output_type": "stream",
     "text": [
      "[0.8624 0.0876 0.0356 0.0127 0.0017]\n",
      "0.8624\n"
     ]
    }
   ],
   "execution_count": 25
  },
  {
   "metadata": {},
   "cell_type": "code",
   "outputs": [],
   "execution_count": null,
   "source": "",
   "id": "9812b555c2bab633"
  }
 ],
 "metadata": {
  "kernelspec": {
   "display_name": "Python 3",
   "language": "python",
   "name": "python3"
  },
  "language_info": {
   "codemirror_mode": {
    "name": "ipython",
    "version": 2
   },
   "file_extension": ".py",
   "mimetype": "text/x-python",
   "name": "python",
   "nbconvert_exporter": "python",
   "pygments_lexer": "ipython2",
   "version": "2.7.6"
  }
 },
 "nbformat": 4,
 "nbformat_minor": 5
}
