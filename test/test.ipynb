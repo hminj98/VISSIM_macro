{
 "cells": [
  {
   "cell_type": "code",
   "id": "initial_id",
   "metadata": {
    "collapsed": true,
    "ExecuteTime": {
     "end_time": "2025-03-07T00:11:12.285941Z",
     "start_time": "2025-03-07T00:09:12.112550Z"
    }
   },
   "source": [
    "import win32com.client  # Windows COM 인터페이스 사용\n",
    "\n",
    "# VISSIM 실행 및 연결\n",
    "Vissim = win32com.client.Dispatch(\"Vissim.Vissim\")  # Vissim 인스턴스 생성\n",
    "\n",
    "# VISSIM 네트워크 파일 (.inpx) 로드\n",
    "network_path = r\"C:\\VISSIM_Workspace\\test\\test.inpx\"  # 실제 파일 경로 입력\n",
    "Vissim.LoadNet(network_path)\n",
    "\n",
    "# Links Input 갯수\n",
    "count = len(Vissim.Net.Links.GetAll()) # 링크 갯수\n",
    "print(\"count : \" ,count)\n",
    "\n",
    "# Vehicle Input 리스트 가져오기\n",
    "vehicle_inputs = Vissim.Net.VehicleInputs.GetAll()\n",
    "\n",
    "# 값 가져오기\n",
    "for i in range(count):\n",
    "    link_number = i+1\n",
    "    link_name = Vissim.Net.Links.ItemByKey(link_number).AttValue('Name')\n",
    "    volume = Vissim.Net.VehicleInputs.ItemByKey(link_number).AttValue('Volume(1)') # Volumn은 1 고정\n",
    "    print(f\"Link {link_number} - Volume: {volume}\")\n",
    "\n",
    "# 변수 리스트 설정\n",
    "new_names = [\"hi\", \"hello\"]\n",
    "new_volume = [\"10000\", \"20000\"]\n",
    "\n",
    "# 값 변경\n",
    "for i in range(count):\n",
    "  Vissim.Net.Links.ItemByKey(i+1).SetAttValue('Name', new_names[i])\n",
    "  Vissim.Net.VehicleInputs.ItemByKey(i+1).SetAttValue('Volume(1)', new_volume[i])\n",
    "\n",
    "for i in range(count):\n",
    "    link_number = i+1\n",
    "    link_name = Vissim.Net.Links.ItemByKey(link_number).AttValue('Name')\n",
    "    volume = Vissim.Net.VehicleInputs.ItemByKey(link_number).AttValue('Volume(1)') # Volumn은 1 고정\n",
    "    print(f\"Link {link_number} - Volume: {volume}\")\n",
    "\n",
    "#Vissim.Exit()  # VISSIM 종료\n"
   ],
   "outputs": [
    {
     "ename": "com_error",
     "evalue": "(-2146959355, '서버 실행이 실패했습니다.', None, None)",
     "output_type": "error",
     "traceback": [
      "\u001B[1;31m---------------------------------------------------------------------------\u001B[0m",
      "\u001B[1;31mcom_error\u001B[0m                                 Traceback (most recent call last)",
      "\u001B[1;32mC:\\Workspace\\vissimTest_Python\\.venv\\lib\\site-packages\\win32com\\client\\dynamic.py\u001B[0m in \u001B[0;36m_GetGoodDispatch\u001B[1;34m(IDispatch, clsctx)\u001B[0m\n\u001B[0;32m     79\u001B[0m         \u001B[1;32mtry\u001B[0m\u001B[1;33m:\u001B[0m\u001B[1;33m\u001B[0m\u001B[1;33m\u001B[0m\u001B[0m\n\u001B[1;32m---> 80\u001B[1;33m             \u001B[0mIDispatch\u001B[0m \u001B[1;33m=\u001B[0m \u001B[0mpythoncom\u001B[0m\u001B[1;33m.\u001B[0m\u001B[0mconnect\u001B[0m\u001B[1;33m(\u001B[0m\u001B[0mIDispatch\u001B[0m\u001B[1;33m)\u001B[0m\u001B[1;33m\u001B[0m\u001B[1;33m\u001B[0m\u001B[0m\n\u001B[0m\u001B[0;32m     81\u001B[0m         \u001B[1;32mexcept\u001B[0m \u001B[0mpythoncom\u001B[0m\u001B[1;33m.\u001B[0m\u001B[0mole_error\u001B[0m\u001B[1;33m:\u001B[0m\u001B[1;33m\u001B[0m\u001B[1;33m\u001B[0m\u001B[0m\n",
      "\u001B[1;31mcom_error\u001B[0m: (-2147221021, '작업을 사용할 수 없습니다.', None, None)",
      "\nDuring handling of the above exception, another exception occurred:\n",
      "\u001B[1;31mcom_error\u001B[0m                                 Traceback (most recent call last)",
      "\u001B[1;32mC:\\Users\\Public\\Documents\\ESTsoft\\CreatorTemp\\ipykernel_23112\\531548099.py\u001B[0m in \u001B[0;36m<module>\u001B[1;34m\u001B[0m\n\u001B[0;32m      2\u001B[0m \u001B[1;33m\u001B[0m\u001B[0m\n\u001B[0;32m      3\u001B[0m \u001B[1;31m# VISSIM 실행 및 연결\u001B[0m\u001B[1;33m\u001B[0m\u001B[1;33m\u001B[0m\u001B[1;33m\u001B[0m\u001B[0m\n\u001B[1;32m----> 4\u001B[1;33m \u001B[0mVissim\u001B[0m \u001B[1;33m=\u001B[0m \u001B[0mwin32com\u001B[0m\u001B[1;33m.\u001B[0m\u001B[0mclient\u001B[0m\u001B[1;33m.\u001B[0m\u001B[0mDispatch\u001B[0m\u001B[1;33m(\u001B[0m\u001B[1;34m\"Vissim.Vissim\"\u001B[0m\u001B[1;33m)\u001B[0m  \u001B[1;31m# Vissim 인스턴스 생성\u001B[0m\u001B[1;33m\u001B[0m\u001B[1;33m\u001B[0m\u001B[0m\n\u001B[0m\u001B[0;32m      5\u001B[0m \u001B[1;33m\u001B[0m\u001B[0m\n\u001B[0;32m      6\u001B[0m \u001B[1;31m# VISSIM 네트워크 파일 (.inpx) 로드\u001B[0m\u001B[1;33m\u001B[0m\u001B[1;33m\u001B[0m\u001B[1;33m\u001B[0m\u001B[0m\n",
      "\u001B[1;32mC:\\Workspace\\vissimTest_Python\\.venv\\lib\\site-packages\\win32com\\client\\__init__.py\u001B[0m in \u001B[0;36mDispatch\u001B[1;34m(dispatch, userName, resultCLSID, typeinfo, clsctx)\u001B[0m\n\u001B[0;32m    112\u001B[0m ):\n\u001B[0;32m    113\u001B[0m     \u001B[1;34m\"\"\"Creates a Dispatch based COM object.\"\"\"\u001B[0m\u001B[1;33m\u001B[0m\u001B[1;33m\u001B[0m\u001B[0m\n\u001B[1;32m--> 114\u001B[1;33m     \u001B[0mdispatch\u001B[0m\u001B[1;33m,\u001B[0m \u001B[0muserName\u001B[0m \u001B[1;33m=\u001B[0m \u001B[0mdynamic\u001B[0m\u001B[1;33m.\u001B[0m\u001B[0m_GetGoodDispatchAndUserName\u001B[0m\u001B[1;33m(\u001B[0m\u001B[0mdispatch\u001B[0m\u001B[1;33m,\u001B[0m \u001B[0muserName\u001B[0m\u001B[1;33m,\u001B[0m \u001B[0mclsctx\u001B[0m\u001B[1;33m)\u001B[0m\u001B[1;33m\u001B[0m\u001B[1;33m\u001B[0m\u001B[0m\n\u001B[0m\u001B[0;32m    115\u001B[0m     \u001B[1;32mreturn\u001B[0m \u001B[0m__WrapDispatch\u001B[0m\u001B[1;33m(\u001B[0m\u001B[0mdispatch\u001B[0m\u001B[1;33m,\u001B[0m \u001B[0muserName\u001B[0m\u001B[1;33m,\u001B[0m \u001B[0mresultCLSID\u001B[0m\u001B[1;33m,\u001B[0m \u001B[0mtypeinfo\u001B[0m\u001B[1;33m,\u001B[0m \u001B[0mclsctx\u001B[0m\u001B[1;33m=\u001B[0m\u001B[0mclsctx\u001B[0m\u001B[1;33m)\u001B[0m\u001B[1;33m\u001B[0m\u001B[1;33m\u001B[0m\u001B[0m\n\u001B[0;32m    116\u001B[0m \u001B[1;33m\u001B[0m\u001B[0m\n",
      "\u001B[1;32mC:\\Workspace\\vissimTest_Python\\.venv\\lib\\site-packages\\win32com\\client\\dynamic.py\u001B[0m in \u001B[0;36m_GetGoodDispatchAndUserName\u001B[1;34m(IDispatch, userName, clsctx)\u001B[0m\n\u001B[0;32m     98\u001B[0m     \u001B[1;32melse\u001B[0m\u001B[1;33m:\u001B[0m\u001B[1;33m\u001B[0m\u001B[1;33m\u001B[0m\u001B[0m\n\u001B[0;32m     99\u001B[0m         \u001B[0muserName\u001B[0m \u001B[1;33m=\u001B[0m \u001B[0mstr\u001B[0m\u001B[1;33m(\u001B[0m\u001B[0muserName\u001B[0m\u001B[1;33m)\u001B[0m\u001B[1;33m\u001B[0m\u001B[1;33m\u001B[0m\u001B[0m\n\u001B[1;32m--> 100\u001B[1;33m     \u001B[1;32mreturn\u001B[0m \u001B[1;33m(\u001B[0m\u001B[0m_GetGoodDispatch\u001B[0m\u001B[1;33m(\u001B[0m\u001B[0mIDispatch\u001B[0m\u001B[1;33m,\u001B[0m \u001B[0mclsctx\u001B[0m\u001B[1;33m)\u001B[0m\u001B[1;33m,\u001B[0m \u001B[0muserName\u001B[0m\u001B[1;33m)\u001B[0m\u001B[1;33m\u001B[0m\u001B[1;33m\u001B[0m\u001B[0m\n\u001B[0m\u001B[0;32m    101\u001B[0m \u001B[1;33m\u001B[0m\u001B[0m\n\u001B[0;32m    102\u001B[0m \u001B[1;33m\u001B[0m\u001B[0m\n",
      "\u001B[1;32mC:\\Workspace\\vissimTest_Python\\.venv\\lib\\site-packages\\win32com\\client\\dynamic.py\u001B[0m in \u001B[0;36m_GetGoodDispatch\u001B[1;34m(IDispatch, clsctx)\u001B[0m\n\u001B[0;32m     81\u001B[0m         \u001B[1;32mexcept\u001B[0m \u001B[0mpythoncom\u001B[0m\u001B[1;33m.\u001B[0m\u001B[0mole_error\u001B[0m\u001B[1;33m:\u001B[0m\u001B[1;33m\u001B[0m\u001B[1;33m\u001B[0m\u001B[0m\n\u001B[0;32m     82\u001B[0m             IDispatch = pythoncom.CoCreateInstance(\n\u001B[1;32m---> 83\u001B[1;33m                 \u001B[0mIDispatch\u001B[0m\u001B[1;33m,\u001B[0m \u001B[1;32mNone\u001B[0m\u001B[1;33m,\u001B[0m \u001B[0mclsctx\u001B[0m\u001B[1;33m,\u001B[0m \u001B[0mpythoncom\u001B[0m\u001B[1;33m.\u001B[0m\u001B[0mIID_IDispatch\u001B[0m\u001B[1;33m\u001B[0m\u001B[1;33m\u001B[0m\u001B[0m\n\u001B[0m\u001B[0;32m     84\u001B[0m             )\n\u001B[0;32m     85\u001B[0m     \u001B[1;32melse\u001B[0m\u001B[1;33m:\u001B[0m\u001B[1;33m\u001B[0m\u001B[1;33m\u001B[0m\u001B[0m\n",
      "\u001B[1;31mcom_error\u001B[0m: (-2146959355, '서버 실행이 실패했습니다.', None, None)"
     ]
    }
   ],
   "execution_count": 1
  },
  {
   "metadata": {},
   "cell_type": "code",
   "outputs": [],
   "execution_count": null,
   "source": "",
   "id": "aca6d513578ac7be"
  }
 ],
 "metadata": {
  "kernelspec": {
   "display_name": "Python 3",
   "language": "python",
   "name": "python3"
  },
  "language_info": {
   "codemirror_mode": {
    "name": "ipython",
    "version": 2
   },
   "file_extension": ".py",
   "mimetype": "text/x-python",
   "name": "python",
   "nbconvert_exporter": "python",
   "pygments_lexer": "ipython2",
   "version": "2.7.6"
  }
 },
 "nbformat": 4,
 "nbformat_minor": 5
}
