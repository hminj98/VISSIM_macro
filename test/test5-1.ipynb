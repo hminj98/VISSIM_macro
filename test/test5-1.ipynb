{
 "cells": [
  {
   "cell_type": "code",
   "id": "initial_id",
   "metadata": {
    "collapsed": true,
    "ExecuteTime": {
     "end_time": "2025-03-07T05:30:53.932988Z",
     "start_time": "2025-03-07T05:30:53.922018Z"
    }
   },
   "source": [
    "import datetime\n",
    "import sqlite3\n",
    "import os\n",
    "\n",
    "\n",
    "# 폴더 경로 설정\n",
    "folder_path = r\"C:\\VISSIM_Workspace\\test3\"  # 실제 경로로 변경하세요\n",
    "\n",
    "# 폴더 내 파일 목록 가져오기\n",
    "file_list = os.listdir(folder_path)\n",
    "print(file_list)\n",
    "\n",
    "\n",
    "file_name = file_list[0]\n",
    "results_path = folder_path + \"\\\\\" +os.path.splitext(file_name)[0] + \".results\"\n",
    "results_file = [f for f in os.listdir(results_path) if f.endswith(\".db\")][-1]\n",
    "print (\"result_path : \",results_path)"
   ],
   "outputs": [
    {
     "name": "stdout",
     "output_type": "stream",
     "text": [
      "['test.inpx', 'test.results', 'test2.inpx', 'test2.results', 'test2_output', 'test_output']\n",
      "result_path :  C:\\VISSIM_Workspace\\test3\\test.results\n",
      "db_files :  2.db\n"
     ]
    }
   ],
   "execution_count": 17
  },
  {
   "metadata": {},
   "cell_type": "code",
   "outputs": [],
   "execution_count": null,
   "source": "",
   "id": "9812b555c2bab633"
  }
 ],
 "metadata": {
  "kernelspec": {
   "display_name": "Python 3",
   "language": "python",
   "name": "python3"
  },
  "language_info": {
   "codemirror_mode": {
    "name": "ipython",
    "version": 2
   },
   "file_extension": ".py",
   "mimetype": "text/x-python",
   "name": "python",
   "nbconvert_exporter": "python",
   "pygments_lexer": "ipython2",
   "version": "2.7.6"
  }
 },
 "nbformat": 4,
 "nbformat_minor": 5
}
