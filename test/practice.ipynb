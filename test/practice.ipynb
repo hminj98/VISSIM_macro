{
 "cells": [
  {
   "cell_type": "code",
   "id": "initial_id",
   "metadata": {
    "collapsed": true,
    "ExecuteTime": {
     "end_time": "2025-03-17T07:29:05.963775500Z",
     "start_time": "2025-03-17T07:28:46.455478Z"
    }
   },
   "source": [
    "import os\n",
    "import win32com.client\n",
    "import pandas as pd  # Pandas 라이브러리 추가\n",
    "\n",
    "folder_path  = r\"C:\\VISSIM_Workspace\\network-1\"\n",
    "file_name = \"network01.inpx\"\n",
    "\n",
    "data = []\n",
    "\n",
    "Vissim = win32com.client.Dispatch(\"Vissim.Vissim\")\n",
    "Vissim.LoadNet(os.path.join(folder_path, file_name))\n",
    "\n",
    "Vissim.Graphics.CurrentNetworkWindow.SetAttValue('QuickMode', 1)  # 퀵 모드 활성화\n",
    "\n",
    "print(\"VISSIM 시뮬레이션 실행 중...\")\n",
    "Vissim.Simulation.RunContinuous()\n",
    "\n",
    "# 시뮬레이션 실행동안 모든 차량의 데이터 추출\n",
    "All_Vehicles = Vissim.Net.Vehicles.GetAll()\n",
    "for cnt_Veh in range(len(All_Vehicles)):\n",
    "    veh_number = All_Vehicles[cnt_Veh].AttValue('No')\n",
    "    veh_type = All_Vehicles[cnt_Veh].AttValue('VehType')\n",
    "    veh_speed = All_Vehicles[cnt_Veh].AttValue('Speed')\n",
    "    veh_position = All_Vehicles[cnt_Veh].AttValue('Pos')\n",
    "    veh_linklane = All_Vehicles[cnt_Veh].AttValue('Lane')\n",
    "    print(f'{veh_number}  |  {veh_type}  |  {veh_speed}  |  {veh_position}  |  {veh_linklane}')\n",
    "    data.append([veh_type, veh_speed])  # veh_type과 speed만 저장\n",
    "\n",
    "Vissim.Simulation.Stop()\n",
    "print(\"VISSIM 시뮬레이션 종료\")\n",
    "\n",
    "# Pandas DataFrame 생성\n",
    "df = pd.DataFrame(data, columns=['VehType', 'Speed'])\n",
    "print(df)"
   ],
   "outputs": [],
   "execution_count": null
  }
 ],
 "metadata": {
  "kernelspec": {
   "display_name": "Python 3",
   "language": "python",
   "name": "python3"
  },
  "language_info": {
   "codemirror_mode": {
    "name": "ipython",
    "version": 2
   },
   "file_extension": ".py",
   "mimetype": "text/x-python",
   "name": "python",
   "nbconvert_exporter": "python",
   "pygments_lexer": "ipython2",
   "version": "2.7.6"
  }
 },
 "nbformat": 4,
 "nbformat_minor": 5
}
