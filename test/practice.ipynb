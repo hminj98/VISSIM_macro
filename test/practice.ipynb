{
 "cells": [
  {
   "cell_type": "code",
   "id": "initial_id",
   "metadata": {
    "collapsed": true,
    "ExecuteTime": {
     "end_time": "2025-03-17T07:29:05.963775500Z",
     "start_time": "2025-03-17T07:28:46.455478Z"
    }
   },
   "source": [
    "# VISSIM COM 초기화\n",
    "import win32com.client\n",
    "\n",
    "Vissim = win32com.client.Dispatch(\"Vissim.Vissim\")\n",
    "# 파일 열기\n",
    "Vissim.LoadNet(\"C:\\\\Path\\\\to\\\\network.inpx\")\n",
    "\n",
    "# 예: 모든 차량(Vehicle) 속성 가져오기\n",
    "vehicles = Vissim.Net.Vehicles.GetAll()\n",
    "vehicle_ids = [veh.AttValue(\"No\") for veh in vehicles]\n",
    "\n",
    "# GetMultiAttValues로 속성값 불러오기\n",
    "attributes = [\"Speed\", \"Position\", \"Lane\"]\n",
    "result = Vissim.Net.Vehicles.GetMultiAttValues(vehicle_ids, attributes)\n",
    "\n",
    "# 결과 확인\n",
    "for res in result:\n",
    "    print(f\"Vehicle ID: {res[0]}, Attribute Values: {res[1:]}\")\n"
   ],
   "outputs": [],
   "execution_count": null
  }
 ],
 "metadata": {
  "kernelspec": {
   "display_name": "Python 3",
   "language": "python",
   "name": "python3"
  },
  "language_info": {
   "codemirror_mode": {
    "name": "ipython",
    "version": 2
   },
   "file_extension": ".py",
   "mimetype": "text/x-python",
   "name": "python",
   "nbconvert_exporter": "python",
   "pygments_lexer": "ipython2",
   "version": "2.7.6"
  }
 },
 "nbformat": 4,
 "nbformat_minor": 5
}
