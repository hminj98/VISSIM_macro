{
 "cells": [
  {
   "metadata": {
    "ExecuteTime": {
     "end_time": "2025-03-20T04:25:56.668007Z",
     "start_time": "2025-03-20T04:25:52.384268Z"
    }
   },
   "cell_type": "code",
   "source": [
    "import os\n",
    "import pandas as pd\n",
    "\n",
    "\n",
    "# 파일 경로 (Windows 경로를 올바르게 처리)\n",
    "folder_path = r\"C:\\VISSIM_Workspace\\network_new\\network_final\\excel\"\n",
    "file_path = r\"C:\\VISSIM_Workspace\\network_new\\network_final\\network01_001.mer\"\n",
    "time_interval = 60\n",
    "from_time = 1800\n",
    "\n",
    "\n",
    "\n",
    "# 파일 읽기\n",
    "with open(file_path, \"r\", encoding=\"utf-8\", errors=\"ignore\") as file:\n",
    "    lines = file.readlines()\n",
    "# 데이터가 시작하는 인덱스 찾기\n",
    "data_start_idx = None\n",
    "for i, line in enumerate(lines):\n",
    "    if \"Measurem.\" in line:  # 컬럼명이 포함된 행 찾기\n",
    "        data_start_idx = i\n",
    "        break\n",
    "\n",
    "# 데이터프레임 생성\n",
    "if data_start_idx is not None:\n",
    "    # 컬럼명 추출\n",
    "    columns = lines[data_start_idx].strip().split(\";\")\n",
    "\n",
    "    # 데이터 부분 추출 및 가공\n",
    "    data_lines = lines[data_start_idx + 1:]  # 컬럼명 제외, 데이터 부분\n",
    "    data = [line.strip().split(\";\") for line in data_lines if line.strip()]\n",
    "\n",
    "    # 데이터프레임 생성\n",
    "    df = pd.DataFrame(data, columns=columns)\n",
    "    # 컬럼명을 정리 (혹시 모를 공백 제거)\n",
    "    df.columns = df.columns.str.strip()\n",
    "\n",
    "    # 변환할 숫자형 컬럼 리스트\n",
    "    numeric_columns = [\"Measurem.\", \"t(Entry)\", \"t(Exit)\", \"VehNo\", \"Vehicle type\",\n",
    "                       \"Line\", \"v[km/h]\", \"b[m/s2]\", \"Occ\", \"Pers\", \"tQueue\", \"VehLength[m]\"]\n",
    "\n",
    "    # 각 컬럼을 숫자로 변환\n",
    "    for col in numeric_columns:\n",
    "        if col in df.columns:  # 컬럼이 존재하는지 확인\n",
    "            df[col] = pd.to_numeric(df[col], errors=\"coerce\")  # 변환 실패 시 NaN 처리\n",
    "    df[\"time\"] = df[[\"t(Entry)\", \"t(Exit)\"]].max(axis=1)\n",
    "    # 시간대별 범위 적용\n",
    "    current_time = from_time\n",
    "    max_time = df[\"time\"].max()\n",
    "\n",
    "    while current_time <= max_time:\n",
    "        next_time = current_time + time_interval\n",
    "        df.loc[df[\"time\"].between(current_time, next_time, inclusive=\"right\"), \"time\"] = next_time\n",
    "        df.loc[df[\"time\"] == 1800, \"time\"] = 1860\n",
    "        current_time = next_time\n",
    "\n",
    "    df = df.groupby([\"time\", \"Measurem.\"])[[\"b[m/s2]\", \"Occ\", \"tQueue\", \"VehLength[m]\", \"v[km/h]\"]].agg(\"mean\").reset_index().round(2)\n",
    "    df[\"time\"] = df[\"time\"].astype(int)\n",
    "\n",
    "    print(df)\n",
    "\"\"\"\n",
    "    excel_path = os.path.join(folder_path, \"test.xlsx\")\n",
    "    df.to_excel(excel_path, index=False)\n",
    "\"\"\"\n",
    "\n",
    "\n",
    "\n",
    "\n",
    "\n"
   ],
   "id": "26b9d2bc6d897587",
   "outputs": [
    {
     "name": "stdout",
     "output_type": "stream",
     "text": [
      "      time  Measurem.  b[m/s2]   Occ  tQueue  VehLength[m]  v[km/h]\n",
      "0     1860          1    -0.59  0.04    0.00          5.13    60.88\n",
      "1     1860          2    -0.67  0.05    0.00          5.50    63.02\n",
      "2     1860          3    -0.17  0.05    0.89          5.27    45.14\n",
      "3     1860          4    -0.39  0.05    0.43          5.68    48.06\n",
      "4     1860          5     0.62  0.05    0.26          5.28    51.62\n",
      "...    ...        ...      ...   ...     ...           ...      ...\n",
      "7173  5400        118     0.00  0.05  123.78          5.07    88.14\n",
      "7174  5400        119     0.07  0.04  124.19          5.85    92.43\n",
      "7175  5400        120     0.08  0.05  123.28          5.10    93.16\n",
      "7176  5400        121     0.07  0.05  123.74          5.89    96.08\n",
      "7177  5400        122     0.12  0.05  123.66          5.18    94.29\n",
      "\n",
      "[7178 rows x 7 columns]\n"
     ]
    },
    {
     "data": {
      "text/plain": [
       "'\\n    excel_path = os.path.join(folder_path, \"test.xlsx\")\\n    df.to_excel(excel_path, index=False)\\n'"
      ]
     },
     "execution_count": 59,
     "metadata": {},
     "output_type": "execute_result"
    }
   ],
   "execution_count": 59
  },
  {
   "metadata": {},
   "cell_type": "code",
   "outputs": [],
   "execution_count": null,
   "source": "",
   "id": "21f85029c43e343b"
  }
 ],
 "metadata": {
  "kernelspec": {
   "display_name": "Python 3",
   "language": "python",
   "name": "python3"
  },
  "language_info": {
   "codemirror_mode": {
    "name": "ipython",
    "version": 2
   },
   "file_extension": ".py",
   "mimetype": "text/x-python",
   "name": "python",
   "nbconvert_exporter": "python",
   "pygments_lexer": "ipython2",
   "version": "2.7.6"
  }
 },
 "nbformat": 4,
 "nbformat_minor": 5
}
