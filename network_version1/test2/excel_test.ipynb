{
 "cells": [
  {
   "cell_type": "code",
   "id": "initial_id",
   "metadata": {
    "collapsed": true,
    "ExecuteTime": {
     "end_time": "2025-03-20T00:06:38.065193Z",
     "start_time": "2025-03-20T00:06:37.988413Z"
    }
   },
   "source": [
    "import os\n",
    "\n",
    "from numpy.testing.print_coercion_tables import print_new_cast_table\n",
    "\n",
    "\n",
    "folder_path = r\"C:\\VISSIM_Workspace\\network_new\\network_final\"\n",
    "siml_count = 1\n",
    "senario_start = 0\n",
    "senario_end = senario_start + siml_count\n",
    "\"\"\"\n",
    "for start in range(senario_start, senario_end):\n",
    "    inpx_files = sorted([f for f in os.listdir(folder_path) if f.endswith(\".inpx\")])\n",
    "    print(inpx_files)\n",
    "    mer_files = sorted([f for f in os.listdir(folder_path) if f.endswith(\".mer\")])\n",
    "    print(mer_files)\n",
    "    senario_start += siml_count\n",
    "\"\"\"\n",
    "# 파일의 전체 내용을 텍스트로 변환하여 확인 (일부만 출력)\n",
    "with open(r\"C:\\VISSIM_Workspace\\network_new\\network_final\\network01_001.mer\", \"rb\") as f:\n",
    "    raw_data = f.read()\n",
    "# 텍스트로 변환 (유니코드 에러 방지를 위해 'ignore' 옵션 사용)\n",
    "text_data = raw_data.decode(errors=\"ignore\")\n",
    "\n",
    "# 파일 내 텍스트 데이터 일부 출력 (앞쪽 1000자)\n",
    "text_data[:1000]"
   ],
   "outputs": [
    {
     "data": {
      "text/plain": [
       "'\\r\\nData Collection (Raw Data)\\r\\n\\r\\nFile:     C:\\\\VISSIM_Workspace\\\\network_new\\\\network_final\\\\network01.inpx\\r\\nComment:  \\r\\nDate:     2025-03-20 오전 7:56:04\\r\\nPTV Vissim 2021.00-13 (64 bit) [97611]\\r\\n\\r\\nData collection point        1: Link     1 lane 2 at       0.000 m.\\r\\nData collection point        2: Link     1 lane 1 at       0.000 m.\\r\\nData collection point        3: Link     1 lane 2 at     100.000 m.\\r\\nData collection point        4: Link     1 lane 1 at     100.000 m.\\r\\nData collection point        5: Link     1 lane 2 at     200.000 m.\\r\\nData collection point        6: Link     1 lane 1 at     200.000 m.\\r\\nData collection point        7: Link     1 lane 2 at     300.000 m.\\r\\nData collection point        8: Link     1 lane 1 at     300.000 m.\\r\\nData collection point        9: Link     1 lane 2 at     400.000 m.\\r\\nData collection point       10: Link     1 lane 1 at     400.000 m.\\r\\nData collection point       11: Link     1 lane 2 at     500.000 m.\\r\\nData collection point       12: Link     1 lane 1 '"
      ]
     },
     "execution_count": 21,
     "metadata": {},
     "output_type": "execute_result"
    }
   ],
   "execution_count": 21
  }
 ],
 "metadata": {
  "kernelspec": {
   "display_name": "Python 3",
   "language": "python",
   "name": "python3"
  },
  "language_info": {
   "codemirror_mode": {
    "name": "ipython",
    "version": 2
   },
   "file_extension": ".py",
   "mimetype": "text/x-python",
   "name": "python",
   "nbconvert_exporter": "python",
   "pygments_lexer": "ipython2",
   "version": "2.7.6"
  }
 },
 "nbformat": 4,
 "nbformat_minor": 5
}
