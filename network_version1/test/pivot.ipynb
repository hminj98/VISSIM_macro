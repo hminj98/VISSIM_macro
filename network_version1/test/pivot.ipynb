{
 "cells": [
  {
   "metadata": {
    "collapsed": true,
    "ExecuteTime": {
     "end_time": "2025-03-12T05:46:20.655938Z",
     "start_time": "2025-03-12T05:46:19.668114Z"
    }
   },
   "cell_type": "code",
   "source": [
    "import pandas as pd\n",
    "import os\n",
    "\n",
    "\"\"\"피봇 테이블 생성\"\"\"\n",
    "# ✅ Excel 파일이 있는 폴더 경로\n",
    "folder_path = r\"C:\\VISSIM_Workspace\\test3\"\n",
    "xlsx_file = \"1_output.xlsx\"\n",
    "excel_path = os.path.join(folder_path, xlsx_file)\n",
    "df = pd.read_excel(excel_path)\n",
    "print(df.head())\n",
    "pivot_df = df.pivot_table(index=\"TIMEINT\", columns=\"DATACOLLECTIONMEASUREMENT\", values=\"SPEEDAVGARITH(ALL)\", aggfunc=\"mean\")\n",
    "\n",
    "new_excel_path = os.path.join(folder_path, \"2_output.xlsx\")\n",
    "pivot_df.to_excel(new_excel_path)\n",
    "print(\"저장완료\")"
   ],
   "id": "initial_id",
   "outputs": [
    {
     "name": "stdout",
     "output_type": "stream",
     "text": [
      "   SIMRUN  TIMEINT  DATACOLLECTIONMEASUREMENT  ACCELERATION(ALL)  DIST(ALL)  \\\n",
      "0      10     1860                          1              -0.24       1.47   \n",
      "1      10     1860                          2               0.07     101.38   \n",
      "2      10     1860                          3               0.69     201.55   \n",
      "3      10     1860                          4               0.81     301.83   \n",
      "4      10     1860                          5               0.68     401.95   \n",
      "\n",
      "   LENGTH(ALL)  VEHS(ALL)  PERS(ALL)  QUEUEDELAY(ALL)  SPEEDAVGARITH(ALL)  \\\n",
      "0         5.03       63.5       63.5             0.00               52.85   \n",
      "1         5.10       63.8       63.8             6.85               41.66   \n",
      "2         5.04       62.8       62.8             8.37               52.73   \n",
      "3         5.15       63.0       63.0             1.00               74.02   \n",
      "4         5.11       63.2       63.2            14.31               79.21   \n",
      "\n",
      "   SPEEDAVGHARM(ALL) OCCUPRATE(ALL)  \n",
      "0              42.81         37.52%  \n",
      "1              35.06         54.34%  \n",
      "2              48.81         40.40%  \n",
      "3              71.66         35.49%  \n",
      "4              78.14         31.98%  \n",
      "저장완료\n"
     ]
    }
   ],
   "execution_count": 7
  },
  {
   "metadata": {},
   "cell_type": "markdown",
   "source": "",
   "id": "7155b37dc7471574"
  },
  {
   "metadata": {},
   "cell_type": "code",
   "source": "",
   "id": "9812b555c2bab633",
   "outputs": [],
   "execution_count": null
  }
 ],
 "metadata": {
  "kernelspec": {
   "display_name": "Python 3",
   "language": "python",
   "name": "python3"
  },
  "language_info": {
   "codemirror_mode": {
    "name": "ipython",
    "version": 2
   },
   "file_extension": ".py",
   "mimetype": "text/x-python",
   "name": "python",
   "nbconvert_exporter": "python",
   "pygments_lexer": "ipython2",
   "version": "2.7.6"
  }
 },
 "nbformat": 4,
 "nbformat_minor": 5
}
