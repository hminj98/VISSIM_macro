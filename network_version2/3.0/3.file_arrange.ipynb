{
 "cells": [
  {
   "cell_type": "code",
   "id": "initial_id",
   "metadata": {
    "collapsed": true,
    "ExecuteTime": {
     "end_time": "2025-04-22T05:17:17.932054Z",
     "start_time": "2025-04-22T05:17:17.705792Z"
    }
   },
   "source": [
    "\"\"\" _output 파일 정리 \"\"\"\n",
    "import shutil\n",
    "\n",
    "import os\n",
    "\n",
    "# 복사할 경로\n",
    "destination_path = r\"C:\\Users\\(주)내일이엔시 도로교통안전연구소\\Desktop\\초장대 K-지하고속도로 인프라 안전 및 효율 향상 기술 개발(2차년도)\\테스트\\결과파일\"\n",
    "\n",
    "# 출력파일경로1\n",
    "output_1_path = r\"C:\\VISSIM_Workspace\\network_new\\network_version2_test\\network_version2.7.0\\network04_수정_output\"\n",
    "# 출력파일경로2\n",
    "output_2_path = r\"C:\\VISSIM_Workspace\\network_new\\network_version2_test\\network_version2.7.1\\network04_수정_output\"\n",
    "\n",
    "output1_list = sorted([file for file in os.listdir(output_1_path) if file.endswith(\".xlsx\")],  key=lambda x: int(x.split(\"_\")[0]) if x.split(\"_\")[0].isdigit() else 0)\n",
    "output2_list = sorted([file for file in os.listdir(output_2_path) if file.endswith(\".xlsx\")],  key=lambda x: int(x.split(\"_\")[0]) if x.split(\"_\")[0].isdigit() else 0)\n",
    "\n",
    "rename_numbers1 = list(range(1,13)) + list(range(25,37)) + list(range(49,61))\n",
    "rename_numbers2 = list(range(13,25)) + list(range(37,49)) + list(range(61,73))\n",
    "\n",
    "print(output1_list + output2_list)\n",
    "\n",
    "for i in range(len(output1_list)):\n",
    "    new_fileName = f\"{rename_numbers1[i]}_output.xlsx\"\n",
    "    src = os.path.join(output_1_path, output1_list[i])\n",
    "    dst = os.path.join(destination_path, new_fileName)\n",
    "    shutil.copy(src, dst)\n",
    "for i in range(len(output2_list)):\n",
    "    new_fileName = f\"{rename_numbers2[i]}_output.xlsx\"\n",
    "    src = os.path.join(output_2_path, output2_list[i])\n",
    "    dst = os.path.join(destination_path, new_fileName)\n",
    "    shutil.copy(src, dst)"
   ],
   "outputs": [
    {
     "name": "stdout",
     "output_type": "stream",
     "text": [
      "['1_output.xlsx', '2_output.xlsx', '3_output.xlsx', '4_output.xlsx', '5_output.xlsx', '6_output.xlsx', '7_output.xlsx', '8_output.xlsx', '9_output.xlsx', '10_output.xlsx', '11_output.xlsx', '12_output.xlsx', '13_output.xlsx', '14_output.xlsx', '15_output.xlsx', '16_output.xlsx', '17_output.xlsx', '18_output.xlsx', '19_output.xlsx', '20_output.xlsx', '21_output.xlsx', '22_output.xlsx', '23_output.xlsx', '24_output.xlsx', '25_output.xlsx', '26_output.xlsx', '27_output.xlsx', '28_output.xlsx', '29_output.xlsx', '30_output.xlsx', '31_output.xlsx', '32_output.xlsx', '33_output.xlsx', '34_output.xlsx', '35_output.xlsx', '36_output.xlsx', '13_output.xlsx', '14_output.xlsx', '15_output.xlsx', '16_output.xlsx', '17_output.xlsx', '18_output.xlsx', '19_output.xlsx', '20_output.xlsx', '21_output.xlsx', '22_output.xlsx', '23_output.xlsx', '24_output.xlsx', '25_output.xlsx', '26_output.xlsx', '27_output.xlsx', '28_output.xlsx', '29_output.xlsx', '30_output.xlsx', '31_output.xlsx', '32_output.xlsx', '33_output.xlsx', '34_output.xlsx', '35_output.xlsx', '36_output.xlsx', '37_output.xlsx', '38_output.xlsx', '39_output.xlsx', '40_output.xlsx', '41_output.xlsx', '42_output.xlsx', '43_output.xlsx', '44_output.xlsx', '45_output.xlsx', '46_output.xlsx', '47_output.xlsx', '48_output.xlsx']\n"
     ]
    }
   ],
   "execution_count": 1
  },
  {
   "metadata": {
    "ExecuteTime": {
     "end_time": "2025-04-22T05:19:09.183941Z",
     "start_time": "2025-04-22T05:19:09.104984Z"
    }
   },
   "cell_type": "code",
   "source": [
    "\"\"\" _vehicle_output 파일 정리 \"\"\"\n",
    "import shutil\n",
    "\n",
    "import os\n",
    "\n",
    "# 복사할 경로\n",
    "destination_path = r\"C:\\Users\\(주)내일이엔시 도로교통안전연구소\\Desktop\\초장대 K-지하고속도로 인프라 안전 및 효율 향상 기술 개발(2차년도)\\테스트\\결과파일\"\n",
    "\n",
    "# 출력파일경로1\n",
    "output_1_path = r\"D:\\network_version2.7.zip\\network_version2.7.0\\network07_mer\\vehicle_output\"\n",
    "# 출력파일경로2\n",
    "output_2_path = r\"D:\\network_version2.7.zip\\network_version2.7.1\\network07_mer\\vehicle_output\"\n",
    "\n",
    "output1_list = sorted([file for file in os.listdir(output_1_path) if file.endswith(\".xlsx\")],  key=lambda x: int(x.split(\"_\")[0]) if x.split(\"_\")[0].isdigit() else 0)\n",
    "output2_list = sorted([file for file in os.listdir(output_2_path) if file.endswith(\".xlsx\")],  key=lambda x: int(x.split(\"_\")[0]) if x.split(\"_\")[0].isdigit() else 0)\n",
    "\n",
    "rename_numbers1 = list(range(1,13)) + list(range(25,37)) + list(range(49,61))\n",
    "rename_numbers2 = list(range(13,25)) + list(range(37,49)) + list(range(61,73))\n",
    "\n",
    "print(output1_list + output2_list)\n",
    "\n",
    "for i in range(len(output1_list)):\n",
    "    new_fileName = f\"{rename_numbers1[i]}_vehicle_output.xlsx\"\n",
    "    src = os.path.join(output_1_path, output1_list[i])\n",
    "    dst = os.path.join(destination_path, new_fileName)\n",
    "    shutil.copy(src, dst)\n",
    "for i in range(len(output2_list)):\n",
    "    new_fileName = f\"{rename_numbers2[i]}_vehicle_output.xlsx\"\n",
    "    src = os.path.join(output_2_path, output2_list[i])\n",
    "    dst = os.path.join(destination_path, new_fileName)\n",
    "    shutil.copy(src, dst)"
   ],
   "id": "c0fa671e8cb6662",
   "outputs": [
    {
     "ename": "FileNotFoundError",
     "evalue": "[WinError 3] 지정된 경로를 찾을 수 없습니다: 'D:\\\\network_version2.7.zip\\\\network_version2.7.0\\\\network07_mer\\\\vehicle_output'",
     "output_type": "error",
     "traceback": [
      "\u001B[1;31m---------------------------------------------------------------------------\u001B[0m",
      "\u001B[1;31mFileNotFoundError\u001B[0m                         Traceback (most recent call last)",
      "\u001B[1;32mC:\\Users\\Public\\Documents\\ESTsoft\\CreatorTemp\\ipykernel_4420\\1490996014.py\u001B[0m in \u001B[0;36m<module>\u001B[1;34m\u001B[0m\n\u001B[0;32m     12\u001B[0m \u001B[0moutput_2_path\u001B[0m \u001B[1;33m=\u001B[0m \u001B[1;34mr\"D:\\network_version2.7.zip\\network_version2.7.1\\network07_mer\\vehicle_output\"\u001B[0m\u001B[1;33m\u001B[0m\u001B[1;33m\u001B[0m\u001B[0m\n\u001B[0;32m     13\u001B[0m \u001B[1;33m\u001B[0m\u001B[0m\n\u001B[1;32m---> 14\u001B[1;33m \u001B[0moutput1_list\u001B[0m \u001B[1;33m=\u001B[0m \u001B[0msorted\u001B[0m\u001B[1;33m(\u001B[0m\u001B[1;33m[\u001B[0m\u001B[0mfile\u001B[0m \u001B[1;32mfor\u001B[0m \u001B[0mfile\u001B[0m \u001B[1;32min\u001B[0m \u001B[0mos\u001B[0m\u001B[1;33m.\u001B[0m\u001B[0mlistdir\u001B[0m\u001B[1;33m(\u001B[0m\u001B[0moutput_1_path\u001B[0m\u001B[1;33m)\u001B[0m \u001B[1;32mif\u001B[0m \u001B[0mfile\u001B[0m\u001B[1;33m.\u001B[0m\u001B[0mendswith\u001B[0m\u001B[1;33m(\u001B[0m\u001B[1;34m\".xlsx\"\u001B[0m\u001B[1;33m)\u001B[0m\u001B[1;33m]\u001B[0m\u001B[1;33m,\u001B[0m  \u001B[0mkey\u001B[0m\u001B[1;33m=\u001B[0m\u001B[1;32mlambda\u001B[0m \u001B[0mx\u001B[0m\u001B[1;33m:\u001B[0m \u001B[0mint\u001B[0m\u001B[1;33m(\u001B[0m\u001B[0mx\u001B[0m\u001B[1;33m.\u001B[0m\u001B[0msplit\u001B[0m\u001B[1;33m(\u001B[0m\u001B[1;34m\"_\"\u001B[0m\u001B[1;33m)\u001B[0m\u001B[1;33m[\u001B[0m\u001B[1;36m0\u001B[0m\u001B[1;33m]\u001B[0m\u001B[1;33m)\u001B[0m \u001B[1;32mif\u001B[0m \u001B[0mx\u001B[0m\u001B[1;33m.\u001B[0m\u001B[0msplit\u001B[0m\u001B[1;33m(\u001B[0m\u001B[1;34m\"_\"\u001B[0m\u001B[1;33m)\u001B[0m\u001B[1;33m[\u001B[0m\u001B[1;36m0\u001B[0m\u001B[1;33m]\u001B[0m\u001B[1;33m.\u001B[0m\u001B[0misdigit\u001B[0m\u001B[1;33m(\u001B[0m\u001B[1;33m)\u001B[0m \u001B[1;32melse\u001B[0m \u001B[1;36m0\u001B[0m\u001B[1;33m)\u001B[0m\u001B[1;33m\u001B[0m\u001B[1;33m\u001B[0m\u001B[0m\n\u001B[0m\u001B[0;32m     15\u001B[0m \u001B[0moutput2_list\u001B[0m \u001B[1;33m=\u001B[0m \u001B[0msorted\u001B[0m\u001B[1;33m(\u001B[0m\u001B[1;33m[\u001B[0m\u001B[0mfile\u001B[0m \u001B[1;32mfor\u001B[0m \u001B[0mfile\u001B[0m \u001B[1;32min\u001B[0m \u001B[0mos\u001B[0m\u001B[1;33m.\u001B[0m\u001B[0mlistdir\u001B[0m\u001B[1;33m(\u001B[0m\u001B[0moutput_2_path\u001B[0m\u001B[1;33m)\u001B[0m \u001B[1;32mif\u001B[0m \u001B[0mfile\u001B[0m\u001B[1;33m.\u001B[0m\u001B[0mendswith\u001B[0m\u001B[1;33m(\u001B[0m\u001B[1;34m\".xlsx\"\u001B[0m\u001B[1;33m)\u001B[0m\u001B[1;33m]\u001B[0m\u001B[1;33m,\u001B[0m  \u001B[0mkey\u001B[0m\u001B[1;33m=\u001B[0m\u001B[1;32mlambda\u001B[0m \u001B[0mx\u001B[0m\u001B[1;33m:\u001B[0m \u001B[0mint\u001B[0m\u001B[1;33m(\u001B[0m\u001B[0mx\u001B[0m\u001B[1;33m.\u001B[0m\u001B[0msplit\u001B[0m\u001B[1;33m(\u001B[0m\u001B[1;34m\"_\"\u001B[0m\u001B[1;33m)\u001B[0m\u001B[1;33m[\u001B[0m\u001B[1;36m0\u001B[0m\u001B[1;33m]\u001B[0m\u001B[1;33m)\u001B[0m \u001B[1;32mif\u001B[0m \u001B[0mx\u001B[0m\u001B[1;33m.\u001B[0m\u001B[0msplit\u001B[0m\u001B[1;33m(\u001B[0m\u001B[1;34m\"_\"\u001B[0m\u001B[1;33m)\u001B[0m\u001B[1;33m[\u001B[0m\u001B[1;36m0\u001B[0m\u001B[1;33m]\u001B[0m\u001B[1;33m.\u001B[0m\u001B[0misdigit\u001B[0m\u001B[1;33m(\u001B[0m\u001B[1;33m)\u001B[0m \u001B[1;32melse\u001B[0m \u001B[1;36m0\u001B[0m\u001B[1;33m)\u001B[0m\u001B[1;33m\u001B[0m\u001B[1;33m\u001B[0m\u001B[0m\n\u001B[0;32m     16\u001B[0m \u001B[1;33m\u001B[0m\u001B[0m\n",
      "\u001B[1;31mFileNotFoundError\u001B[0m: [WinError 3] 지정된 경로를 찾을 수 없습니다: 'D:\\\\network_version2.7.zip\\\\network_version2.7.0\\\\network07_mer\\\\vehicle_output'"
     ]
    }
   ],
   "execution_count": 2
  }
 ],
 "metadata": {
  "kernelspec": {
   "display_name": "Python 3",
   "language": "python",
   "name": "python3"
  },
  "language_info": {
   "codemirror_mode": {
    "name": "ipython",
    "version": 2
   },
   "file_extension": ".py",
   "mimetype": "text/x-python",
   "name": "python",
   "nbconvert_exporter": "python",
   "pygments_lexer": "ipython2",
   "version": "2.7.6"
  }
 },
 "nbformat": 4,
 "nbformat_minor": 5
}
