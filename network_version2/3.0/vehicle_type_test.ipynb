{
 "cells": [
  {
   "cell_type": "code",
   "id": "initial_id",
   "metadata": {
    "collapsed": true,
    "ExecuteTime": {
     "end_time": "2025-03-31T06:48:53.053921Z",
     "start_time": "2025-03-31T06:48:31.370966Z"
    }
   },
   "source": [
    "import numpy as np\n",
    "import os\n",
    "import pandas as pd\n",
    "from numpy.ma.extras import average\n",
    "\"\"\"_vehicle_output 파일에서 데이터 가공 (차종별 평균)\"\"\"\n",
    "output_path = r\"C:\\VISSIM_Workspace\\network_new\\test\\network02_mer\\vehicle_output\"\n",
    "output_files = sorted([f for f in os.listdir(output_path) if f.endswith(\".xlsx\")], key=lambda x: int(x.split(\"_\")[0]) if x.split(\"_\")[0].isdigit() else 0)\n",
    "print(\"vehicle_files : \", output_files)\n",
    "mer_list = []\n",
    "vehicle_type_list = [100, 300, 630, 640, 650]\n",
    "for i in range(len(vehicle_type_list)):\n",
    "    for j in range(len(output_files)):\n",
    "        df = pd.read_excel(os.path.join(output_path, output_files[j]))\n",
    "        print(\"read_excel : \", output_files[j])\n",
    "        df[\"NEW\"] = df[\"Measurem.\"] % 1000\n",
    "\n",
    "        filtered_df = df[df[\"Vehicle type\"] == vehicle_type_list[i]]\n",
    "\n",
    "        # 기존 Measurem. 컬럼의 값이 같은 것끼리 평균 계산\n",
    "        df_grouped = filtered_df.groupby(\"Measurem.\").mean()\n",
    "\n",
    "        new_grouped_df = df_grouped.groupby(\"NEW\").mean().reset_index()\n",
    "        df = new_grouped_df[[\"NEW\", \"v[km/h]\"]]\n",
    "        # .T를 하는 순간 NEW라는 컬럼은 사라진다 -> 인덱스가 0부터 시작하게 됨\n",
    "        df = df.set_index('NEW').T\n",
    "\n",
    "        start_df = df.iloc[:, 0:20]\n",
    "        mid_df = df.iloc[:, 20:100]\n",
    "        end_df = df.iloc[:, 100:120]\n",
    "        total_df = df.iloc[:, :120]\n",
    "\n",
    "        df1 = start_df.values.mean()\n",
    "        df2 = mid_df.values.mean()\n",
    "        df3 = end_df.values.mean()\n",
    "        df4 = total_df.values.mean()\n",
    "        columns = [\"파일명\", \"진입부\", \"본선부\", \"진출부\", \"전체\"]\n",
    "\n",
    "        merged_df = pd.DataFrame([[output_files[j], df1, df2, df3, df4]], columns=columns)\n",
    "        mer_list.append(merged_df)\n",
    "    final_df = pd.concat(mer_list, ignore_index=True).round(3)\n",
    "    excel_path = os.path.join(output_path, \"vehicle_type_output\")\n",
    "    print(\"excel_path : \", excel_path)\n",
    "    if not os.path.exists(excel_path):\n",
    "        os.makedirs(excel_path)\n",
    "    excel_file_path = os.path.join(excel_path, f\"{vehicle_type_list[i]}_output.xlsx\")\n",
    "    final_df.to_excel(excel_file_path, index=False)\n",
    "    print(\"파일 생성 : \", excel_file_path)\n",
    "    mer_list = []\n",
    "print(\"작업이 완료 되었습니다.\")\n",
    "\n"
   ],
   "outputs": [
    {
     "name": "stdout",
     "output_type": "stream",
     "text": [
      "vehicle_files :  ['1_vehicle_output.xlsx']\n",
      "read_excel :  1_vehicle_output.xlsx\n",
      "excel_path :  C:\\VISSIM_Workspace\\network_new\\test\\network02_mer\\vehicle_output\\vehicle_type_output\n",
      "파일 생성 :  C:\\VISSIM_Workspace\\network_new\\test\\network02_mer\\vehicle_output\\vehicle_type_output\\100_output.xlsx\n",
      "read_excel :  1_vehicle_output.xlsx\n",
      "excel_path :  C:\\VISSIM_Workspace\\network_new\\test\\network02_mer\\vehicle_output\\vehicle_type_output\n",
      "파일 생성 :  C:\\VISSIM_Workspace\\network_new\\test\\network02_mer\\vehicle_output\\vehicle_type_output\\300_output.xlsx\n",
      "read_excel :  1_vehicle_output.xlsx\n",
      "excel_path :  C:\\VISSIM_Workspace\\network_new\\test\\network02_mer\\vehicle_output\\vehicle_type_output\n",
      "파일 생성 :  C:\\VISSIM_Workspace\\network_new\\test\\network02_mer\\vehicle_output\\vehicle_type_output\\630_output.xlsx\n",
      "read_excel :  1_vehicle_output.xlsx\n",
      "excel_path :  C:\\VISSIM_Workspace\\network_new\\test\\network02_mer\\vehicle_output\\vehicle_type_output\n",
      "파일 생성 :  C:\\VISSIM_Workspace\\network_new\\test\\network02_mer\\vehicle_output\\vehicle_type_output\\640_output.xlsx\n",
      "read_excel :  1_vehicle_output.xlsx\n",
      "excel_path :  C:\\VISSIM_Workspace\\network_new\\test\\network02_mer\\vehicle_output\\vehicle_type_output\n",
      "파일 생성 :  C:\\VISSIM_Workspace\\network_new\\test\\network02_mer\\vehicle_output\\vehicle_type_output\\650_output.xlsx\n",
      "작업이 완료 되었습니다.\n"
     ]
    }
   ],
   "execution_count": 1
  },
  {
   "metadata": {},
   "cell_type": "code",
   "source": "",
   "id": "93ff0713dd6481e1",
   "outputs": [],
   "execution_count": null
  }
 ],
 "metadata": {
  "kernelspec": {
   "display_name": "Python 3",
   "language": "python",
   "name": "python3"
  },
  "language_info": {
   "codemirror_mode": {
    "name": "ipython",
    "version": 2
   },
   "file_extension": ".py",
   "mimetype": "text/x-python",
   "name": "python",
   "nbconvert_exporter": "python",
   "pygments_lexer": "ipython2",
   "version": "2.7.6"
  }
 },
 "nbformat": 4,
 "nbformat_minor": 5
}
