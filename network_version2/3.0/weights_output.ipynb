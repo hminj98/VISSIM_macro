{
 "cells": [
  {
   "cell_type": "code",
   "id": "initial_id",
   "metadata": {
    "collapsed": true,
    "ExecuteTime": {
     "end_time": "2025-03-31T06:51:06.369280Z",
     "start_time": "2025-03-31T06:51:05.872800Z"
    }
   },
   "source": [
    "import pandas as pd\n",
    "\n",
    "\"\"\"weights_output(결과) 파일에서 데이터 가공 (가중평균속도의 평균)\"\"\"\n",
    "import os\n",
    "\n",
    "output_path = r\"C:\\VISSIM_Workspace\\network_new\\test\\network02_mer\\weights_output\" # vehicle_output 엑셀 파일이 있는 폴더 경로까지\n",
    "output_files = sorted([f for f in os.listdir(output_path) if f.endswith(\".xlsx\")], key=lambda x: int(x.split(\"_\")[0]))\n",
    "mer_list = []\n",
    "for i in range(len(output_files)):\n",
    "    work_file = os.path.join(output_path, output_files[i])\n",
    "    print(f\"{work_file} 작업중...\")\n",
    "    df = pd.read_excel(work_file)\n",
    "    df.columns.values[0] = \"NEW\"\n",
    "\n",
    "    # 진입부\n",
    "    start_df = df[df[\"NEW\"] == \"가중평균속도\"].iloc[:, 1:21]\n",
    "    # 본선부\n",
    "    mid_df = df[df[\"NEW\"] == \"가중평균속도\"].iloc[:, 21:101]\n",
    "    # 진출부\n",
    "    end_df = df[df[\"NEW\"] == \"가중평균속도\"].iloc[:, 101:121]\n",
    "    # 전체\n",
    "    total_df = df[df[\"NEW\"] == \"가중평균속도\"].iloc[:, 1:121]\n",
    "\n",
    "    df1 = start_df.values.mean().round(4)\n",
    "    df2 = mid_df.values.mean().round(4)\n",
    "    df3 = end_df.values.mean().round(4)\n",
    "    df4 = total_df.values.mean().round(4)\n",
    "    columns = [\"파일명\", \"진입부\", \"본선부\", \"진출부\", \"전체\"]\n",
    "\n",
    "    merged_df = pd.DataFrame([[output_files[i], df1, df2, df3, df4]], columns=columns)\n",
    "    mer_list.append(merged_df)\n",
    "\n",
    "final_df = pd.concat(mer_list, ignore_index=True).round(4)\n",
    "\n",
    "excel_path = os.path.join(output_path, \"weights_output\")\n",
    "print(\"excel_path : \", excel_path)\n",
    "if not os.path.exists(excel_path):\n",
    "    os.makedirs(excel_path)\n",
    "excel_file_path = os.path.join(excel_path, \"weights_output.xlsx\")\n",
    "final_df.to_excel(excel_file_path, index=False)\n",
    "print(\"작업이 완료 되었습니다.\")\n"
   ],
   "outputs": [
    {
     "name": "stdout",
     "output_type": "stream",
     "text": [
      "C:\\VISSIM_Workspace\\network_new\\test\\network02_mer\\weights_output\\1_weights_output.xlsx 작업중...\n",
      "excel_path :  C:\\VISSIM_Workspace\\network_new\\test\\network02_mer\\weights_output\\weights_output\n",
      "작업이 완료 되었습니다.\n"
     ]
    }
   ],
   "execution_count": 1
  }
 ],
 "metadata": {
  "kernelspec": {
   "display_name": "Python 3",
   "language": "python",
   "name": "python3"
  },
  "language_info": {
   "codemirror_mode": {
    "name": "ipython",
    "version": 2
   },
   "file_extension": ".py",
   "mimetype": "text/x-python",
   "name": "python",
   "nbconvert_exporter": "python",
   "pygments_lexer": "ipython2",
   "version": "2.7.6"
  }
 },
 "nbformat": 4,
 "nbformat_minor": 5
}
