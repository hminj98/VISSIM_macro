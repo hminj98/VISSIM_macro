{
 "cells": [
  {
   "cell_type": "code",
   "id": "initial_id",
   "metadata": {
    "collapsed": true,
    "ExecuteTime": {
     "end_time": "2025-04-10T00:07:39.041762Z",
     "start_time": "2025-04-10T00:06:04.363496Z"
    }
   },
   "source": [
    "import numpy as np\n",
    "import os\n",
    "import pandas as pd\n",
    "from numpy.ma.extras import average\n",
    "\"\"\"_vehicle_output 파일에서 데이터 가공 (차종별 평균)\"\"\"\n",
    "output_path = r\"C:\\VISSIM_Workspace\\network_new\\network_version2\\network_version2.4.1\\network02_mer\\vehicle_output\"\n",
    "output_files = sorted([f for f in os.listdir(output_path) if f.endswith(\".xlsx\")], key=lambda x: int(x.split(\"_\")[0]) if x.split(\"_\")[0].isdigit() else 0)\n",
    "print(\"vehicle_files : \", output_files)\n",
    "mer_list = []\n",
    "vehicle_type_list = [100, 300, 630, 640, 650]\n",
    "for i in range(len(vehicle_type_list)):\n",
    "    for j in range(len(output_files)):\n",
    "        df = pd.read_excel(os.path.join(output_path, output_files[j]))\n",
    "        print(\"read_excel : \", output_files[j])\n",
    "        df[\"NEW\"] = df[\"Measurem.\"] % 1000\n",
    "\n",
    "        filtered_df = df[df[\"Vehicle type\"] == vehicle_type_list[i]]\n",
    "\n",
    "        # 기존 Measurem. 컬럼의 값이 같은 것끼리 평균 계산\n",
    "        df_grouped = filtered_df.groupby(\"Measurem.\").mean()\n",
    "\n",
    "        new_grouped_df = df_grouped.groupby(\"NEW\").mean().reset_index()\n",
    "        df = new_grouped_df[[\"NEW\", \"v[km/h]\"]]\n",
    "        # .T를 하는 순간 NEW라는 컬럼은 사라진다 -> 인덱스가 0부터 시작하게 됨\n",
    "        df = df.set_index('NEW').T\n",
    "\n",
    "        start_df = df.iloc[:, 0:20]\n",
    "        mid_df = df.iloc[:, 20:100]\n",
    "        end_df = df.iloc[:, 100:120]\n",
    "        total_df = df.iloc[:, :120]\n",
    "\n",
    "        df1 = start_df.values.mean()\n",
    "        df2 = mid_df.values.mean()\n",
    "        df3 = end_df.values.mean()\n",
    "        df4 = total_df.values.mean()\n",
    "        columns = [\"파일명\", \"진입부\", \"본선부\", \"진출부\", \"전체\"]\n",
    "\n",
    "        merged_df = pd.DataFrame([[output_files[j], df1, df2, df3, df4]], columns=columns)\n",
    "        mer_list.append(merged_df)\n",
    "    final_df = pd.concat(mer_list, ignore_index=True).round(3)\n",
    "    excel_path = os.path.join(output_path, \"vehicle_type_output\")\n",
    "    print(\"excel_path : \", excel_path)\n",
    "    if not os.path.exists(excel_path):\n",
    "        os.makedirs(excel_path)\n",
    "    excel_file_path = os.path.join(excel_path, f\"{vehicle_type_list[i]}_output.xlsx\")\n",
    "    final_df.to_excel(excel_file_path, index=False)\n",
    "    print(\"파일 생성 : \", excel_file_path)\n",
    "    mer_list = []\n",
    "print(\"작업이 완료 되었습니다.\")\n",
    "\n"
   ],
   "outputs": [
    {
     "name": "stdout",
     "output_type": "stream",
     "text": [
      "vehicle_files :  ['1_vehicle_output.xlsx', '2_vehicle_output.xlsx', '3_vehicle_output.xlsx', '4_vehicle_output.xlsx', '5_vehicle_output.xlsx', '6_vehicle_output.xlsx', '7_vehicle_output.xlsx', '8_vehicle_output.xlsx', '9_vehicle_output.xlsx', '10_vehicle_output.xlsx', '11_vehicle_output.xlsx', '12_vehicle_output.xlsx']\n",
      "read_excel :  1_vehicle_output.xlsx\n",
      "read_excel :  2_vehicle_output.xlsx\n",
      "read_excel :  3_vehicle_output.xlsx\n",
      "read_excel :  4_vehicle_output.xlsx\n",
      "read_excel :  5_vehicle_output.xlsx\n",
      "read_excel :  6_vehicle_output.xlsx\n",
      "read_excel :  7_vehicle_output.xlsx\n",
      "read_excel :  8_vehicle_output.xlsx\n",
      "read_excel :  9_vehicle_output.xlsx\n",
      "read_excel :  10_vehicle_output.xlsx\n",
      "read_excel :  11_vehicle_output.xlsx\n",
      "read_excel :  12_vehicle_output.xlsx\n",
      "excel_path :  C:\\VISSIM_Workspace\\network_new\\network_version2\\network_version2.4.1\\network02_mer\\vehicle_output\\vehicle_type_output\n",
      "파일 생성 :  C:\\VISSIM_Workspace\\network_new\\network_version2\\network_version2.4.1\\network02_mer\\vehicle_output\\vehicle_type_output\\100_output.xlsx\n",
      "read_excel :  1_vehicle_output.xlsx\n"
     ]
    },
    {
     "ename": "KeyboardInterrupt",
     "evalue": "",
     "output_type": "error",
     "traceback": [
      "\u001B[1;31m---------------------------------------------------------------------------\u001B[0m",
      "\u001B[1;31mKeyboardInterrupt\u001B[0m                         Traceback (most recent call last)",
      "\u001B[1;32mC:\\Users\\Public\\Documents\\ESTsoft\\CreatorTemp\\ipykernel_11072\\2987484182.py\u001B[0m in \u001B[0;36m<module>\u001B[1;34m\u001B[0m\n\u001B[0;32m     11\u001B[0m \u001B[1;32mfor\u001B[0m \u001B[0mi\u001B[0m \u001B[1;32min\u001B[0m \u001B[0mrange\u001B[0m\u001B[1;33m(\u001B[0m\u001B[0mlen\u001B[0m\u001B[1;33m(\u001B[0m\u001B[0mvehicle_type_list\u001B[0m\u001B[1;33m)\u001B[0m\u001B[1;33m)\u001B[0m\u001B[1;33m:\u001B[0m\u001B[1;33m\u001B[0m\u001B[1;33m\u001B[0m\u001B[0m\n\u001B[0;32m     12\u001B[0m     \u001B[1;32mfor\u001B[0m \u001B[0mj\u001B[0m \u001B[1;32min\u001B[0m \u001B[0mrange\u001B[0m\u001B[1;33m(\u001B[0m\u001B[0mlen\u001B[0m\u001B[1;33m(\u001B[0m\u001B[0moutput_files\u001B[0m\u001B[1;33m)\u001B[0m\u001B[1;33m)\u001B[0m\u001B[1;33m:\u001B[0m\u001B[1;33m\u001B[0m\u001B[1;33m\u001B[0m\u001B[0m\n\u001B[1;32m---> 13\u001B[1;33m         \u001B[0mdf\u001B[0m \u001B[1;33m=\u001B[0m \u001B[0mpd\u001B[0m\u001B[1;33m.\u001B[0m\u001B[0mread_excel\u001B[0m\u001B[1;33m(\u001B[0m\u001B[0mos\u001B[0m\u001B[1;33m.\u001B[0m\u001B[0mpath\u001B[0m\u001B[1;33m.\u001B[0m\u001B[0mjoin\u001B[0m\u001B[1;33m(\u001B[0m\u001B[0moutput_path\u001B[0m\u001B[1;33m,\u001B[0m \u001B[0moutput_files\u001B[0m\u001B[1;33m[\u001B[0m\u001B[0mj\u001B[0m\u001B[1;33m]\u001B[0m\u001B[1;33m)\u001B[0m\u001B[1;33m)\u001B[0m\u001B[1;33m\u001B[0m\u001B[1;33m\u001B[0m\u001B[0m\n\u001B[0m\u001B[0;32m     14\u001B[0m         \u001B[0mprint\u001B[0m\u001B[1;33m(\u001B[0m\u001B[1;34m\"read_excel : \"\u001B[0m\u001B[1;33m,\u001B[0m \u001B[0moutput_files\u001B[0m\u001B[1;33m[\u001B[0m\u001B[0mj\u001B[0m\u001B[1;33m]\u001B[0m\u001B[1;33m)\u001B[0m\u001B[1;33m\u001B[0m\u001B[1;33m\u001B[0m\u001B[0m\n\u001B[0;32m     15\u001B[0m         \u001B[0mdf\u001B[0m\u001B[1;33m[\u001B[0m\u001B[1;34m\"NEW\"\u001B[0m\u001B[1;33m]\u001B[0m \u001B[1;33m=\u001B[0m \u001B[0mdf\u001B[0m\u001B[1;33m[\u001B[0m\u001B[1;34m\"Measurem.\"\u001B[0m\u001B[1;33m]\u001B[0m \u001B[1;33m%\u001B[0m \u001B[1;36m1000\u001B[0m\u001B[1;33m\u001B[0m\u001B[1;33m\u001B[0m\u001B[0m\n",
      "\u001B[1;32mC:\\Workspace\\vissimTest_Python\\.venv\\lib\\site-packages\\pandas\\util\\_decorators.py\u001B[0m in \u001B[0;36mwrapper\u001B[1;34m(*args, **kwargs)\u001B[0m\n\u001B[0;32m    309\u001B[0m                     \u001B[0mstacklevel\u001B[0m\u001B[1;33m=\u001B[0m\u001B[0mstacklevel\u001B[0m\u001B[1;33m,\u001B[0m\u001B[1;33m\u001B[0m\u001B[1;33m\u001B[0m\u001B[0m\n\u001B[0;32m    310\u001B[0m                 )\n\u001B[1;32m--> 311\u001B[1;33m             \u001B[1;32mreturn\u001B[0m \u001B[0mfunc\u001B[0m\u001B[1;33m(\u001B[0m\u001B[1;33m*\u001B[0m\u001B[0margs\u001B[0m\u001B[1;33m,\u001B[0m \u001B[1;33m**\u001B[0m\u001B[0mkwargs\u001B[0m\u001B[1;33m)\u001B[0m\u001B[1;33m\u001B[0m\u001B[1;33m\u001B[0m\u001B[0m\n\u001B[0m\u001B[0;32m    312\u001B[0m \u001B[1;33m\u001B[0m\u001B[0m\n\u001B[0;32m    313\u001B[0m         \u001B[1;32mreturn\u001B[0m \u001B[0mwrapper\u001B[0m\u001B[1;33m\u001B[0m\u001B[1;33m\u001B[0m\u001B[0m\n",
      "\u001B[1;32mC:\\Workspace\\vissimTest_Python\\.venv\\lib\\site-packages\\pandas\\io\\excel\\_base.py\u001B[0m in \u001B[0;36mread_excel\u001B[1;34m(io, sheet_name, header, names, index_col, usecols, squeeze, dtype, engine, converters, true_values, false_values, skiprows, nrows, na_values, keep_default_na, na_filter, verbose, parse_dates, date_parser, thousands, comment, skipfooter, convert_float, mangle_dupe_cols, storage_options)\u001B[0m\n\u001B[0;32m    393\u001B[0m             \u001B[0mskipfooter\u001B[0m\u001B[1;33m=\u001B[0m\u001B[0mskipfooter\u001B[0m\u001B[1;33m,\u001B[0m\u001B[1;33m\u001B[0m\u001B[1;33m\u001B[0m\u001B[0m\n\u001B[0;32m    394\u001B[0m             \u001B[0mconvert_float\u001B[0m\u001B[1;33m=\u001B[0m\u001B[0mconvert_float\u001B[0m\u001B[1;33m,\u001B[0m\u001B[1;33m\u001B[0m\u001B[1;33m\u001B[0m\u001B[0m\n\u001B[1;32m--> 395\u001B[1;33m             \u001B[0mmangle_dupe_cols\u001B[0m\u001B[1;33m=\u001B[0m\u001B[0mmangle_dupe_cols\u001B[0m\u001B[1;33m,\u001B[0m\u001B[1;33m\u001B[0m\u001B[1;33m\u001B[0m\u001B[0m\n\u001B[0m\u001B[0;32m    396\u001B[0m         )\n\u001B[0;32m    397\u001B[0m     \u001B[1;32mfinally\u001B[0m\u001B[1;33m:\u001B[0m\u001B[1;33m\u001B[0m\u001B[1;33m\u001B[0m\u001B[0m\n",
      "\u001B[1;32mC:\\Workspace\\vissimTest_Python\\.venv\\lib\\site-packages\\pandas\\io\\excel\\_base.py\u001B[0m in \u001B[0;36mparse\u001B[1;34m(self, sheet_name, header, names, index_col, usecols, squeeze, converters, true_values, false_values, skiprows, nrows, na_values, parse_dates, date_parser, thousands, comment, skipfooter, convert_float, mangle_dupe_cols, **kwds)\u001B[0m\n\u001B[0;32m   1290\u001B[0m             \u001B[0mconvert_float\u001B[0m\u001B[1;33m=\u001B[0m\u001B[0mconvert_float\u001B[0m\u001B[1;33m,\u001B[0m\u001B[1;33m\u001B[0m\u001B[1;33m\u001B[0m\u001B[0m\n\u001B[0;32m   1291\u001B[0m             \u001B[0mmangle_dupe_cols\u001B[0m\u001B[1;33m=\u001B[0m\u001B[0mmangle_dupe_cols\u001B[0m\u001B[1;33m,\u001B[0m\u001B[1;33m\u001B[0m\u001B[1;33m\u001B[0m\u001B[0m\n\u001B[1;32m-> 1292\u001B[1;33m             \u001B[1;33m**\u001B[0m\u001B[0mkwds\u001B[0m\u001B[1;33m,\u001B[0m\u001B[1;33m\u001B[0m\u001B[1;33m\u001B[0m\u001B[0m\n\u001B[0m\u001B[0;32m   1293\u001B[0m         )\n\u001B[0;32m   1294\u001B[0m \u001B[1;33m\u001B[0m\u001B[0m\n",
      "\u001B[1;32mC:\\Workspace\\vissimTest_Python\\.venv\\lib\\site-packages\\pandas\\io\\excel\\_base.py\u001B[0m in \u001B[0;36mparse\u001B[1;34m(self, sheet_name, header, names, index_col, usecols, squeeze, dtype, true_values, false_values, skiprows, nrows, na_values, verbose, parse_dates, date_parser, thousands, comment, skipfooter, convert_float, mangle_dupe_cols, **kwds)\u001B[0m\n\u001B[0;32m    537\u001B[0m                 \u001B[0msheet\u001B[0m \u001B[1;33m=\u001B[0m \u001B[0mself\u001B[0m\u001B[1;33m.\u001B[0m\u001B[0mget_sheet_by_index\u001B[0m\u001B[1;33m(\u001B[0m\u001B[0masheetname\u001B[0m\u001B[1;33m)\u001B[0m\u001B[1;33m\u001B[0m\u001B[1;33m\u001B[0m\u001B[0m\n\u001B[0;32m    538\u001B[0m \u001B[1;33m\u001B[0m\u001B[0m\n\u001B[1;32m--> 539\u001B[1;33m             \u001B[0mdata\u001B[0m \u001B[1;33m=\u001B[0m \u001B[0mself\u001B[0m\u001B[1;33m.\u001B[0m\u001B[0mget_sheet_data\u001B[0m\u001B[1;33m(\u001B[0m\u001B[0msheet\u001B[0m\u001B[1;33m,\u001B[0m \u001B[0mconvert_float\u001B[0m\u001B[1;33m)\u001B[0m\u001B[1;33m\u001B[0m\u001B[1;33m\u001B[0m\u001B[0m\n\u001B[0m\u001B[0;32m    540\u001B[0m             \u001B[1;32mif\u001B[0m \u001B[0mhasattr\u001B[0m\u001B[1;33m(\u001B[0m\u001B[0msheet\u001B[0m\u001B[1;33m,\u001B[0m \u001B[1;34m\"close\"\u001B[0m\u001B[1;33m)\u001B[0m\u001B[1;33m:\u001B[0m\u001B[1;33m\u001B[0m\u001B[1;33m\u001B[0m\u001B[0m\n\u001B[0;32m    541\u001B[0m                 \u001B[1;31m# pyxlsb opens two TemporaryFiles\u001B[0m\u001B[1;33m\u001B[0m\u001B[1;33m\u001B[0m\u001B[1;33m\u001B[0m\u001B[0m\n",
      "\u001B[1;32mC:\\Workspace\\vissimTest_Python\\.venv\\lib\\site-packages\\pandas\\io\\excel\\_openpyxl.py\u001B[0m in \u001B[0;36mget_sheet_data\u001B[1;34m(self, sheet, convert_float)\u001B[0m\n\u001B[0;32m    570\u001B[0m         \u001B[0mdata\u001B[0m\u001B[1;33m:\u001B[0m \u001B[0mlist\u001B[0m\u001B[1;33m[\u001B[0m\u001B[0mlist\u001B[0m\u001B[1;33m[\u001B[0m\u001B[0mScalar\u001B[0m\u001B[1;33m]\u001B[0m\u001B[1;33m]\u001B[0m \u001B[1;33m=\u001B[0m \u001B[1;33m[\u001B[0m\u001B[1;33m]\u001B[0m\u001B[1;33m\u001B[0m\u001B[1;33m\u001B[0m\u001B[0m\n\u001B[0;32m    571\u001B[0m         \u001B[0mlast_row_with_data\u001B[0m \u001B[1;33m=\u001B[0m \u001B[1;33m-\u001B[0m\u001B[1;36m1\u001B[0m\u001B[1;33m\u001B[0m\u001B[1;33m\u001B[0m\u001B[0m\n\u001B[1;32m--> 572\u001B[1;33m         \u001B[1;32mfor\u001B[0m \u001B[0mrow_number\u001B[0m\u001B[1;33m,\u001B[0m \u001B[0mrow\u001B[0m \u001B[1;32min\u001B[0m \u001B[0menumerate\u001B[0m\u001B[1;33m(\u001B[0m\u001B[0msheet\u001B[0m\u001B[1;33m.\u001B[0m\u001B[0mrows\u001B[0m\u001B[1;33m)\u001B[0m\u001B[1;33m:\u001B[0m\u001B[1;33m\u001B[0m\u001B[1;33m\u001B[0m\u001B[0m\n\u001B[0m\u001B[0;32m    573\u001B[0m             \u001B[0mconverted_row\u001B[0m \u001B[1;33m=\u001B[0m \u001B[1;33m[\u001B[0m\u001B[0mself\u001B[0m\u001B[1;33m.\u001B[0m\u001B[0m_convert_cell\u001B[0m\u001B[1;33m(\u001B[0m\u001B[0mcell\u001B[0m\u001B[1;33m,\u001B[0m \u001B[0mconvert_float\u001B[0m\u001B[1;33m)\u001B[0m \u001B[1;32mfor\u001B[0m \u001B[0mcell\u001B[0m \u001B[1;32min\u001B[0m \u001B[0mrow\u001B[0m\u001B[1;33m]\u001B[0m\u001B[1;33m\u001B[0m\u001B[1;33m\u001B[0m\u001B[0m\n\u001B[0;32m    574\u001B[0m             \u001B[1;32mwhile\u001B[0m \u001B[0mconverted_row\u001B[0m \u001B[1;32mand\u001B[0m \u001B[0mconverted_row\u001B[0m\u001B[1;33m[\u001B[0m\u001B[1;33m-\u001B[0m\u001B[1;36m1\u001B[0m\u001B[1;33m]\u001B[0m \u001B[1;33m==\u001B[0m \u001B[1;34m\"\"\u001B[0m\u001B[1;33m:\u001B[0m\u001B[1;33m\u001B[0m\u001B[1;33m\u001B[0m\u001B[0m\n",
      "\u001B[1;32mC:\\Workspace\\vissimTest_Python\\.venv\\lib\\site-packages\\openpyxl\\worksheet\\_read_only.py\u001B[0m in \u001B[0;36m_cells_by_row\u001B[1;34m(self, min_col, min_row, max_col, max_row, values_only)\u001B[0m\n\u001B[0;32m     83\u001B[0m                                      timedelta_formats=self.parent._timedelta_formats)\n\u001B[0;32m     84\u001B[0m \u001B[1;33m\u001B[0m\u001B[0m\n\u001B[1;32m---> 85\u001B[1;33m             \u001B[1;32mfor\u001B[0m \u001B[0midx\u001B[0m\u001B[1;33m,\u001B[0m \u001B[0mrow\u001B[0m \u001B[1;32min\u001B[0m \u001B[0mparser\u001B[0m\u001B[1;33m.\u001B[0m\u001B[0mparse\u001B[0m\u001B[1;33m(\u001B[0m\u001B[1;33m)\u001B[0m\u001B[1;33m:\u001B[0m\u001B[1;33m\u001B[0m\u001B[1;33m\u001B[0m\u001B[0m\n\u001B[0m\u001B[0;32m     86\u001B[0m                 \u001B[1;32mif\u001B[0m \u001B[0mmax_row\u001B[0m \u001B[1;32mis\u001B[0m \u001B[1;32mnot\u001B[0m \u001B[1;32mNone\u001B[0m \u001B[1;32mand\u001B[0m \u001B[0midx\u001B[0m \u001B[1;33m>\u001B[0m \u001B[0mmax_row\u001B[0m\u001B[1;33m:\u001B[0m\u001B[1;33m\u001B[0m\u001B[1;33m\u001B[0m\u001B[0m\n\u001B[0;32m     87\u001B[0m                     \u001B[1;32mbreak\u001B[0m\u001B[1;33m\u001B[0m\u001B[1;33m\u001B[0m\u001B[0m\n",
      "\u001B[1;32mC:\\Workspace\\vissimTest_Python\\.venv\\lib\\site-packages\\openpyxl\\worksheet\\_reader.py\u001B[0m in \u001B[0;36mparse\u001B[1;34m(self)\u001B[0m\n\u001B[0;32m    154\u001B[0m         \u001B[0mit\u001B[0m \u001B[1;33m=\u001B[0m \u001B[0miterparse\u001B[0m\u001B[1;33m(\u001B[0m\u001B[0mself\u001B[0m\u001B[1;33m.\u001B[0m\u001B[0msource\u001B[0m\u001B[1;33m)\u001B[0m \u001B[1;31m# add a finaliser to close the source when this becomes possible\u001B[0m\u001B[1;33m\u001B[0m\u001B[1;33m\u001B[0m\u001B[0m\n\u001B[0;32m    155\u001B[0m \u001B[1;33m\u001B[0m\u001B[0m\n\u001B[1;32m--> 156\u001B[1;33m         \u001B[1;32mfor\u001B[0m \u001B[0m_\u001B[0m\u001B[1;33m,\u001B[0m \u001B[0melement\u001B[0m \u001B[1;32min\u001B[0m \u001B[0mit\u001B[0m\u001B[1;33m:\u001B[0m\u001B[1;33m\u001B[0m\u001B[1;33m\u001B[0m\u001B[0m\n\u001B[0m\u001B[0;32m    157\u001B[0m             \u001B[0mtag_name\u001B[0m \u001B[1;33m=\u001B[0m \u001B[0melement\u001B[0m\u001B[1;33m.\u001B[0m\u001B[0mtag\u001B[0m\u001B[1;33m\u001B[0m\u001B[1;33m\u001B[0m\u001B[0m\n\u001B[0;32m    158\u001B[0m             \u001B[1;32mif\u001B[0m \u001B[0mtag_name\u001B[0m \u001B[1;32min\u001B[0m \u001B[0mdispatcher\u001B[0m\u001B[1;33m:\u001B[0m\u001B[1;33m\u001B[0m\u001B[1;33m\u001B[0m\u001B[0m\n",
      "\u001B[1;32mC:\\Program Files (x86)\\Microsoft Visual Studio\\Shared\\Python37_64\\lib\\xml\\etree\\ElementTree.py\u001B[0m in \u001B[0;36miterator\u001B[1;34m()\u001B[0m\n\u001B[0;32m   1222\u001B[0m                 \u001B[1;32myield\u001B[0m \u001B[1;32mfrom\u001B[0m \u001B[0mpullparser\u001B[0m\u001B[1;33m.\u001B[0m\u001B[0mread_events\u001B[0m\u001B[1;33m(\u001B[0m\u001B[1;33m)\u001B[0m\u001B[1;33m\u001B[0m\u001B[1;33m\u001B[0m\u001B[0m\n\u001B[0;32m   1223\u001B[0m                 \u001B[1;31m# load event buffer\u001B[0m\u001B[1;33m\u001B[0m\u001B[1;33m\u001B[0m\u001B[1;33m\u001B[0m\u001B[0m\n\u001B[1;32m-> 1224\u001B[1;33m                 \u001B[0mdata\u001B[0m \u001B[1;33m=\u001B[0m \u001B[0msource\u001B[0m\u001B[1;33m.\u001B[0m\u001B[0mread\u001B[0m\u001B[1;33m(\u001B[0m\u001B[1;36m16\u001B[0m \u001B[1;33m*\u001B[0m \u001B[1;36m1024\u001B[0m\u001B[1;33m)\u001B[0m\u001B[1;33m\u001B[0m\u001B[1;33m\u001B[0m\u001B[0m\n\u001B[0m\u001B[0;32m   1225\u001B[0m                 \u001B[1;32mif\u001B[0m \u001B[1;32mnot\u001B[0m \u001B[0mdata\u001B[0m\u001B[1;33m:\u001B[0m\u001B[1;33m\u001B[0m\u001B[1;33m\u001B[0m\u001B[0m\n\u001B[0;32m   1226\u001B[0m                     \u001B[1;32mbreak\u001B[0m\u001B[1;33m\u001B[0m\u001B[1;33m\u001B[0m\u001B[0m\n",
      "\u001B[1;32mC:\\Program Files (x86)\\Microsoft Visual Studio\\Shared\\Python37_64\\lib\\zipfile.py\u001B[0m in \u001B[0;36mread\u001B[1;34m(self, n)\u001B[0m\n\u001B[0;32m    928\u001B[0m         \u001B[0mself\u001B[0m\u001B[1;33m.\u001B[0m\u001B[0m_offset\u001B[0m \u001B[1;33m=\u001B[0m \u001B[1;36m0\u001B[0m\u001B[1;33m\u001B[0m\u001B[1;33m\u001B[0m\u001B[0m\n\u001B[0;32m    929\u001B[0m         \u001B[1;32mwhile\u001B[0m \u001B[0mn\u001B[0m \u001B[1;33m>\u001B[0m \u001B[1;36m0\u001B[0m \u001B[1;32mand\u001B[0m \u001B[1;32mnot\u001B[0m \u001B[0mself\u001B[0m\u001B[1;33m.\u001B[0m\u001B[0m_eof\u001B[0m\u001B[1;33m:\u001B[0m\u001B[1;33m\u001B[0m\u001B[1;33m\u001B[0m\u001B[0m\n\u001B[1;32m--> 930\u001B[1;33m             \u001B[0mdata\u001B[0m \u001B[1;33m=\u001B[0m \u001B[0mself\u001B[0m\u001B[1;33m.\u001B[0m\u001B[0m_read1\u001B[0m\u001B[1;33m(\u001B[0m\u001B[0mn\u001B[0m\u001B[1;33m)\u001B[0m\u001B[1;33m\u001B[0m\u001B[1;33m\u001B[0m\u001B[0m\n\u001B[0m\u001B[0;32m    931\u001B[0m             \u001B[1;32mif\u001B[0m \u001B[0mn\u001B[0m \u001B[1;33m<\u001B[0m \u001B[0mlen\u001B[0m\u001B[1;33m(\u001B[0m\u001B[0mdata\u001B[0m\u001B[1;33m)\u001B[0m\u001B[1;33m:\u001B[0m\u001B[1;33m\u001B[0m\u001B[1;33m\u001B[0m\u001B[0m\n\u001B[0;32m    932\u001B[0m                 \u001B[0mself\u001B[0m\u001B[1;33m.\u001B[0m\u001B[0m_readbuffer\u001B[0m \u001B[1;33m=\u001B[0m \u001B[0mdata\u001B[0m\u001B[1;33m\u001B[0m\u001B[1;33m\u001B[0m\u001B[0m\n",
      "\u001B[1;32mC:\\Program Files (x86)\\Microsoft Visual Studio\\Shared\\Python37_64\\lib\\zipfile.py\u001B[0m in \u001B[0;36m_read1\u001B[1;34m(self, n)\u001B[0m\n\u001B[0;32m   1004\u001B[0m         \u001B[1;32melif\u001B[0m \u001B[0mself\u001B[0m\u001B[1;33m.\u001B[0m\u001B[0m_compress_type\u001B[0m \u001B[1;33m==\u001B[0m \u001B[0mZIP_DEFLATED\u001B[0m\u001B[1;33m:\u001B[0m\u001B[1;33m\u001B[0m\u001B[1;33m\u001B[0m\u001B[0m\n\u001B[0;32m   1005\u001B[0m             \u001B[0mn\u001B[0m \u001B[1;33m=\u001B[0m \u001B[0mmax\u001B[0m\u001B[1;33m(\u001B[0m\u001B[0mn\u001B[0m\u001B[1;33m,\u001B[0m \u001B[0mself\u001B[0m\u001B[1;33m.\u001B[0m\u001B[0mMIN_READ_SIZE\u001B[0m\u001B[1;33m)\u001B[0m\u001B[1;33m\u001B[0m\u001B[1;33m\u001B[0m\u001B[0m\n\u001B[1;32m-> 1006\u001B[1;33m             \u001B[0mdata\u001B[0m \u001B[1;33m=\u001B[0m \u001B[0mself\u001B[0m\u001B[1;33m.\u001B[0m\u001B[0m_decompressor\u001B[0m\u001B[1;33m.\u001B[0m\u001B[0mdecompress\u001B[0m\u001B[1;33m(\u001B[0m\u001B[0mdata\u001B[0m\u001B[1;33m,\u001B[0m \u001B[0mn\u001B[0m\u001B[1;33m)\u001B[0m\u001B[1;33m\u001B[0m\u001B[1;33m\u001B[0m\u001B[0m\n\u001B[0m\u001B[0;32m   1007\u001B[0m             self._eof = (self._decompressor.eof or\n\u001B[0;32m   1008\u001B[0m                          \u001B[0mself\u001B[0m\u001B[1;33m.\u001B[0m\u001B[0m_compress_left\u001B[0m \u001B[1;33m<=\u001B[0m \u001B[1;36m0\u001B[0m \u001B[1;32mand\u001B[0m\u001B[1;33m\u001B[0m\u001B[1;33m\u001B[0m\u001B[0m\n",
      "\u001B[1;31mKeyboardInterrupt\u001B[0m: "
     ]
    }
   ],
   "execution_count": 1
  },
  {
   "metadata": {},
   "cell_type": "code",
   "source": "",
   "id": "93ff0713dd6481e1",
   "outputs": [],
   "execution_count": null
  }
 ],
 "metadata": {
  "kernelspec": {
   "display_name": "Python 3",
   "language": "python",
   "name": "python3"
  },
  "language_info": {
   "codemirror_mode": {
    "name": "ipython",
    "version": 2
   },
   "file_extension": ".py",
   "mimetype": "text/x-python",
   "name": "python",
   "nbconvert_exporter": "python",
   "pygments_lexer": "ipython2",
   "version": "2.7.6"
  }
 },
 "nbformat": 4,
 "nbformat_minor": 5
}
