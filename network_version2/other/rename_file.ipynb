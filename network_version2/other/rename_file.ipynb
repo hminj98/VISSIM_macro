{
 "cells": [
  {
   "cell_type": "code",
   "id": "initial_id",
   "metadata": {
    "collapsed": true,
    "ExecuteTime": {
     "end_time": "2025-08-26T05:43:58.571642Z",
     "start_time": "2025-08-26T05:43:58.535929Z"
    }
   },
   "source": [
    "import os\n",
    "\n",
    "# 대상 폴더 경로\n",
    "folder_path = r\"C:\\VISSIM_Workspace\\network_version2.11.1\\밀도값\"\n",
    "\n",
    "# 폴더 내 모든 파일 확인\n",
    "for filename in os.listdir(folder_path):\n",
    "    if filename.endswith(\".xlsx\"):  # 엑셀 파일만 대상\n",
    "        old_path = os.path.join(folder_path, filename)\n",
    "        new_filename = \"지하부_\" + filename\n",
    "        new_path = os.path.join(folder_path, new_filename)\n",
    "\n",
    "        # 파일명 변경\n",
    "        os.rename(old_path, new_path)\n",
    "        print(f\"{filename} → {new_filename}\")\n",
    "\n",
    "print(\"파일명 변경 완료!\")\n"
   ],
   "outputs": [
    {
     "name": "stdout",
     "output_type": "stream",
     "text": [
      "밀도값_1.xlsx → 지하부_밀도값_1.xlsx\n",
      "밀도값_10.xlsx → 지하부_밀도값_10.xlsx\n",
      "밀도값_2.xlsx → 지하부_밀도값_2.xlsx\n",
      "밀도값_3.xlsx → 지하부_밀도값_3.xlsx\n",
      "밀도값_4.xlsx → 지하부_밀도값_4.xlsx\n",
      "밀도값_5.xlsx → 지하부_밀도값_5.xlsx\n",
      "밀도값_6.xlsx → 지하부_밀도값_6.xlsx\n",
      "밀도값_7.xlsx → 지하부_밀도값_7.xlsx\n",
      "밀도값_8.xlsx → 지하부_밀도값_8.xlsx\n",
      "밀도값_9.xlsx → 지하부_밀도값_9.xlsx\n",
      "파일명 변경 완료!\n"
     ]
    }
   ],
   "execution_count": 5
  }
 ],
 "metadata": {
  "kernelspec": {
   "display_name": "Python 3",
   "language": "python",
   "name": "python3"
  },
  "language_info": {
   "codemirror_mode": {
    "name": "ipython",
    "version": 2
   },
   "file_extension": ".py",
   "mimetype": "text/x-python",
   "name": "python",
   "nbconvert_exporter": "python",
   "pygments_lexer": "ipython2",
   "version": "2.7.6"
  }
 },
 "nbformat": 4,
 "nbformat_minor": 5
}
