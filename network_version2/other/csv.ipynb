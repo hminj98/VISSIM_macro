{
 "cells": [
  {
   "cell_type": "code",
   "id": "initial_id",
   "metadata": {
    "collapsed": true,
    "ExecuteTime": {
     "end_time": "2025-06-20T02:20:39.170307Z",
     "start_time": "2025-06-20T02:20:15.075800Z"
    }
   },
   "source": [
    "import os\n",
    "\n",
    "import pandas as pd\n",
    "output_dir = r\"C:\\Users\\(주)내일이엔시 도로교통안전연구소\\Desktop\\보도설치 및 길어깨\"\n",
    "# CSV 파일 읽기\n",
    "file1 = pd.read_csv(r'C:\\Users\\(주)내일이엔시 도로교통안전연구소\\Desktop\\보도설치 및 길어깨\\교통사고 연도별 분리 데이터\\csv파일\\2021_사고자료.csv', encoding='utf-8-sig', low_memory=False)\n",
    "file2 = pd.read_csv(r'C:\\Users\\(주)내일이엔시 도로교통안전연구소\\Desktop\\보도설치 및 길어깨\\교통사고 연도별 분리 데이터\\csv파일\\2022_사고자료.csv', encoding='utf-8-sig', low_memory=False)\n",
    "file3 = pd.read_csv(r'C:\\Users\\(주)내일이엔시 도로교통안전연구소\\Desktop\\보도설치 및 길어깨\\교통사고 연도별 분리 데이터\\csv파일\\2023_사고자료.csv', encoding='utf-8-sig', low_memory=False)\n",
    "\n",
    "# 모든 열 출력\n",
    "pd.set_option('display.max_columns', None)\n",
    "\n",
    "# (선택) 문자열 길이 제한 없애기\n",
    "pd.set_option('display.max_colwidth', None)\n",
    "\n",
    "# (선택) 출력 넓이도 확장\n",
    "pd.set_option('display.width', 0)  # 또는 큰 숫자 (ex: 2000)\n",
    "\n",
    "\n",
    "print(\"file1_row : \", len(file1))\n",
    "print(\"file2_row : \", len(file2))\n",
    "print(\"file3_row : \", len(file3))\n",
    "\n",
    "\n",
    "merged_df = pd.concat([file1, file2, file3], ignore_index=True)\n",
    "print(\"merged_row : \", len(merged_df))\n",
    "\n",
    "output_path = os.path.join(output_dir, f\"2021-2023_사고자료.csv\")\n",
    "merged_df.to_csv(output_path, index=False, encoding='utf-8-sig')\n",
    "print(\"작업완료\")\n"
   ],
   "outputs": [
    {
     "name": "stdout",
     "output_type": "stream",
     "text": [
      "file1_row :  203130\n",
      "file2_row :  196836\n",
      "file3_row :  198230\n",
      "merged_row :  598196\n",
      "작업완료\n"
     ]
    }
   ],
   "execution_count": 1
  }
 ],
 "metadata": {
  "kernelspec": {
   "display_name": "Python 3",
   "language": "python",
   "name": "python3"
  },
  "language_info": {
   "codemirror_mode": {
    "name": "ipython",
    "version": 2
   },
   "file_extension": ".py",
   "mimetype": "text/x-python",
   "name": "python",
   "nbconvert_exporter": "python",
   "pygments_lexer": "ipython2",
   "version": "2.7.6"
  }
 },
 "nbformat": 4,
 "nbformat_minor": 5
}
