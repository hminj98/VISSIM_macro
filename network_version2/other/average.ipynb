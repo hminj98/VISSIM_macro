{
 "cells": [
  {
   "cell_type": "code",
   "id": "initial_id",
   "metadata": {
    "collapsed": true,
    "ExecuteTime": {
     "end_time": "2025-09-02T00:31:56.129577Z",
     "start_time": "2025-09-02T00:31:55.836345Z"
    }
   },
   "source": [
    "import os\n",
    "\n",
    "import pandas as pd\n",
    "\n",
    "folder_path = r\"C:\\VISSIM_Workspace\\테스트\\STVm\"\n",
    "\n",
    "excel_file = sorted([file for file in os.listdir(folder_path) if file.endswith(\".xlsx\")],  key=lambda x: int(x.split(\"_\")[0]) if x.split(\"_\")[0].isdigit() else 0)\n",
    "print(\"excel_file : \", excel_file)\n",
    "\n",
    "\n",
    "df_list = []\n",
    "\n",
    "for i in range(len(excel_file)):\n",
    "    work_file = os.path.join(folder_path, excel_file[i])\n",
    "    print(f\"{excel_file[i]} 작업중...\")\n",
    "    df = pd.read_excel(work_file)\n",
    "\n",
    "    entry_mean = df.loc[:, range(-5,0)].values.mean().round(3)\n",
    "    entry_std = df.loc[:, range(-5,0)].values.std(ddof=1).round(3)\n",
    "\n",
    "    start_mean = df.loc[:, range(1,31)].values.mean().round(3)\n",
    "    start_std = df.loc[:, range(1,31)].values.std(ddof=1).round(3)\n",
    "\n",
    "    mid_mean = df.loc[:, range(31,231)].values.mean().round(3)\n",
    "    mid_std = df.loc[:, range(31,231)].values.std(ddof=1).round(3)\n",
    "\n",
    "    end_mean = df.loc[:, range(231,261)].values.mean().round(3)\n",
    "    end_std = df.loc[:, range(231,261)].values.std(ddof=1).round(3)\n",
    "\n",
    "    exit_mean = df.loc[:, range(261,266)].values.mean().round(3)\n",
    "    exit_std = df.loc[:, range(261,266)].values.std(ddof=1).round(3)\n",
    "\n",
    "    # 컬럼 정의\n",
    "    columns = [\n",
    "        \"파일명\", \"지상부_진입\", \"진입부\", \"본선부\", \"진출부\", \"지상부_진출\"\n",
    "    ]\n",
    "\n",
    "    merged_data =[\n",
    "        excel_file[i], entry_mean, start_mean, mid_mean, end_mean, exit_mean\n",
    "    ]\n",
    "\n",
    "    merged_df = pd.DataFrame([merged_data], columns=columns)\n",
    "    df_list.append(merged_df)\n",
    "\n",
    "final_df = pd.concat(df_list, ignore_index=True)\n",
    "display(final_df)\n",
    "\n",
    "excel_save_path = os.path.join(folder_path, \"Total.xlsx\")\n",
    "final_df.to_excel(excel_save_path, index=False)\n",
    "print(\"작업완료!!!!!!\")"
   ],
   "outputs": [
    {
     "name": "stdout",
     "output_type": "stream",
     "text": [
      "excel_file :  ['STVM_1.xlsx', 'STVM_2.xlsx', 'STVM_3.xlsx', 'STVM_4.xlsx']\n",
      "STVM_1.xlsx 작업중...\n",
      "STVM_2.xlsx 작업중...\n",
      "STVM_3.xlsx 작업중...\n",
      "STVM_4.xlsx 작업중...\n"
     ]
    },
    {
     "name": "stderr",
     "output_type": "stream",
     "text": [
      "C:\\Workspace\\vissimTest_Python\\.venv\\lib\\site-packages\\numpy\\core\\_methods.py:230: RuntimeWarning: invalid value encountered in subtract\n",
      "  x = asanyarray(arr - arrmean)\n"
     ]
    },
    {
     "data": {
      "text/plain": [
       "           파일명  지상부_진입    진입부    본선부    진출부  지상부_진출\n",
       "0  STVM_1.xlsx   1.972  1.972  1.964  1.959   1.960\n",
       "1  STVM_2.xlsx   2.074  2.071  2.044  1.973   1.977\n",
       "2  STVM_3.xlsx   2.041  2.043  2.048  2.042   2.043\n",
       "3  STVM_4.xlsx     inf    inf    inf    inf     inf"
      ],
      "text/html": [
       "<div>\n",
       "<style scoped>\n",
       "    .dataframe tbody tr th:only-of-type {\n",
       "        vertical-align: middle;\n",
       "    }\n",
       "\n",
       "    .dataframe tbody tr th {\n",
       "        vertical-align: top;\n",
       "    }\n",
       "\n",
       "    .dataframe thead th {\n",
       "        text-align: right;\n",
       "    }\n",
       "</style>\n",
       "<table border=\"1\" class=\"dataframe\">\n",
       "  <thead>\n",
       "    <tr style=\"text-align: right;\">\n",
       "      <th></th>\n",
       "      <th>파일명</th>\n",
       "      <th>지상부_진입</th>\n",
       "      <th>진입부</th>\n",
       "      <th>본선부</th>\n",
       "      <th>진출부</th>\n",
       "      <th>지상부_진출</th>\n",
       "    </tr>\n",
       "  </thead>\n",
       "  <tbody>\n",
       "    <tr>\n",
       "      <th>0</th>\n",
       "      <td>STVM_1.xlsx</td>\n",
       "      <td>1.972</td>\n",
       "      <td>1.972</td>\n",
       "      <td>1.964</td>\n",
       "      <td>1.959</td>\n",
       "      <td>1.960</td>\n",
       "    </tr>\n",
       "    <tr>\n",
       "      <th>1</th>\n",
       "      <td>STVM_2.xlsx</td>\n",
       "      <td>2.074</td>\n",
       "      <td>2.071</td>\n",
       "      <td>2.044</td>\n",
       "      <td>1.973</td>\n",
       "      <td>1.977</td>\n",
       "    </tr>\n",
       "    <tr>\n",
       "      <th>2</th>\n",
       "      <td>STVM_3.xlsx</td>\n",
       "      <td>2.041</td>\n",
       "      <td>2.043</td>\n",
       "      <td>2.048</td>\n",
       "      <td>2.042</td>\n",
       "      <td>2.043</td>\n",
       "    </tr>\n",
       "    <tr>\n",
       "      <th>3</th>\n",
       "      <td>STVM_4.xlsx</td>\n",
       "      <td>inf</td>\n",
       "      <td>inf</td>\n",
       "      <td>inf</td>\n",
       "      <td>inf</td>\n",
       "      <td>inf</td>\n",
       "    </tr>\n",
       "  </tbody>\n",
       "</table>\n",
       "</div>"
      ]
     },
     "metadata": {},
     "output_type": "display_data"
    },
    {
     "name": "stdout",
     "output_type": "stream",
     "text": [
      "작업완료!!!!!!\n"
     ]
    }
   ],
   "execution_count": 6
  }
 ],
 "metadata": {
  "kernelspec": {
   "display_name": "Python 3",
   "language": "python",
   "name": "python3"
  },
  "language_info": {
   "codemirror_mode": {
    "name": "ipython",
    "version": 2
   },
   "file_extension": ".py",
   "mimetype": "text/x-python",
   "name": "python",
   "nbconvert_exporter": "python",
   "pygments_lexer": "ipython2",
   "version": "2.7.6"
  }
 },
 "nbformat": 4,
 "nbformat_minor": 5
}
