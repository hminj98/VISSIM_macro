{
 "cells": [
  {
   "cell_type": "code",
   "id": "initial_id",
   "metadata": {
    "collapsed": true,
    "ExecuteTime": {
     "end_time": "2025-09-03T00:01:13.999304Z",
     "start_time": "2025-09-03T00:01:13.583813Z"
    }
   },
   "source": [
    "import os\n",
    "\n",
    "import pandas as pd\n",
    "\n",
    "folder_path = r\"C:\\VISSIM_Workspace\\테스트\\속도값\"\n",
    "\n",
    "excel_file = sorted([file for file in os.listdir(folder_path) if file.endswith(\".xlsx\")],  key=lambda x: int(x.split(\"_\")[0]) if x.split(\"_\")[0].isdigit() else 0)\n",
    "print(\"excel_file : \", excel_file)\n",
    "\n",
    "\n",
    "df_list = []\n",
    "\n",
    "for i in range(len(excel_file)):\n",
    "    work_file = os.path.join(folder_path, excel_file[i])\n",
    "    print(f\"{excel_file[i]} 작업중...\")\n",
    "    df = pd.read_excel(work_file)\n",
    "\n",
    "    entry_mean = df.loc[:, range(-5,0)].values.mean().round(3)\n",
    "\n",
    "    start_mean = df.loc[:, range(1,31)].values.mean().round(3)\n",
    "\n",
    "    mid_mean = df.loc[:, range(31,231)].values.mean().round(3)\n",
    "\n",
    "    end_mean = df.loc[:, range(231,261)].values.mean().round(3)\n",
    "\n",
    "    exit_mean = df.loc[:, range(261,266)].values.mean().round(3)\n",
    "\n",
    "    # 컬럼 정의\n",
    "    columns = [\n",
    "        \"파일명\", \"지상부_진입\", \"진입부\", \"본선부\", \"진출부\", \"지상부_진출\"\n",
    "    ]\n",
    "\n",
    "    merged_data =[\n",
    "        excel_file[i], entry_mean, start_mean, mid_mean, end_mean, exit_mean\n",
    "    ]\n",
    "\n",
    "    merged_df = pd.DataFrame([merged_data], columns=columns)\n",
    "    df_list.append(merged_df)\n",
    "\n",
    "final_df = pd.concat(df_list, ignore_index=True)\n",
    "display(final_df)\n",
    "\n",
    "excel_save_path = os.path.join(folder_path, \"Total.xlsx\")\n",
    "final_df.to_excel(excel_save_path, index=False)\n",
    "print(\"작업완료!!!!!!\")"
   ],
   "outputs": [
    {
     "name": "stdout",
     "output_type": "stream",
     "text": [
      "excel_file :  ['속도값_1.xlsx', '속도값_2.xlsx', '속도값_3.xlsx', '속도값_4.xlsx']\n",
      "속도값_1.xlsx 작업중...\n",
      "속도값_2.xlsx 작업중...\n",
      "속도값_3.xlsx 작업중...\n",
      "속도값_4.xlsx 작업중...\n"
     ]
    },
    {
     "data": {
      "text/plain": [
       "          파일명   지상부_진입     진입부     본선부     진출부  지상부_진출\n",
       "0  속도값_1.xlsx  100.376  99.091  98.035  94.179  97.225\n",
       "1  속도값_2.xlsx   96.222  94.104  79.615  45.832  85.661\n",
       "2  속도값_3.xlsx   98.886  97.635  96.645  91.774  96.104\n",
       "3  속도값_4.xlsx   94.719  92.301  57.529  45.126  85.344"
      ],
      "text/html": [
       "<div>\n",
       "<style scoped>\n",
       "    .dataframe tbody tr th:only-of-type {\n",
       "        vertical-align: middle;\n",
       "    }\n",
       "\n",
       "    .dataframe tbody tr th {\n",
       "        vertical-align: top;\n",
       "    }\n",
       "\n",
       "    .dataframe thead th {\n",
       "        text-align: right;\n",
       "    }\n",
       "</style>\n",
       "<table border=\"1\" class=\"dataframe\">\n",
       "  <thead>\n",
       "    <tr style=\"text-align: right;\">\n",
       "      <th></th>\n",
       "      <th>파일명</th>\n",
       "      <th>지상부_진입</th>\n",
       "      <th>진입부</th>\n",
       "      <th>본선부</th>\n",
       "      <th>진출부</th>\n",
       "      <th>지상부_진출</th>\n",
       "    </tr>\n",
       "  </thead>\n",
       "  <tbody>\n",
       "    <tr>\n",
       "      <th>0</th>\n",
       "      <td>속도값_1.xlsx</td>\n",
       "      <td>100.376</td>\n",
       "      <td>99.091</td>\n",
       "      <td>98.035</td>\n",
       "      <td>94.179</td>\n",
       "      <td>97.225</td>\n",
       "    </tr>\n",
       "    <tr>\n",
       "      <th>1</th>\n",
       "      <td>속도값_2.xlsx</td>\n",
       "      <td>96.222</td>\n",
       "      <td>94.104</td>\n",
       "      <td>79.615</td>\n",
       "      <td>45.832</td>\n",
       "      <td>85.661</td>\n",
       "    </tr>\n",
       "    <tr>\n",
       "      <th>2</th>\n",
       "      <td>속도값_3.xlsx</td>\n",
       "      <td>98.886</td>\n",
       "      <td>97.635</td>\n",
       "      <td>96.645</td>\n",
       "      <td>91.774</td>\n",
       "      <td>96.104</td>\n",
       "    </tr>\n",
       "    <tr>\n",
       "      <th>3</th>\n",
       "      <td>속도값_4.xlsx</td>\n",
       "      <td>94.719</td>\n",
       "      <td>92.301</td>\n",
       "      <td>57.529</td>\n",
       "      <td>45.126</td>\n",
       "      <td>85.344</td>\n",
       "    </tr>\n",
       "  </tbody>\n",
       "</table>\n",
       "</div>"
      ]
     },
     "metadata": {},
     "output_type": "display_data"
    },
    {
     "name": "stdout",
     "output_type": "stream",
     "text": [
      "작업완료!!!!!!\n"
     ]
    }
   ],
   "execution_count": 16
  }
 ],
 "metadata": {
  "kernelspec": {
   "display_name": "Python 3",
   "language": "python",
   "name": "python3"
  },
  "language_info": {
   "codemirror_mode": {
    "name": "ipython",
    "version": 2
   },
   "file_extension": ".py",
   "mimetype": "text/x-python",
   "name": "python",
   "nbconvert_exporter": "python",
   "pygments_lexer": "ipython2",
   "version": "2.7.6"
  }
 },
 "nbformat": 4,
 "nbformat_minor": 5
}
