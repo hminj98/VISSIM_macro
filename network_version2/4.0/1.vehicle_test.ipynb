{
 "cells": [
  {
   "cell_type": "code",
   "id": "initial_id",
   "metadata": {
    "collapsed": true,
    "ExecuteTime": {
     "end_time": "2025-05-19T01:44:58.603084Z",
     "start_time": "2025-05-19T01:44:38.859248Z"
    }
   },
   "source": [
    "import os\n",
    "\n",
    "import pandas as pd\n",
    "\n",
    "folder_path = r\"C:\\Users\\(주)내일이엔시 도로교통안전연구소\\Desktop\\초장대 K-지하고속도로 인프라 안전 및 효율 향상 기술 개발(2차년도)\\승용차추종행태_원본데이터\\3차로_점선\\1750\"\n",
    "mer_list = [file for file in os.listdir(folder_path) if file.endswith(\".mer\")]\n",
    "print(\"mer_list : \", mer_list)\n",
    "for i in range(len(mer_list)):\n",
    "    number = [5, 30]\n",
    "    file_path = os.path.join(folder_path, mer_list[i])\n",
    "    # 파일 읽기\n",
    "    with open(file_path, \"r\", encoding=\"utf-8\", errors=\"ignore\") as file:\n",
    "        lines = file.readlines()\n",
    "    # 데이터가 시작하는 인덱스 찾기\n",
    "    data_start_idx = None\n",
    "\n",
    "    for j, line in enumerate(lines):\n",
    "        if \"Measurem.\" in line:  # 컬럼명이 포함된 행 찾기\n",
    "            data_start_idx = j\n",
    "            break\n",
    "\n",
    "    # 데이터프레임 생성\n",
    "    if data_start_idx is not None:\n",
    "        # 컬럼명 추출\n",
    "        columns = lines[data_start_idx].strip().split(\";\")\n",
    "\n",
    "        # 데이터 부분 추출 및 가공\n",
    "        data_lines = lines[data_start_idx + 1:]  # 컬럼명 제외, 데이터 부분\n",
    "        data = [line.strip().split(\";\") for line in data_lines if line.strip()]\n",
    "\n",
    "        # 데이터프레임 생성\n",
    "        df = pd.DataFrame(data, columns=columns)\n",
    "        # 컬럼명을 정리 (공백 제거)\n",
    "        df.columns = df.columns.str.strip()\n",
    "\n",
    "        # Measurem., t(Entry), Vehicle type 컬럼의 데이터에서 공백 제거후 정수형 변환\n",
    "        cols = [\"Measurem.\", \"t(Entry)\", \"Vehicle type\", \"v[km/h]\"]\n",
    "        for col in cols:\n",
    "            df[col] = pd.to_numeric(df[col].astype(str).str.strip())\n",
    "    ###############################################################################################\n",
    "        #measure_list = [20010, 20060, 20110]\n",
    "        measure_list = [30010, 30060, 30110]\n",
    "        result_list = []\n",
    "        for measure in measure_list:\n",
    "            print(\"measure : \", measure)\n",
    "            df_filtered = df[(df[\"t(Entry)\"] != -1.00) & (df[\"Measurem.\"] == measure)].reset_index(drop=True)\n",
    "            heavy_list = df_filtered.index[df_filtered[\"Vehicle type\"]>= 600].tolist()\n",
    "            merged_list = []\n",
    "            for idx in range(len(heavy_list)-1):\n",
    "                start_num = heavy_list[idx]\n",
    "                df_new = df_filtered[start_num : heavy_list[idx+1]].copy()\n",
    "                df_new = df_new[(df_new[\"Vehicle type\"] != 300) & (df_new[\"Vehicle type\"] <600)].reset_index(drop=True)\n",
    "                if df_new.empty:\n",
    "                    continue\n",
    "                row_count = len(df_new)\n",
    "                v_avg = df_new[\"v[km/h]\"].mean()\n",
    "                merged_list.append({\"차량수\":row_count, \"평균속도\":v_avg})\n",
    "\n",
    "            merged_df = pd.DataFrame(merged_list)\n",
    "\n",
    "            grouped_df = merged_df.groupby(\"차량수\", as_index=False).agg(\n",
    "                평균속도 = (\"평균속도\", \"mean\"),\n",
    "                그룹수 = (\"평균속도\", \"count\")\n",
    "            )\n",
    "            result_list.append(grouped_df)\n",
    "        final_df = pd.concat(result_list, axis=1)\n",
    "        final_df.columns = ['진입부_차량수', '진입부_평균속도', '진입부_그룹수','본선부_차량수', '본선부_평균속도', '본선부_그룹수', '진출부_차량수','진출부_평균속도', '진출부_그룹수']\n",
    "\n",
    "        excel_path = os.path.join(folder_path, f\"3차로_3차선_점선_1750_{number[i]}%.xlsx\")\n",
    "        final_df.to_excel(excel_path, index=False)\n",
    "        print(\"작업완료 : \", excel_path)"
   ],
   "outputs": [
    {
     "name": "stdout",
     "output_type": "stream",
     "text": [
      "mer_list :  ['network03_수정_241.mer', 'network03_수정_351.mer']\n",
      "measure :  30010\n",
      "measure :  30060\n",
      "measure :  30110\n",
      "작업완료 :  C:\\Users\\(주)내일이엔시 도로교통안전연구소\\Desktop\\초장대 K-지하고속도로 인프라 안전 및 효율 향상 기술 개발(2차년도)\\승용차추종행태_원본데이터\\3차로_점선\\1750\\3차로_3차선_점선_1750_5%.xlsx\n",
      "measure :  30010\n",
      "measure :  30060\n",
      "measure :  30110\n",
      "작업완료 :  C:\\Users\\(주)내일이엔시 도로교통안전연구소\\Desktop\\초장대 K-지하고속도로 인프라 안전 및 효율 향상 기술 개발(2차년도)\\승용차추종행태_원본데이터\\3차로_점선\\1750\\3차로_3차선_점선_1750_30%.xlsx\n"
     ]
    }
   ],
   "execution_count": 30
  },
  {
   "metadata": {},
   "cell_type": "code",
   "outputs": [],
   "execution_count": null,
   "source": "",
   "id": "626032363781f7bb"
  }
 ],
 "metadata": {
  "kernelspec": {
   "display_name": "Python 3",
   "language": "python",
   "name": "python3"
  },
  "language_info": {
   "codemirror_mode": {
    "name": "ipython",
    "version": 2
   },
   "file_extension": ".py",
   "mimetype": "text/x-python",
   "name": "python",
   "nbconvert_exporter": "python",
   "pygments_lexer": "ipython2",
   "version": "2.7.6"
  }
 },
 "nbformat": 4,
 "nbformat_minor": 5
}
