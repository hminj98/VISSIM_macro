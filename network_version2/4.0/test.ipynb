{
 "cells": [
  {
   "cell_type": "code",
   "id": "initial_id",
   "metadata": {
    "collapsed": true,
    "ExecuteTime": {
     "end_time": "2025-07-08T07:23:24.214470Z",
     "start_time": "2025-07-08T07:23:24.203322Z"
    }
   },
   "source": [
    "person = {\"name\" : \"I\", \"age\" : 33, \"city\" : \"aaaaaaaaa\"}\n",
    "print(person.items())\n",
    "\n",
    "\n",
    "for key, value in person.items():\n",
    "    if value == 33:\n",
    "        print(key)"
   ],
   "outputs": [
    {
     "name": "stdout",
     "output_type": "stream",
     "text": [
      "dict_items([('name', 'I'), ('age', 33), ('city', 'aaaaaaaaa')])\n",
      "age\n"
     ]
    }
   ],
   "execution_count": 8
  }
 ],
 "metadata": {
  "kernelspec": {
   "display_name": "Python 3",
   "language": "python",
   "name": "python3"
  },
  "language_info": {
   "codemirror_mode": {
    "name": "ipython",
    "version": 2
   },
   "file_extension": ".py",
   "mimetype": "text/x-python",
   "name": "python",
   "nbconvert_exporter": "python",
   "pygments_lexer": "ipython2",
   "version": "2.7.6"
  }
 },
 "nbformat": 4,
 "nbformat_minor": 5
}
