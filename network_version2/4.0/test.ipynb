{
 "cells": [
  {
   "cell_type": "code",
   "id": "initial_id",
   "metadata": {
    "collapsed": true,
    "ExecuteTime": {
     "end_time": "2025-08-21T07:24:30.257658Z",
     "start_time": "2025-08-21T07:24:30.218962Z"
    }
   },
   "source": [
    "import pandas as pd\n",
    "\n",
    "df = pd.DataFrame()\n",
    "\n",
    "\n",
    "df[0] = [\"집\"]\n",
    "df[1] = [\"은\"]\n",
    "df[2] = [\" \"]\n",
    "df[3] = [\"내\"]\n",
    "df[4] = [\"가\"]\n",
    "df[5] = [\" \"]\n",
    "df[6] = [\"지\"]\n",
    "df[7] = [\"킬\"]\n",
    "df[8] = [\"게\"]\n",
    "df[9] = [\"!\"]\n",
    "df[10] = [\" \"]\n",
    "df[11] = [\"어\"]\n",
    "df[12] = [\"여\"]\n",
    "df[13] = [\"떠\"]\n",
    "df[14] = [\"나\"]\n",
    "\n",
    "\n",
    "display(df)"
   ],
   "outputs": [
    {
     "data": {
      "text/plain": [
       "  0  1  2  3  4  5  6  7  8  9  10 11 12 13 14\n",
       "0  집  은     내  가     지  킬  게  !     어  여  떠  나"
      ],
      "text/html": [
       "<div>\n",
       "<style scoped>\n",
       "    .dataframe tbody tr th:only-of-type {\n",
       "        vertical-align: middle;\n",
       "    }\n",
       "\n",
       "    .dataframe tbody tr th {\n",
       "        vertical-align: top;\n",
       "    }\n",
       "\n",
       "    .dataframe thead th {\n",
       "        text-align: right;\n",
       "    }\n",
       "</style>\n",
       "<table border=\"1\" class=\"dataframe\">\n",
       "  <thead>\n",
       "    <tr style=\"text-align: right;\">\n",
       "      <th></th>\n",
       "      <th>0</th>\n",
       "      <th>1</th>\n",
       "      <th>2</th>\n",
       "      <th>3</th>\n",
       "      <th>4</th>\n",
       "      <th>5</th>\n",
       "      <th>6</th>\n",
       "      <th>7</th>\n",
       "      <th>8</th>\n",
       "      <th>9</th>\n",
       "      <th>10</th>\n",
       "      <th>11</th>\n",
       "      <th>12</th>\n",
       "      <th>13</th>\n",
       "      <th>14</th>\n",
       "    </tr>\n",
       "  </thead>\n",
       "  <tbody>\n",
       "    <tr>\n",
       "      <th>0</th>\n",
       "      <td>집</td>\n",
       "      <td>은</td>\n",
       "      <td></td>\n",
       "      <td>내</td>\n",
       "      <td>가</td>\n",
       "      <td></td>\n",
       "      <td>지</td>\n",
       "      <td>킬</td>\n",
       "      <td>게</td>\n",
       "      <td>!</td>\n",
       "      <td></td>\n",
       "      <td>어</td>\n",
       "      <td>여</td>\n",
       "      <td>떠</td>\n",
       "      <td>나</td>\n",
       "    </tr>\n",
       "  </tbody>\n",
       "</table>\n",
       "</div>"
      ]
     },
     "metadata": {},
     "output_type": "display_data"
    }
   ],
   "execution_count": 11
  }
 ],
 "metadata": {
  "kernelspec": {
   "display_name": "Python 3",
   "language": "python",
   "name": "python3"
  },
  "language_info": {
   "codemirror_mode": {
    "name": "ipython",
    "version": 2
   },
   "file_extension": ".py",
   "mimetype": "text/x-python",
   "name": "python",
   "nbconvert_exporter": "python",
   "pygments_lexer": "ipython2",
   "version": "2.7.6"
  }
 },
 "nbformat": 4,
 "nbformat_minor": 5
}
