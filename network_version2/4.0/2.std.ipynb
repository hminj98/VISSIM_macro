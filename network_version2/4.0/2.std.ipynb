{
 "cells": [
  {
   "cell_type": "code",
   "id": "initial_id",
   "metadata": {
    "collapsed": true,
    "ExecuteTime": {
     "end_time": "2025-05-26T06:35:33.517151Z",
     "start_time": "2025-05-26T06:32:48.954010Z"
    }
   },
   "source": [
    "\"\"\"진입부, 본선부, 진출부 표준편차\"\"\"\n",
    "import pandas as pd\n",
    "\n",
    "import os\n",
    "\n",
    "folder_path = r\"C:\\Users\\(주)내일이엔시 도로교통안전연구소\\Desktop\\초장대 K-지하고속도로 인프라 안전 및 효율 향상 기술 개발(2차년도)\\자료정리(2차로)_250411\\시뮬레이션 분석 자료_V2.5\\중차량,종단경사,교통량\\결과파일\"\n",
    "\n",
    "file_list = sorted([file for file in os.listdir(folder_path) if file.endswith(\".xlsx\")],  key=lambda x: int(x.split(\"_\")[0]) if x.split(\"_\")[0].isdigit() else 0)\n",
    "\n",
    "output_list = []\n",
    "for i in range(len(file_list)):\n",
    "    file_path = os.path.join(folder_path, file_list[i])\n",
    "    df = pd.read_excel(file_path)\n",
    "    df[\"NEW\"] = df[\"DATACOLLECTIONMEASUREMENT\"] % 1000\n",
    "    filtered_df = df[[\"TIMEINT\", \"NEW\", \"SPEEDAVGARITH(ALL)\"]]\n",
    "\n",
    "    # 각 구간별 STDEV.P 계산 (모집단 기준 ddof=0)\n",
    "    start_df = df[df[\"NEW\"].between(1, 20)][\"SPEEDAVGARITH(ALL)\"].std(ddof=0)\n",
    "    mid_df = df[df[\"NEW\"].between(21, 100)][\"SPEEDAVGARITH(ALL)\"].std(ddof=0)\n",
    "    end_df = df[df[\"NEW\"].between(101, 120)][\"SPEEDAVGARITH(ALL)\"].std(ddof=0)\n",
    "    total_df = df[df[\"NEW\"].between(1, 120)][\"SPEEDAVGARITH(ALL)\"].std(ddof=0)\n",
    "\n",
    "    columns = [\"파일명\", \"진입부\", \"본선부\", \"진출부\", \"전체\"]\n",
    "\n",
    "    merged_df = pd.DataFrame([[file_list[i], start_df, mid_df, end_df, total_df]], columns=columns)\n",
    "    output_list.append(merged_df)\n",
    "\n",
    "final_df = pd.concat(output_list, ignore_index=True).round(3)\n",
    "print(\"파일 생성 중...\")\n",
    "excel_path = os.path.join(folder_path, \"std_output.xlsx\")\n",
    "final_df.to_excel(excel_path, index=False)\n",
    "print(\"작업완료\")\n",
    "\n"
   ],
   "outputs": [
    {
     "name": "stdout",
     "output_type": "stream",
     "text": [
      "작업완료\n"
     ]
    }
   ],
   "execution_count": 1
  }
 ],
 "metadata": {
  "kernelspec": {
   "display_name": "Python 3",
   "language": "python",
   "name": "python3"
  },
  "language_info": {
   "codemirror_mode": {
    "name": "ipython",
    "version": 2
   },
   "file_extension": ".py",
   "mimetype": "text/x-python",
   "name": "python",
   "nbconvert_exporter": "python",
   "pygments_lexer": "ipython2",
   "version": "2.7.6"
  }
 },
 "nbformat": 4,
 "nbformat_minor": 5
}
