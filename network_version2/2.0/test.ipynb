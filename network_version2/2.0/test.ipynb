{
 "cells": [
  {
   "metadata": {
    "ExecuteTime": {
     "end_time": "2025-03-26T23:28:29.073565Z",
     "start_time": "2025-03-26T23:28:24.414750Z"
    }
   },
   "cell_type": "code",
   "source": [
    "import numpy as np\n",
    "import os\n",
    "import pandas as pd\n",
    "from numpy.ma.extras import average\n",
    "\"\"\"_vehicle_output 파일에서 데이터 가공 (차종별 평균, 가중 평균속도)\"\"\"\n",
    "folder_path = r\"C:\\VISSIM_Workspace\\network_new\\test\"\n",
    "mer_name = \"network01_mer\"\n",
    "\n",
    "file_path = os.path.join(folder_path, mer_name, \"vehicle_output\")\n",
    "df = pd.read_excel(os.path.join(file_path, \"1_vehicle_output.xlsx\"))\n",
    "df[\"NewMeasurem\"] = df[\"Measurem.\"] % 1000\n",
    "\n",
    "vehicle_type_list = [100, 300, 630, 640, 650]\n",
    "results = []\n",
    "for i in range(len(vehicle_type_list)):\n",
    "    filtered_df = df[df[\"Vehicle type\"] == 650]\n",
    "    # 피벗 테이블 생성\n",
    "    old_df = filtered_df.pivot_table(\n",
    "        index=\"time\",\n",
    "        columns=[\"NewMeasurem\", \"Measurem.\"],\n",
    "        values=\"v[km/h]\",\n",
    "        aggfunc=\"mean\"\n",
    "    )\n",
    "    # 결과를 저장할 딕셔너리\n",
    "    combined_cols = {}\n",
    "\n",
    "    # level=0(\"NewMeasurem\") 별로 그룹핑 후 2개 열의 데이터를 이어 붙인 후 새로운 컬럼 생성\n",
    "    for measurem_group, cols in old_df.groupby(axis=1, level=0):\n",
    "        if len(cols.columns) == 2:\n",
    "            col1, col2 = cols.columns\n",
    "            new_col_name = f'{col1[1]}'\n",
    "\n",
    "            # 1번째 열과 2번째 열을 하나로 합친다.\n",
    "            combined_series = pd.concat([cols[col1], cols[col2]], ignore_index=True)\n",
    "            combined_cols[new_col_name] = combined_series\n",
    "    combined_df = pd.DataFrame(combined_cols)\n",
    "\n",
    "\n",
    "    # 평균속도\n",
    "    avg_speed = combined_df.mean(axis=0)\n",
    "\n",
    "    # 표준편차\n",
    "    std = combined_df.std(ddof=0)\n",
    "    # 변동계수\n",
    "    vrt_num = std / avg_speed\n",
    "    # 가중치\n",
    "    add_per =  1/vrt_num\n",
    "\n",
    "    for j in range(len(avg_speed)):\n",
    "        results.append({\n",
    "            \"Vehicle type\": vehicle_type_list[i],\n",
    "            \"NewMeasurem\": int(list(avg_speed.index)[j]) % 1000,\n",
    "            \"AverageSpeed\": avg_speed.iloc[j],\n",
    "            \"Weight (가중치)\": add_per.iloc[j]\n",
    "        })\n",
    "weights_df = pd.DataFrame(results)\n",
    "####### 가중 평균속도 계산 #######\n",
    "\n",
    "# 평균속도 * 가중치\n",
    "weights_df[\"Weighted Value\"] = weights_df[\"AverageSpeed\"] * weights_df[\"Weight (가중치)\"]\n",
    "\n",
    "# NewMeasurem별로 그룹화 및 합 계산\n",
    "sum_weighted = weights_df.groupby(\"NewMeasurem\")[\"Weighted Value\"].sum()\n",
    "sum_weights = weights_df.groupby(\"NewMeasurem\")[\"Weight (가중치)\"].sum()\n",
    "\n",
    "# 가중 평균 속도 계산\n",
    "final_df = (sum_weighted / sum_weights).reset_index(name=\"Weighted Avg Speed\")\n",
    "final_df = final_df.set_index(\"NewMeasurem\").T\n",
    "final_df.index = [\"가중평균속도\"]  # 이게 첫 번째 행(인덱스)로 들어감\n",
    "\n",
    "print(final_df)\n",
    "\n",
    "\n",
    "# 차종별 평균속도 계산 (NewMeasurem 기준)\n",
    "vehicle_avg = weights_df.groupby([\"NewMeasurem\", \"Vehicle type\"])[\"AverageSpeed\"].mean().unstack()\n",
    "vehicle_avg = vehicle_avg.reindex(columns=vehicle_type_list)  # 차종 순서 고정\n",
    "vehicle_avg = vehicle_avg.round(2)\n",
    "vehicle_avg.index.name = \"NewMeasurem\"\n",
    "vehicle_avg.columns = [f\"차종{col}\" for col in vehicle_avg.columns]\n",
    "\n",
    "# 가중평균속도와 결합\n",
    "final_df = pd.concat([vehicle_avg.T, final_df])\n",
    "excel_dir = os.path.join(folder_path, mer_name, \"weights_output\")"
   ],
   "id": "7393d0f95c601d5a",
   "outputs": [
    {
     "name": "stdout",
     "output_type": "stream",
     "text": [
      "NewMeasurem       1          2          3          4          5          6    \\\n",
      "가중평균속도       87.53913  87.817391  87.104545  87.415909  87.176087  87.415909   \n",
      "\n",
      "NewMeasurem        7        8        9          10   ...      111        112  \\\n",
      "가중평균속도       87.445652  87.3375  87.3375  87.443478  ...  87.0875  86.895238   \n",
      "\n",
      "NewMeasurem    113    114   115      116        117        118       119  \\\n",
      "가중평균속도       87.13  86.97  87.0  87.1675  87.854545  87.033333  86.87381   \n",
      "\n",
      "NewMeasurem     120  \n",
      "가중평균속도       86.709  \n",
      "\n",
      "[1 rows x 119 columns]\n"
     ]
    }
   ],
   "execution_count": 27
  },
  {
   "metadata": {
    "ExecuteTime": {
     "end_time": "2025-03-26T23:28:08.551565Z",
     "start_time": "2025-03-26T23:28:08.540405Z"
    }
   },
   "cell_type": "code",
   "source": "",
   "id": "bd7191f25742fd0c",
   "outputs": [],
   "execution_count": null
  }
 ],
 "metadata": {
  "kernelspec": {
   "display_name": "Python 3",
   "language": "python",
   "name": "python3"
  },
  "language_info": {
   "codemirror_mode": {
    "name": "ipython",
    "version": 2
   },
   "file_extension": ".py",
   "mimetype": "text/x-python",
   "name": "python",
   "nbconvert_exporter": "python",
   "pygments_lexer": "ipython2",
   "version": "2.7.6"
  }
 },
 "nbformat": 4,
 "nbformat_minor": 5
}
