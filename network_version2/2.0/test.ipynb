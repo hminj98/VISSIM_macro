{
 "cells": [
  {
   "metadata": {
    "ExecuteTime": {
     "end_time": "2025-03-28T04:42:19.005469Z",
     "start_time": "2025-03-28T04:42:17.012787Z"
    }
   },
   "cell_type": "code",
   "source": [
    "import pandas as pd\n",
    "import os\n",
    "\"\"\"output 파일 양식 수정\"\"\"\n",
    "folder_path = r\"C:\\VISSIM_Workspace\\network_new\\test\"\n",
    "file_name = sorted([f for f in os.listdir(folder_path) if f.endswith(\"output\")])\n",
    "excel_path = os.path.join(folder_path, file_name[0])\n",
    "excel_files = sorted([f for f in os.listdir(excel_path) if f.endswith(\".xlsx\")], key=lambda x: int(x.split(\"_\")[0]))\n",
    "\n",
    "df = pd.read_excel(os.path.join(excel_path, excel_files[0]))\n",
    "df[\"NEW\"] = df[\"DATACOLLECTIONMEASUREMENT\"] % 1000\n",
    "df_grouped = df.groupby(\"DATACOLLECTIONMEASUREMENT\").mean()\n",
    "df_newGrouped = df_grouped.groupby(\"NEW\").agg(lambda x: x.sum() if x.name == \"VEHS(ALL)\" else x.mean()).reset_index()\n",
    "df = df_newGrouped[[\"NEW\", \"VEHS(ALL)\", \"QUEUEDELAY(ALL)\"]]\n",
    "del df_newGrouped\n",
    "\n",
    "# 진입부\n",
    "start_df = df[(df[\"NEW\"] >= 1) & (df[\"NEW\"] <=20)]\n",
    "df1 = start_df.mean().to_frame().T\n",
    "\n",
    "# 본선부\n",
    "mid_df = df[(df[\"NEW\"] >= 21) & (df[\"NEW\"] <=100)]\n",
    "df2 = mid_df.mean().to_frame().T\n",
    "\n",
    "# 진출부\n",
    "end_df = df[(df[\"NEW\"] >= 101) & (df[\"NEW\"] <=120)]\n",
    "df3 = end_df.mean().to_frame().T\n",
    "\n",
    "print(df1)\n",
    "print(\"===============================================================\")\n",
    "print(df2)\n",
    "print(\"===============================================================\")\n",
    "print(df3)\n",
    "print(\"===============================================================\")\n",
    "df4 = pd.concat([df1, df2])\n",
    "print(df4)"
   ],
   "id": "7393d0f95c601d5a",
   "outputs": [
    {
     "name": "stdout",
     "output_type": "stream",
     "text": [
      "    NEW  VEHS(ALL)  QUEUEDELAY(ALL)\n",
      "0  10.5  23.311167              0.0\n",
      "===============================================================\n",
      "    NEW  VEHS(ALL)  QUEUEDELAY(ALL)\n",
      "0  60.5  23.278458              0.0\n",
      "===============================================================\n",
      "     NEW  VEHS(ALL)  QUEUEDELAY(ALL)\n",
      "0  110.5  22.119417              0.0\n",
      "===============================================================\n",
      "    NEW  VEHS(ALL)  QUEUEDELAY(ALL)\n",
      "0  10.5  23.311167              0.0\n",
      "0  60.5  23.278458              0.0\n"
     ]
    }
   ],
   "execution_count": 52
  },
  {
   "metadata": {
    "ExecuteTime": {
     "end_time": "2025-03-26T23:28:08.551565Z",
     "start_time": "2025-03-26T23:28:08.540405Z"
    }
   },
   "cell_type": "code",
   "source": "",
   "id": "bd7191f25742fd0c",
   "outputs": [],
   "execution_count": null
  }
 ],
 "metadata": {
  "kernelspec": {
   "display_name": "Python 3",
   "language": "python",
   "name": "python3"
  },
  "language_info": {
   "codemirror_mode": {
    "name": "ipython",
    "version": 2
   },
   "file_extension": ".py",
   "mimetype": "text/x-python",
   "name": "python",
   "nbconvert_exporter": "python",
   "pygments_lexer": "ipython2",
   "version": "2.7.6"
  }
 },
 "nbformat": 4,
 "nbformat_minor": 5
}
