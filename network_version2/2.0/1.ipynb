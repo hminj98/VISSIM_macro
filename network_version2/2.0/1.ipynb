{
 "cells": [
  {
   "metadata": {
    "ExecuteTime": {
     "end_time": "2025-03-21T04:39:08.818227Z",
     "start_time": "2025-03-21T04:39:00.904730Z"
    }
   },
   "cell_type": "code",
   "source": [
    "import os\n",
    "import pandas as pd\n",
    "\n",
    "from_time = 1800\n",
    "interval_value = 60\n",
    "\n",
    "mer_path = r\"C:\\VISSIM_Workspace\\network_new\\network_final\\network01_mer\\network01_001.mer\"\n",
    "with open(mer_path, \"r\", encoding=\"utf-8\", errors=\"ignore\") as file:\n",
    "    lines = file.readlines()\n",
    "# 데이터가 시작하는 인덱스 찾기\n",
    "data_start_idx = None\n",
    "\n",
    "for j, line in enumerate(lines):\n",
    "    if \"Measurem.\" in line:  # 컬럼명이 포함된 행 찾기\n",
    "        data_start_idx = j\n",
    "        break\n",
    "df_list = []\n",
    "# 데이터프레임 생성\n",
    "if data_start_idx is not None:\n",
    "\n",
    "    # 컬럼명 추출\n",
    "    columns = lines[data_start_idx].strip().split(\";\")\n",
    "\n",
    "    # 데이터 부분 추출 및 가공\n",
    "    data_lines = lines[data_start_idx + 1:]  # 컬럼명 제외, 데이터 부분\n",
    "    data = [line.strip().split(\";\") for line in data_lines if line.strip()]\n",
    "\n",
    "    # 데이터프레임 생성\n",
    "    df = pd.DataFrame(data, columns=columns)\n",
    "    # 컬럼명을 정리 (혹시 모를 공백 제거)\n",
    "    df.columns = df.columns.str.strip()\n",
    "\n",
    "    # 변환할 숫자형 컬럼 리스트\n",
    "    numeric_columns = [\"Measurem.\", \"t(Entry)\", \"t(Exit)\", \"VehNo\", \"Vehicle type\",\n",
    "                       \"Line\", \"v[km/h]\", \"b[m/s2]\", \"Occ\", \"Pers\", \"tQueue\", \"VehLength[m]\"]\n",
    "\n",
    "    # 각 컬럼을 숫자로 변환\n",
    "    for col in numeric_columns:\n",
    "        if col in df.columns:  # 컬럼이 존재하는지 확인\n",
    "            df[col] = pd.to_numeric(df[col], errors=\"coerce\")  # 변환 실패 시 NaN 처리\n",
    "    df[\"time\"] = df[[\"t(Entry)\", \"t(Exit)\"]].max(axis=1)\n",
    "    # 시간대별 범위 적용\n",
    "    current_time = from_time\n",
    "    max_time = df[\"time\"].max()\n",
    "\n",
    "    while current_time <= max_time:\n",
    "        next_time = current_time + interval_value\n",
    "        df.loc[df[\"time\"].between(current_time, next_time, inclusive=\"right\"), \"time\"] = next_time\n",
    "        df.loc[df[\"time\"] == 1800, \"time\"] = 1860\n",
    "        current_time = next_time\n",
    "    df = df.groupby([\"Vehicle type\", \"Measurem.\"])[[\"time\", \"b[m/s2]\", \"Occ\", \"tQueue\", \"VehLength[m]\", \"v[km/h]\"]].agg(\"mean\").reset_index().round(2)\n",
    "    df[\"time\"] = df[\"time\"].astype(int)\n",
    "    #print(df)\n",
    "    excel_path = r\"C:\\VISSIM_Workspace\\network_new\\network_final\\network01_mer\\mer_output\\aaaaaa.xlsx\"\n",
    "    df.to_excel(excel_path, index=False)"
   ],
   "id": "9812b555c2bab633",
   "outputs": [],
   "execution_count": 27
  },
  {
   "metadata": {},
   "cell_type": "code",
   "outputs": [],
   "execution_count": null,
   "source": "",
   "id": "2e1ab7e4e6967f83"
  }
 ],
 "metadata": {
  "kernelspec": {
   "display_name": "Python 3",
   "language": "python",
   "name": "python3"
  },
  "language_info": {
   "codemirror_mode": {
    "name": "ipython",
    "version": 2
   },
   "file_extension": ".py",
   "mimetype": "text/x-python",
   "name": "python",
   "nbconvert_exporter": "python",
   "pygments_lexer": "ipython2",
   "version": "2.7.6"
  }
 },
 "nbformat": 4,
 "nbformat_minor": 5
}
