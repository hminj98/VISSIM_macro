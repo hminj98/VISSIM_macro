{
 "cells": [
  {
   "metadata": {
    "collapsed": true,
    "ExecuteTime": {
     "end_time": "2025-03-20T06:50:35.376357Z",
     "start_time": "2025-03-20T06:50:35.345672Z"
    }
   },
   "cell_type": "code",
   "source": [
    "import xml.etree.ElementTree as ET\n",
    "\n",
    "file_path = r\"C:\\VISSIM_Workspace\\network_new\\network_version2.0\\network02_수정.inpx\"\n",
    "# XML 파일 파싱\n",
    "tree = ET.parse(file_path)\n",
    "root = tree.getroot()\n",
    "volume = 2976\n",
    "\n",
    "for vehicle_input in root.findall(\".//vehicleInput\"):\n",
    "            if vehicle_input.get(\"no\") == \"1\":\n",
    "                # <timeIntVehVols> 태그 찾기\n",
    "                vehicleInput = vehicle_input.find(\"timeIntVehVols\")\n",
    "                if vehicleInput is not None:\n",
    "                    for vol in vehicleInput.findall(\"timeIntervalVehVolume\"):\n",
    "                        vol.set(\"volume\", str(round(volume)))\n",
    "# 변경된 XML을 파일에 저장\n",
    "tree.write(file_path, encoding=\"utf-8\", xml_declaration=True)"
   ],
   "id": "initial_id",
   "outputs": [],
   "execution_count": 8
  },
  {
   "metadata": {
    "ExecuteTime": {
     "end_time": "2025-03-20T23:41:43.576065Z",
     "start_time": "2025-03-20T23:41:43.561853Z"
    }
   },
   "cell_type": "code",
   "source": [
    "import numpy as np\n",
    "\n",
    "# 교통량\n",
    "volume_list = np.array([\n",
    "    [1388, 1378, 1368, 1356, 1346, 1336],\n",
    "    [2976, 2952, 2930, 2906, 2884, 2862],\n",
    "    [3770, 3740, 3710, 3682, 3654, 3626]\n",
    "])\n",
    "volume_list[0][2]\n",
    "\n"
   ],
   "id": "9812b555c2bab633",
   "outputs": [
    {
     "data": {
      "text/plain": [
       "1368"
      ]
     },
     "execution_count": 15,
     "metadata": {},
     "output_type": "execute_result"
    }
   ],
   "execution_count": 15
  }
 ],
 "metadata": {
  "kernelspec": {
   "display_name": "Python 3",
   "language": "python",
   "name": "python3"
  },
  "language_info": {
   "codemirror_mode": {
    "name": "ipython",
    "version": 2
   },
   "file_extension": ".py",
   "mimetype": "text/x-python",
   "name": "python",
   "nbconvert_exporter": "python",
   "pygments_lexer": "ipython2",
   "version": "2.7.6"
  }
 },
 "nbformat": 4,
 "nbformat_minor": 5
}
