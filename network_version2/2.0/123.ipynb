{
 "cells": [
  {
   "cell_type": "code",
   "id": "initial_id",
   "metadata": {
    "collapsed": true,
    "ExecuteTime": {
     "end_time": "2025-03-24T07:40:50.381485Z",
     "start_time": "2025-03-24T07:39:41.442471Z"
    }
   },
   "source": [
    "import os\n",
    "import pandas as pd\n",
    "\n",
    "# 파일 경로 설정\n",
    "folder_path = r\"C:\\VISSIM_Workspace\\network_new\\test\"\n",
    "inpx_name = \"network01_mer\"  # 수정 필요\n",
    "destination_dir = os.path.join(folder_path, inpx_name)\n",
    "os.makedirs(destination_dir, exist_ok=True)\n",
    "\n",
    "# .mer 파일 필터링\n",
    "mer_list = [file for file in os.listdir(folder_path) if file.endswith(\".mer\")]\n",
    "print(\"총 .mer 파일 수:\", len(mer_list))\n",
    "\n",
    "# 시뮬레이션 단위 설정\n",
    "siml_count = 10\n",
    "mer_count = 0\n",
    "\n",
    "for start in range(0, len(mer_list), siml_count):\n",
    "    batch_files = mer_list[start:start + siml_count]\n",
    "    df_list = []\n",
    "\n",
    "    for file in batch_files:\n",
    "        mer_path = os.path.join(destination_dir, file)\n",
    "        print(\"처리 중:\", mer_path)\n",
    "\n",
    "        with open(mer_path, \"r\", encoding=\"utf-8\", errors=\"ignore\") as f:\n",
    "            lines = f.readlines()\n",
    "\n",
    "        data_start_idx = None\n",
    "        for j, line in enumerate(lines):\n",
    "            if \"Measurem.\" in line:\n",
    "                data_start_idx = j\n",
    "                break\n",
    "\n",
    "        if data_start_idx is not None:\n",
    "            columns = lines[data_start_idx].strip().split(\";\")\n",
    "            data_lines = lines[data_start_idx + 1:]\n",
    "            data = [line.strip().split(\";\") for line in data_lines if line.strip()]\n",
    "            df = pd.DataFrame(data, columns=columns)\n",
    "            df.columns = df.columns.str.strip()\n",
    "\n",
    "            # 숫자형 컬럼 변환\n",
    "            numeric_columns = [\"Measurem.\", \"t(Entry)\", \"t(Exit)\", \"VehNo\", \"Vehicle type\",\n",
    "                               \"Line\", \"v[km/h]\", \"b[m/s2]\", \"Occ\", \"Pers\", \"tQueue\", \"VehLength[m]\"]\n",
    "\n",
    "            for col in numeric_columns:\n",
    "                if col in df.columns:\n",
    "                    df[col] = pd.to_numeric(df[col], errors=\"coerce\")\n",
    "\n",
    "            # 시간 컬럼 계산 (원본 유지)\n",
    "            df[\"time\"] = df[[\"t(Entry)\", \"t(Exit)\"]].max(axis=1)\n",
    "\n",
    "            # 평균 계산\n",
    "            df = df.groupby([\"Vehicle type\", \"Measurem.\", \"time\"])[[\"b[m/s2]\", \"Occ\", \"tQueue\", \"VehLength[m]\", \"v[km/h]\"]] \\\n",
    "                   .mean().reset_index().round(2)\n",
    "\n",
    "            df_list.append(df)\n",
    "\n",
    "    # 배치 병합 및 평균\n",
    "    merged_df = pd.concat(df_list, ignore_index=True)\n",
    "    avg_df = merged_df.groupby([\"Vehicle type\", \"Measurem.\", \"time\"])[[\"b[m/s2]\", \"Occ\", \"tQueue\", \"VehLength[m]\", \"v[km/h]\"]] \\\n",
    "                      .mean().reset_index().round(2)\n",
    "\n",
    "    # 출력 경로 생성\n",
    "    merout_path = os.path.join(destination_dir, \"vehicle_output\")\n",
    "    os.makedirs(merout_path, exist_ok=True)\n",
    "\n",
    "    # 파일명 생성\n",
    "    xlsx_files = sorted([f for f in os.listdir(merout_path) if f.endswith(\".xlsx\")],\n",
    "                        key=lambda x: int(x.split(\"_\")[0]) if x.split(\"_\")[0].isdigit() else 0)\n",
    "\n",
    "    last_file = int(xlsx_files[-1].split(\"_\")[0]) + 1 if xlsx_files else 1\n",
    "    excel_path = os.path.join(merout_path, f\"{last_file}_vehicle_output.xlsx\")\n",
    "\n",
    "    # 저장\n",
    "    avg_df.to_excel(excel_path, index=False)\n",
    "    print(\"생성 완료:\", excel_path)\n",
    "\n",
    "    mer_count += 1\n",
    "    if mer_count >= len(mer_list) / siml_count:\n",
    "        print(\"시뮬레이션 분석이 완료되었습니다.\")\n",
    "        break\n"
   ],
   "outputs": [
    {
     "name": "stdout",
     "output_type": "stream",
     "text": [
      "총 .mer 파일 수: 1\n",
      "처리 중: C:\\VISSIM_Workspace\\network_new\\test\\network01_mer\\network02_수정_001.mer\n",
      "생성 완료: C:\\VISSIM_Workspace\\network_new\\test\\network01_mer\\vehicle_output\\2_vehicle_output.xlsx\n",
      "시뮬레이션 분석이 완료되었습니다.\n"
     ]
    }
   ],
   "execution_count": 1
  }
 ],
 "metadata": {
  "kernelspec": {
   "display_name": "Python 3",
   "language": "python",
   "name": "python3"
  },
  "language_info": {
   "codemirror_mode": {
    "name": "ipython",
    "version": 2
   },
   "file_extension": ".py",
   "mimetype": "text/x-python",
   "name": "python",
   "nbconvert_exporter": "python",
   "pygments_lexer": "ipython2",
   "version": "2.7.6"
  }
 },
 "nbformat": 4,
 "nbformat_minor": 5
}
