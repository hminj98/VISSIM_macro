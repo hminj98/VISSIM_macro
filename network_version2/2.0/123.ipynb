{
 "cells": [
  {
   "cell_type": "code",
   "id": "initial_id",
   "metadata": {
    "collapsed": true,
    "ExecuteTime": {
     "end_time": "2025-03-25T13:42:50.298973Z",
     "start_time": "2025-03-25T13:42:44.732287Z"
    }
   },
   "source": [
    "import pandas as pd\n",
    "\n",
    "excel_path = r\"C:\\Users\\user\\Desktop\\시뮬레이션 분석 자료\\시뮬레이션 분석 자료\\중차량,종단경사,교통량\\5~15%\\결과파일\\700\\1_output.xlsx\"\n",
    "print(\"작업중인 엑셀파일 : \", excel_path)\n",
    "df = pd.read_excel(excel_path)\n",
    "if \"K\" not in df.columns:\n",
    "    df[\"K\"] = (df[\"VEHS(ALL)\"] * 60 / df[\"SPEEDAVGARITH(ALL)\"]).round(2)\n",
    "    df.to_excel(excel_path, index=False)\n",
    "    print(\"새로운 파일 저장 : \", excel_path)"
   ],
   "outputs": [
    {
     "name": "stdout",
     "output_type": "stream",
     "text": [
      "작업중인 엑셀파일 :  C:\\Users\\user\\Desktop\\시뮬레이션 분석 자료\\시뮬레이션 분석 자료\\중차량,종단경사,교통량\\5~15%\\결과파일\\700\\1_output.xlsx\n",
      "새로운 파일 저장 :  C:\\Users\\user\\Desktop\\시뮬레이션 분석 자료\\시뮬레이션 분석 자료\\중차량,종단경사,교통량\\5~15%\\결과파일\\700\\1_output.xlsx\n"
     ]
    }
   ],
   "execution_count": 1
  },
  {
   "metadata": {},
   "cell_type": "code",
   "outputs": [],
   "execution_count": null,
   "source": "",
   "id": "53de5b93d787389e"
  }
 ],
 "metadata": {
  "kernelspec": {
   "display_name": "Python 3",
   "language": "python",
   "name": "python3"
  },
  "language_info": {
   "codemirror_mode": {
    "name": "ipython",
    "version": 2
   },
   "file_extension": ".py",
   "mimetype": "text/x-python",
   "name": "python",
   "nbconvert_exporter": "python",
   "pygments_lexer": "ipython2",
   "version": "2.7.6"
  }
 },
 "nbformat": 4,
 "nbformat_minor": 5
}
