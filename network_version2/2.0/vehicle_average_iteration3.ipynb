{
 "cells": [
  {
   "metadata": {
    "jupyter": {
     "is_executing": true
    },
    "ExecuteTime": {
     "start_time": "2025-03-24T07:54:39.865733Z"
    }
   },
   "cell_type": "code",
   "source": [
    "import shutil\n",
    "import os\n",
    "import pandas as pd\n",
    "\n",
    "# 파일 경로 (Windows 경로를 올바르게 처리)\n",
    "folder_path = r\"C:\\VISSIM_Workspace\\network_new\\network_version2\\network_version2.3_100\"\n",
    "\n",
    "interval_value = 60\n",
    "from_time = 1800\n",
    "# 시뮬레이션 횟수\n",
    "siml_count = 10\n",
    "mer_count = 0\n",
    "inpx_name = \"network01_mer\"\n",
    "\n",
    "destination_dir = os.path.join(folder_path, inpx_name) # 파일명_mer 수정해야함\n",
    "os.makedirs(destination_dir, exist_ok=True)  # 이미 존재하면 생성하지 않음\n",
    "# .mer 파일 복사\n",
    "mer_list = [file for file in os.listdir(folder_path) if file.endswith(\".mer\")]\n",
    "print(\"총 .mer 파일 수 : \", len(mer_list))\n",
    "\n",
    "for start in range(0, len(mer_list), siml_count):\n",
    "    batch_files = mer_list[start:start+siml_count]\n",
    "    df_list = []\n",
    "    for file in batch_files:\n",
    "        mer_path = os.path.join(destination_dir, file)\n",
    "        print(\"mer_path : \", mer_path)\n",
    "        # 파일 읽기\n",
    "        with open(mer_path, \"r\", encoding=\"utf-8\", errors=\"ignore\") as file:\n",
    "            lines = file.readlines()\n",
    "        # 데이터가 시작하는 인덱스 찾기\n",
    "        data_start_idx = None\n",
    "\n",
    "        for j, line in enumerate(lines):\n",
    "            if \"Measurem.\" in line:  # 컬럼명이 포함된 행 찾기\n",
    "                data_start_idx = j\n",
    "                break\n",
    "\n",
    "        # 데이터프레임 생성\n",
    "        if data_start_idx is not None:\n",
    "            # 컬럼명 추출\n",
    "            columns = lines[data_start_idx].strip().split(\";\")\n",
    "\n",
    "            # 데이터 부분 추출 및 가공\n",
    "            data_lines = lines[data_start_idx + 1:]  # 컬럼명 제외, 데이터 부분\n",
    "            data = [line.strip().split(\";\") for line in data_lines if line.strip()]\n",
    "\n",
    "            # 데이터프레임 생성\n",
    "            df = pd.DataFrame(data, columns=columns)\n",
    "            # 컬럼명을 정리 (공백 제거)\n",
    "            df.columns = df.columns.str.strip()\n",
    "\n",
    "            # 변환할 숫자형 컬럼 리스트\n",
    "            numeric_columns = [\"Measurem.\", \"t(Entry)\", \"t(Exit)\", \"VehNo\", \"Vehicle type\",\n",
    "                               \"Line\", \"v[km/h]\", \"b[m/s2]\", \"Occ\", \"Pers\", \"tQueue\", \"VehLength[m]\"]\n",
    "\n",
    "            # 각 컬럼을 숫자로 변환\n",
    "            for col in numeric_columns:\n",
    "                if col in df.columns:  # 컬럼이 존재하는지 확인\n",
    "                    df[col] = pd.to_numeric(df[col], errors=\"coerce\")  # 변환 실패 시 NaN 처리\n",
    "            df[\"time\"] = df[[\"t(Entry)\", \"t(Exit)\"]].max(axis=1)\n",
    "            # 시간대별 범위 적용\n",
    "            current_time = from_time\n",
    "            max_time = df[\"time\"].max()\n",
    "\n",
    "            while current_time <= max_time:\n",
    "                next_time = current_time + interval_value\n",
    "                df.loc[df[\"time\"].between(current_time, next_time, inclusive=\"right\"), \"time\"] = next_time\n",
    "                df.loc[df[\"time\"] == 1800, \"time\"] = 1860\n",
    "                current_time = next_time\n",
    "\n",
    "            df = df.groupby([\"Vehicle type\", \"Measurem.\", \"time\"])[[\"b[m/s2]\", \"Occ\", \"tQueue\", \"VehLength[m]\", \"v[km/h]\"]].agg(\"mean\").reset_index().round(2)\n",
    "            df_list.append(df)\n",
    "    merged_df = pd.concat(df_list, ignore_index=True)\n",
    "    # 같은 Vehicle type, Measurem., time  기준으로 평균\n",
    "    avg_df = merged_df.groupby([\"Vehicle type\", \"Measurem.\", \"time\"])[[\"b[m/s2]\", \"Occ\", \"tQueue\", \"VehLength[m]\", \"v[km/h]\"]].mean().reset_index().round(2)\n",
    "\n",
    "    merout_path =os.path.join(destination_dir,\"vehicle_output\")\n",
    "    os.makedirs(merout_path, exist_ok=True)  # 이미 존재하면 생성하지 않음\n",
    "\n",
    "    last_file = xlsx_files = sorted([f for f in os.listdir(merout_path) if f.endswith(\".xlsx\")], key=lambda x: int(x.split(\"_\")[0]) if x.split(\"_\")[0].isdigit() else 0)\n",
    "\n",
    "    if not xlsx_files:\n",
    "        last_file = 1\n",
    "    else:\n",
    "        last_file = int(xlsx_files[-1].split(\"_\")[0])+1\n",
    "    excel_path = os.path.join(merout_path,f\"{last_file}_vehicle_output.xlsx\")\n",
    "    avg_df.to_excel(excel_path, index=False)\n",
    "    print(\"생성파일 : \", excel_path)\n",
    "    mer_count += 1\n",
    "\n",
    "    if mer_count >= len(mer_list)/siml_count:\n",
    "        print(\"시뮬레이션 분석이 완료되었습니다.\")\n",
    "        break"
   ],
   "id": "26b9d2bc6d897587",
   "outputs": [
    {
     "name": "stdout",
     "output_type": "stream",
     "text": [
      "총 .mer 파일 수 :  360\n",
      "mer_path :  C:\\VISSIM_Workspace\\network_new\\network_version2\\network_version2.3_100\\network01_mer\\network02_수정_001.mer\n"
     ]
    }
   ],
   "execution_count": null
  },
  {
   "metadata": {},
   "cell_type": "code",
   "source": "",
   "id": "e8abca6cfd042d47",
   "outputs": [],
   "execution_count": null
  }
 ],
 "metadata": {
  "kernelspec": {
   "display_name": "Python 3",
   "language": "python",
   "name": "python3"
  },
  "language_info": {
   "codemirror_mode": {
    "name": "ipython",
    "version": 2
   },
   "file_extension": ".py",
   "mimetype": "text/x-python",
   "name": "python",
   "nbconvert_exporter": "python",
   "pygments_lexer": "ipython2",
   "version": "2.7.6"
  }
 },
 "nbformat": 4,
 "nbformat_minor": 5
}
