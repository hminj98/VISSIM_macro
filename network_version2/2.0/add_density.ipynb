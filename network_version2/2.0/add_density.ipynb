{
 "cells": [
  {
   "metadata": {
    "collapsed": true,
    "ExecuteTime": {
     "end_time": "2025-03-25T13:17:22.026663Z",
     "start_time": "2025-03-25T13:17:21.348964Z"
    }
   },
   "cell_type": "code",
   "source": [
    "import time\n",
    "from os.path import exists\n",
    "\n",
    "import numpy as np\n",
    "import datetime\n",
    "\n",
    "\"\"\"Output 파일에 밀도(K) 컬럼 추가 및 계산\"\"\"\n",
    "import os\n",
    "import pandas as pd\n",
    "\n",
    "# 파일 경로 (Windows 경로를 올바르게 처리)\n",
    "folder_path = r\"C:\\Users\\user\\Desktop\\시뮬레이션 분석 자료\\시뮬레이션 분석 자료\\중차량,종단경사,교통량\\5~15%\\결과파일\\700\"\n",
    "inpx_list = [file for file in os.listdir(folder_path) if file.endswith(\".inpx\")]\n",
    "\n",
    "for i in range(len(inpx_list)):\n",
    "    file_name = inpx_list[i].split(\".\")[0] + \"_output\"\n",
    "    direct_path = os.path.join(folder_path, file_name)\n",
    "\n",
    "    output_list = sorted([f for f in os.listdir(direct_path) if f.endswith(\".xlsx\")], key=lambda x: int(x.split(\"_\")[0]))\n",
    "    print(len(output_list))\n",
    "\n",
    "    for j in range(len(output_list)):\n",
    "        excel_path = os.path.join(direct_path, output_list[j])\n",
    "        print(\"작업중인 엑셀파일 : \", excel_path)\n",
    "        df = pd.read_excel(excel_path)\n",
    "        if \"K\" not in df.columns:\n",
    "            df[\"K\"] = (df[\"VEHS(ALL)\"] * 60 / df[\"SPEEDAVGARITH(ALL)\"]).round(2)\n",
    "            df.to_excel(excel_path, index=False)\n",
    "            print(\"새로운 파일 저장 : \", excel_path)\n",
    "        del df\n",
    "        #print(df)\n"
   ],
   "id": "initial_id",
   "outputs": [
    {
     "ename": "FileNotFoundError",
     "evalue": "[WinError 3] 지정된 경로를 찾을 수 없습니다: 'C:\\\\Users\\\\user\\\\Desktop\\\\시뮬레이션 분석 자료\\\\시뮬레이션 분석 자료\\\\중차량,종단경사,교통량\\\\5~15%\\\\결과파일\\\\700\\\\network02_수정_output'",
     "output_type": "error",
     "traceback": [
      "\u001B[31m---------------------------------------------------------------------------\u001B[39m",
      "\u001B[31mFileNotFoundError\u001B[39m                         Traceback (most recent call last)",
      "\u001B[36mCell\u001B[39m\u001B[36m \u001B[39m\u001B[32mIn[1]\u001B[39m\u001B[32m, line 19\u001B[39m\n\u001B[32m     16\u001B[39m file_name = inpx_list[i].split(\u001B[33m\"\u001B[39m\u001B[33m.\u001B[39m\u001B[33m\"\u001B[39m)[\u001B[32m0\u001B[39m] + \u001B[33m\"\u001B[39m\u001B[33m_output\u001B[39m\u001B[33m\"\u001B[39m\n\u001B[32m     17\u001B[39m direct_path = os.path.join(folder_path, file_name)\n\u001B[32m---> \u001B[39m\u001B[32m19\u001B[39m output_list = \u001B[38;5;28msorted\u001B[39m([f \u001B[38;5;28;01mfor\u001B[39;00m f \u001B[38;5;129;01min\u001B[39;00m \u001B[43mos\u001B[49m\u001B[43m.\u001B[49m\u001B[43mlistdir\u001B[49m\u001B[43m(\u001B[49m\u001B[43mdirect_path\u001B[49m\u001B[43m)\u001B[49m \u001B[38;5;28;01mif\u001B[39;00m f.endswith(\u001B[33m\"\u001B[39m\u001B[33m.xlsx\u001B[39m\u001B[33m\"\u001B[39m)], key=\u001B[38;5;28;01mlambda\u001B[39;00m x: \u001B[38;5;28mint\u001B[39m(x.split(\u001B[33m\"\u001B[39m\u001B[33m_\u001B[39m\u001B[33m\"\u001B[39m)[\u001B[32m0\u001B[39m]))\n\u001B[32m     20\u001B[39m \u001B[38;5;28mprint\u001B[39m(\u001B[38;5;28mlen\u001B[39m(output_list))\n\u001B[32m     22\u001B[39m \u001B[38;5;28;01mfor\u001B[39;00m j \u001B[38;5;129;01min\u001B[39;00m \u001B[38;5;28mrange\u001B[39m(\u001B[38;5;28mlen\u001B[39m(output_list)):\n",
      "\u001B[31mFileNotFoundError\u001B[39m: [WinError 3] 지정된 경로를 찾을 수 없습니다: 'C:\\\\Users\\\\user\\\\Desktop\\\\시뮬레이션 분석 자료\\\\시뮬레이션 분석 자료\\\\중차량,종단경사,교통량\\\\5~15%\\\\결과파일\\\\700\\\\network02_수정_output'"
     ]
    }
   ],
   "execution_count": 1
  },
  {
   "metadata": {},
   "cell_type": "code",
   "source": "",
   "id": "9812b555c2bab633",
   "outputs": [],
   "execution_count": null
  }
 ],
 "metadata": {
  "kernelspec": {
   "display_name": "Python 3",
   "language": "python",
   "name": "python3"
  },
  "language_info": {
   "codemirror_mode": {
    "name": "ipython",
    "version": 2
   },
   "file_extension": ".py",
   "mimetype": "text/x-python",
   "name": "python",
   "nbconvert_exporter": "python",
   "pygments_lexer": "ipython2",
   "version": "2.7.6"
  }
 },
 "nbformat": 4,
 "nbformat_minor": 5
}
