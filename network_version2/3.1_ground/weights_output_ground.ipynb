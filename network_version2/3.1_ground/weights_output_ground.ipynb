{
 "cells": [
  {
   "cell_type": "code",
   "id": "initial_id",
   "metadata": {
    "collapsed": true,
    "ExecuteTime": {
     "end_time": "2025-08-18T00:12:43.166087Z",
     "start_time": "2025-08-18T00:12:42.519411Z"
    }
   },
   "source": [
    "import pandas as pd\n",
    "\n",
    "\"\"\"weights_output(결과) 파일에서 데이터 가공 (가중평균속도의 평균)\"\"\"\n",
    "import os\n",
    "\n",
    "output_path = r\"C:\\Users\\(주)내일이엔시 도로교통안전연구소\\Desktop\\초장대 K-지하고속도로 인프라 안전 및 효율 향상 기술 개발(2차년도)\\시뮬레이션 분석자료 모음\\자료정리(3차로_점선_주행행태 반영)_250818\\시뮬레이션 분석 자료_V2.9\\중차량,종단경사,교통량\\차종별\\weights_output\" # vehicle_output 엑셀 파일이 있는 폴더 경로까지\n",
    "output_files = sorted([f for f in os.listdir(output_path) if f.endswith(\".xlsx\")], key=lambda x: int(x.split(\"_\")[0]))\n",
    "mer_list = []\n",
    "for i in range(len(output_files)):\n",
    "    work_file = os.path.join(output_path, output_files[i])\n",
    "    print(f\"{work_file} 작업중...\")\n",
    "    df = pd.read_excel(work_file)\n",
    "    df.columns.values[0] = \"NEW\"\n",
    "\n",
    "    # 지상부(진입)\n",
    "    entry_ground_df = df[df[\"NEW\"] == \"가중평균속도\"].iloc[:, 1:11]\n",
    "    # 진입부\n",
    "    start_df = df[df[\"NEW\"] == \"가중평균속도\"].iloc[:, 11:41]\n",
    "    # 본선부\n",
    "    mid_df = df[df[\"NEW\"] == \"가중평균속도\"].iloc[:, 41:241]\n",
    "    # 진출부\n",
    "    end_df = df[df[\"NEW\"] == \"가중평균속도\"].iloc[:, 241:271]\n",
    "    # 지상부(진출)\n",
    "    exit_ground_df = df[df[\"NEW\"] == \"가중평균속도\"].iloc[:, 271:281]\n",
    "    # 전체\n",
    "    total_df = df[df[\"NEW\"] == \"가중평균속도\"].iloc[:, 1:281]\n",
    "\n",
    "    df1 = entry_ground_df.values.mean().round(4)\n",
    "    df2 = start_df.values.mean().round(4)\n",
    "    df3 = mid_df.values.mean().round(4)\n",
    "    df4 = end_df.values.mean().round(4)\n",
    "    df5 = exit_ground_df.values.mean().round(4)\n",
    "    df6 = total_df.values.mean().round(4)\n",
    "    columns = [\"파일명\", \"지상부(진입)\", \"진입부\", \"본선부\", \"진출부\", \"지상부(진출)\", \"전체\"]\n",
    "\n",
    "    merged_df = pd.DataFrame([[output_files[i], df1, df2, df3, df4, df5, df6]], columns=columns)\n",
    "    mer_list.append(merged_df)\n",
    "\n",
    "final_df = pd.concat(mer_list, ignore_index=True).round(4)\n",
    "display(final_df)\n",
    "\n",
    "excel_path = os.path.join(output_path, \"weights_output\")\n",
    "print(\"excel_path : \", excel_path)\n",
    "if not os.path.exists(excel_path):\n",
    "    os.makedirs(excel_path)\n",
    "excel_file_path = os.path.join(excel_path, \"weights_output.xlsx\")\n",
    "final_df.to_excel(excel_file_path, index=False)\n",
    "print(\"작업이 완료 되었습니다.\")\n"
   ],
   "outputs": [
    {
     "name": "stdout",
     "output_type": "stream",
     "text": [
      "C:\\Users\\(주)내일이엔시 도로교통안전연구소\\Desktop\\초장대 K-지하고속도로 인프라 안전 및 효율 향상 기술 개발(2차년도)\\시뮬레이션 분석자료 모음\\자료정리(3차로_점선_주행행태 반영)_250818\\시뮬레이션 분석 자료_V2.9\\중차량,종단경사,교통량\\차종별\\weights_output\\1_weights_output.xlsx 작업중...\n",
      "C:\\Users\\(주)내일이엔시 도로교통안전연구소\\Desktop\\초장대 K-지하고속도로 인프라 안전 및 효율 향상 기술 개발(2차년도)\\시뮬레이션 분석자료 모음\\자료정리(3차로_점선_주행행태 반영)_250818\\시뮬레이션 분석 자료_V2.9\\중차량,종단경사,교통량\\차종별\\weights_output\\2_weights_output.xlsx 작업중...\n"
     ]
    },
    {
     "data": {
      "text/plain": [
       "                     파일명   지상부(진입)       진입부       본선부      진출부  지상부(진출)  \\\n",
       "0  1_weights_output.xlsx  102.8267  101.3826  100.3602  94.3622  99.4393   \n",
       "1  2_weights_output.xlsx   94.9892   93.0938   90.9498  48.0668  87.6777   \n",
       "\n",
       "        전체  \n",
       "0  99.8823  \n",
       "1  86.6123  "
      ],
      "text/html": [
       "<div>\n",
       "<style scoped>\n",
       "    .dataframe tbody tr th:only-of-type {\n",
       "        vertical-align: middle;\n",
       "    }\n",
       "\n",
       "    .dataframe tbody tr th {\n",
       "        vertical-align: top;\n",
       "    }\n",
       "\n",
       "    .dataframe thead th {\n",
       "        text-align: right;\n",
       "    }\n",
       "</style>\n",
       "<table border=\"1\" class=\"dataframe\">\n",
       "  <thead>\n",
       "    <tr style=\"text-align: right;\">\n",
       "      <th></th>\n",
       "      <th>파일명</th>\n",
       "      <th>지상부(진입)</th>\n",
       "      <th>진입부</th>\n",
       "      <th>본선부</th>\n",
       "      <th>진출부</th>\n",
       "      <th>지상부(진출)</th>\n",
       "      <th>전체</th>\n",
       "    </tr>\n",
       "  </thead>\n",
       "  <tbody>\n",
       "    <tr>\n",
       "      <th>0</th>\n",
       "      <td>1_weights_output.xlsx</td>\n",
       "      <td>102.8267</td>\n",
       "      <td>101.3826</td>\n",
       "      <td>100.3602</td>\n",
       "      <td>94.3622</td>\n",
       "      <td>99.4393</td>\n",
       "      <td>99.8823</td>\n",
       "    </tr>\n",
       "    <tr>\n",
       "      <th>1</th>\n",
       "      <td>2_weights_output.xlsx</td>\n",
       "      <td>94.9892</td>\n",
       "      <td>93.0938</td>\n",
       "      <td>90.9498</td>\n",
       "      <td>48.0668</td>\n",
       "      <td>87.6777</td>\n",
       "      <td>86.6123</td>\n",
       "    </tr>\n",
       "  </tbody>\n",
       "</table>\n",
       "</div>"
      ]
     },
     "metadata": {},
     "output_type": "display_data"
    },
    {
     "name": "stdout",
     "output_type": "stream",
     "text": [
      "excel_path :  C:\\Users\\(주)내일이엔시 도로교통안전연구소\\Desktop\\초장대 K-지하고속도로 인프라 안전 및 효율 향상 기술 개발(2차년도)\\시뮬레이션 분석자료 모음\\자료정리(3차로_점선_주행행태 반영)_250818\\시뮬레이션 분석 자료_V2.9\\중차량,종단경사,교통량\\차종별\\weights_output\\weights_output\n",
      "작업이 완료 되었습니다.\n"
     ]
    }
   ],
   "execution_count": 1
  }
 ],
 "metadata": {
  "kernelspec": {
   "display_name": "Python 3",
   "language": "python",
   "name": "python3"
  },
  "language_info": {
   "codemirror_mode": {
    "name": "ipython",
    "version": 2
   },
   "file_extension": ".py",
   "mimetype": "text/x-python",
   "name": "python",
   "nbconvert_exporter": "python",
   "pygments_lexer": "ipython2",
   "version": "2.7.6"
  }
 },
 "nbformat": 4,
 "nbformat_minor": 5
}
