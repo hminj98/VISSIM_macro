{
 "cells": [
  {
   "cell_type": "code",
   "id": "initial_id",
   "metadata": {
    "collapsed": true,
    "ExecuteTime": {
     "end_time": "2025-07-28T01:05:57.429656Z",
     "start_time": "2025-07-28T01:05:53.672553Z"
    }
   },
   "source": [
    "\"\"\" _output 파일 정리 \"\"\"\n",
    "import shutil\n",
    "\n",
    "import os\n",
    "\n",
    "# 복사할 경로\n",
    "destination_path = r\"C:\\Users\\(주)내일이엔시 도로교통안전연구소\\Desktop\\초장대 K-지하고속도로 인프라 안전 및 효율 향상 기술 개발(2차년도)\\시뮬레이션 분석자료 모음\\자료정리(3차로_점선_지상부 추가)_250728\\시뮬레이션 분석 자료_V2.9\\결과파일\"\n",
    "\n",
    "# 출력파일경로1\n",
    "output_1_path = r\"E:\\network_version2.9.0\\network09_수정_output\"\n",
    "# 출력파일경로2\n",
    "output_2_path = r\"E:\\network_version2.9.1\\network09_수정_output\"\n",
    "\n",
    "output1_list = sorted([file for file in os.listdir(output_1_path) if file.endswith(\".xlsx\")],  key=lambda x: int(x.split(\"_\")[0]) if x.split(\"_\")[0].isdigit() else 0)\n",
    "output2_list = sorted([file for file in os.listdir(output_2_path) if file.endswith(\".xlsx\")],  key=lambda x: int(x.split(\"_\")[0]) if x.split(\"_\")[0].isdigit() else 0)\n",
    "\n",
    "rename_numbers1 = list(range(1,13)) + list(range(25,37)) + list(range(49,61))\n",
    "rename_numbers2 = list(range(13,25)) + list(range(37,49)) + list(range(61,73))\n",
    "\n",
    "print(output1_list + output2_list)\n",
    "\n",
    "for i in range(len(output1_list)):\n",
    "    new_fileName = f\"{rename_numbers1[i]}_output.xlsx\"\n",
    "    src = os.path.join(output_1_path, output1_list[i])\n",
    "    dst = os.path.join(destination_path, new_fileName)\n",
    "    shutil.copy(src, dst)\n",
    "for i in range(len(output2_list)):\n",
    "    new_fileName = f\"{rename_numbers2[i]}_output.xlsx\"\n",
    "    src = os.path.join(output_2_path, output2_list[i])\n",
    "    dst = os.path.join(destination_path, new_fileName)\n",
    "    shutil.copy(src, dst)"
   ],
   "outputs": [
    {
     "name": "stdout",
     "output_type": "stream",
     "text": [
      "['1_output.xlsx', '2_output.xlsx', '3_output.xlsx', '4_output.xlsx', '5_output.xlsx', '6_output.xlsx', '7_output.xlsx', '8_output.xlsx', '9_output.xlsx', '10_output.xlsx', '11_output.xlsx', '12_output.xlsx', '13_output.xlsx', '14_output.xlsx', '15_output.xlsx', '16_output.xlsx', '17_output.xlsx', '18_output.xlsx', '19_output.xlsx', '20_output.xlsx', '21_output.xlsx', '22_output.xlsx', '23_output.xlsx', '24_output.xlsx', '25_output.xlsx', '26_output.xlsx', '27_output.xlsx', '28_output.xlsx', '29_output.xlsx', '30_output.xlsx', '31_output.xlsx', '32_output.xlsx', '33_output.xlsx', '34_output.xlsx', '35_output.xlsx', '36_output.xlsx', '37_output.xlsx', '38_output.xlsx', '39_output.xlsx', '40_output.xlsx', '41_output.xlsx', '42_output.xlsx', '43_output.xlsx', '44_output.xlsx', '45_output.xlsx', '46_output.xlsx', '47_output.xlsx', '48_output.xlsx', '49_output.xlsx', '50_output.xlsx', '51_output.xlsx', '52_output.xlsx', '53_output.xlsx', '54_output.xlsx', '55_output.xlsx', '56_output.xlsx', '57_output.xlsx', '58_output.xlsx', '59_output.xlsx', '60_output.xlsx', '61_output.xlsx', '62_output.xlsx', '63_output.xlsx', '64_output.xlsx', '65_output.xlsx', '66_output.xlsx', '67_output.xlsx', '68_output.xlsx', '69_output.xlsx', '70_output.xlsx', '71_output.xlsx', '72_output.xlsx']\n"
     ]
    }
   ],
   "execution_count": 1
  },
  {
   "metadata": {
    "ExecuteTime": {
     "end_time": "2025-07-28T01:17:32.877137Z",
     "start_time": "2025-07-28T01:17:28.864411Z"
    }
   },
   "cell_type": "code",
   "source": [
    "\"\"\" _vehicle_output 파일 정리 \"\"\"\n",
    "import shutil\n",
    "\n",
    "import os\n",
    "\n",
    "# 복사할 경로\n",
    "destination_path = r\"C:\\Users\\(주)내일이엔시 도로교통안전연구소\\Desktop\\초장대 K-지하고속도로 인프라 안전 및 효율 향상 기술 개발(2차년도)\\시뮬레이션 분석자료 모음\\자료정리(3차로_점선_지상부 추가)_250728\\시뮬레이션 분석 자료_V2.9\\차종별\"\n",
    "\n",
    "# 출력파일경로1\n",
    "output_1_path = r\"E:\\network_version2.9.0\\network09_mer\\vehicle_output\"\n",
    "# 출력파일경로2\n",
    "output_2_path = r\"E:\\network_version2.9.1\\network09_mer\\vehicle_output\"\n",
    "\n",
    "output1_list = sorted([file for file in os.listdir(output_1_path) if file.endswith(\".xlsx\")],  key=lambda x: int(x.split(\"_\")[0]) if x.split(\"_\")[0].isdigit() else 0)\n",
    "output2_list = sorted([file for file in os.listdir(output_2_path) if file.endswith(\".xlsx\")],  key=lambda x: int(x.split(\"_\")[0]) if x.split(\"_\")[0].isdigit() else 0)\n",
    "\n",
    "rename_numbers1 = list(range(1,13)) + list(range(25,37)) + list(range(49,61))\n",
    "rename_numbers2 = list(range(13,25)) + list(range(37,49)) + list(range(61,73))\n",
    "\n",
    "print(output1_list + output2_list)\n",
    "\n",
    "for i in range(len(output1_list)):\n",
    "    new_fileName = f\"{rename_numbers1[i]}_vehicle_output.xlsx\"\n",
    "    src = os.path.join(output_1_path, output1_list[i])\n",
    "    dst = os.path.join(destination_path, new_fileName)\n",
    "    shutil.copy(src, dst)\n",
    "for i in range(len(output2_list)):\n",
    "    new_fileName = f\"{rename_numbers2[i]}_vehicle_output.xlsx\"\n",
    "    src = os.path.join(output_2_path, output2_list[i])\n",
    "    dst = os.path.join(destination_path, new_fileName)\n",
    "    shutil.copy(src, dst)"
   ],
   "id": "c0fa671e8cb6662",
   "outputs": [
    {
     "name": "stdout",
     "output_type": "stream",
     "text": [
      "['1_vehicle_output.xlsx', '2_vehicle_output.xlsx', '3_vehicle_output.xlsx', '4_vehicle_output.xlsx', '5_vehicle_output.xlsx', '6_vehicle_output.xlsx', '7_vehicle_output.xlsx', '8_vehicle_output.xlsx', '9_vehicle_output.xlsx', '10_vehicle_output.xlsx', '11_vehicle_output.xlsx', '12_vehicle_output.xlsx', '13_vehicle_output.xlsx', '14_vehicle_output.xlsx', '15_vehicle_output.xlsx', '16_vehicle_output.xlsx', '17_vehicle_output.xlsx', '18_vehicle_output.xlsx', '19_vehicle_output.xlsx', '20_vehicle_output.xlsx', '21_vehicle_output.xlsx', '22_vehicle_output.xlsx', '23_vehicle_output.xlsx', '24_vehicle_output.xlsx', '25_vehicle_output.xlsx', '26_vehicle_output.xlsx', '27_vehicle_output.xlsx', '28_vehicle_output.xlsx', '29_vehicle_output.xlsx', '30_vehicle_output.xlsx', '31_vehicle_output.xlsx', '32_vehicle_output.xlsx', '33_vehicle_output.xlsx', '34_vehicle_output.xlsx', '35_vehicle_output.xlsx', '36_vehicle_output.xlsx', '1_vehicle_output.xlsx', '2_vehicle_output.xlsx', '3_vehicle_output.xlsx', '4_vehicle_output.xlsx', '5_vehicle_output.xlsx', '6_vehicle_output.xlsx', '7_vehicle_output.xlsx', '8_vehicle_output.xlsx', '9_vehicle_output.xlsx', '10_vehicle_output.xlsx', '11_vehicle_output.xlsx', '12_vehicle_output.xlsx', '13_vehicle_output.xlsx', '14_vehicle_output.xlsx', '15_vehicle_output.xlsx', '16_vehicle_output.xlsx', '17_vehicle_output.xlsx', '18_vehicle_output.xlsx', '19_vehicle_output.xlsx', '20_vehicle_output.xlsx', '21_vehicle_output.xlsx', '22_vehicle_output.xlsx', '23_vehicle_output.xlsx', '24_vehicle_output.xlsx', '25_vehicle_output.xlsx', '26_vehicle_output.xlsx', '27_vehicle_output.xlsx', '28_vehicle_output.xlsx', '29_vehicle_output.xlsx', '30_vehicle_output.xlsx', '31_vehicle_output.xlsx', '32_vehicle_output.xlsx', '33_vehicle_output.xlsx', '34_vehicle_output.xlsx', '35_vehicle_output.xlsx', '36_vehicle_output.xlsx']\n"
     ]
    }
   ],
   "execution_count": 1
  },
  {
   "metadata": {
    "ExecuteTime": {
     "end_time": "2025-05-21T01:47:27.856873Z",
     "start_time": "2025-05-21T01:47:26.054956Z"
    }
   },
   "cell_type": "code",
   "source": [
    "\"\"\" _time_output 파일 정리 \"\"\"\n",
    "import shutil\n",
    "\n",
    "import os\n",
    "\n",
    "# 복사할 경로\n",
    "destination_path = r\"C:\\Users\\(주)내일이엔시 도로교통안전연구소\\Desktop\\초장대 K-지하고속도로 인프라 안전 및 효율 향상 기술 개발(2차년도)\\자료정리(3차로_점선+실선)_250521\\시뮬레이션 분석 자료_V2.8\\중차량,종단경사,교통량\\시간별\"\n",
    "\n",
    "# 출력파일경로1\n",
    "output_1_path = r\"D:\\network_version2.8.0\\network08_mer\\time_output\"\n",
    "# 출력파일경로2\n",
    "output_2_path = r\"D:\\network_version2.8.1\\network08_mer\\time_output\"\n",
    "\n",
    "output1_list = sorted([file for file in os.listdir(output_1_path) if file.endswith(\".xlsx\")],  key=lambda x: int(x.split(\"_\")[0]) if x.split(\"_\")[0].isdigit() else 0)\n",
    "output2_list = sorted([file for file in os.listdir(output_2_path) if file.endswith(\".xlsx\")],  key=lambda x: int(x.split(\"_\")[0]) if x.split(\"_\")[0].isdigit() else 0)\n",
    "\n",
    "rename_numbers1 = list(range(1,13)) + list(range(25,37)) + list(range(49,61))\n",
    "rename_numbers2 = list(range(13,25)) + list(range(37,49)) + list(range(61,73))\n",
    "\n",
    "print(output1_list + output2_list)\n",
    "\n",
    "for i in range(len(output1_list)):\n",
    "    new_fileName = f\"{rename_numbers1[i]}_time_output.xlsx\"\n",
    "    src = os.path.join(output_1_path, output1_list[i])\n",
    "    dst = os.path.join(destination_path, new_fileName)\n",
    "    shutil.copy(src, dst)\n",
    "for i in range(len(output2_list)):\n",
    "    new_fileName = f\"{rename_numbers2[i]}_time_output.xlsx\"\n",
    "    src = os.path.join(output_2_path, output2_list[i])\n",
    "    dst = os.path.join(destination_path, new_fileName)\n",
    "    shutil.copy(src, dst)"
   ],
   "id": "c3265d23bcf1148e",
   "outputs": [
    {
     "name": "stdout",
     "output_type": "stream",
     "text": [
      "['1_time_output.xlsx', '2_time_output.xlsx', '3_time_output.xlsx', '4_time_output.xlsx', '5_time_output.xlsx', '6_time_output.xlsx', '7_time_output.xlsx', '8_time_output.xlsx', '9_time_output.xlsx', '10_time_output.xlsx', '11_time_output.xlsx', '12_time_output.xlsx', '13_time_output.xlsx', '14_time_output.xlsx', '15_time_output.xlsx', '16_time_output.xlsx', '17_time_output.xlsx', '18_time_output.xlsx', '19_time_output.xlsx', '20_time_output.xlsx', '21_time_output.xlsx', '22_time_output.xlsx', '23_time_output.xlsx', '24_time_output.xlsx', '25_time_output.xlsx', '26_time_output.xlsx', '27_time_output.xlsx', '28_time_output.xlsx', '29_time_output.xlsx', '30_time_output.xlsx', '31_time_output.xlsx', '32_time_output.xlsx', '33_time_output.xlsx', '34_time_output.xlsx', '35_time_output.xlsx', '36_time_output.xlsx', '1_time_output.xlsx', '2_time_output.xlsx', '3_time_output.xlsx', '4_time_output.xlsx', '5_time_output.xlsx', '6_time_output.xlsx', '7_time_output.xlsx', '8_time_output.xlsx', '9_time_output.xlsx', '10_time_output.xlsx', '11_time_output.xlsx', '12_time_output.xlsx', '13_time_output.xlsx', '14_time_output.xlsx', '15_time_output.xlsx', '16_time_output.xlsx', '17_time_output.xlsx', '18_time_output.xlsx', '19_time_output.xlsx', '20_time_output.xlsx', '21_time_output.xlsx', '22_time_output.xlsx', '23_time_output.xlsx', '24_time_output.xlsx', '25_time_output.xlsx', '26_time_output.xlsx', '27_time_output.xlsx', '28_time_output.xlsx', '29_time_output.xlsx', '30_time_output.xlsx', '31_time_output.xlsx', '32_time_output.xlsx', '33_time_output.xlsx', '34_time_output.xlsx', '35_time_output.xlsx', '36_time_output.xlsx']\n"
     ]
    }
   ],
   "execution_count": 4
  },
  {
   "metadata": {
    "ExecuteTime": {
     "end_time": "2025-08-01T07:45:19.889555Z",
     "start_time": "2025-08-01T07:45:18.955467Z"
    }
   },
   "cell_type": "code",
   "source": [
    "\"\"\" STVM 파일 정리 \"\"\"\n",
    "import shutil\n",
    "\n",
    "import os\n",
    "\n",
    "# 복사할 경로\n",
    "destination_path = r\"C:\\Users\\(주)내일이엔시 도로교통안전연구소\\Desktop\\초장대 K-지하고속도로 인프라 안전 및 효율 향상 기술 개발(2차년도)\\시뮬레이션 분석자료 모음\\자료정리(3차로_점선_지상부 추가)_250728\\STVM\"\n",
    "\n",
    "# 출력파일경로1\n",
    "output_1_path = r\"E:\\network_version2.9.0\\network09_mer\\STVM\"\n",
    "# 출력파일경로2\n",
    "output_2_path = r\"E:\\network_version2.9.1\\network09_mer\\STVM\"\n",
    "\n",
    "output1_list = sorted([file for file in os.listdir(output_1_path) if file.endswith(\".xlsx\")],  key=lambda x: int(x.split(\"_\")[0]) if x.split(\"_\")[0].isdigit() else 0)\n",
    "output2_list = sorted([file for file in os.listdir(output_2_path) if file.endswith(\".xlsx\")],  key=lambda x: int(x.split(\"_\")[0]) if x.split(\"_\")[0].isdigit() else 0)\n",
    "\n",
    "rename_numbers1 = list(range(1,13)) + list(range(25,37)) + list(range(49,61))\n",
    "rename_numbers2 = list(range(13,25)) + list(range(37,49)) + list(range(61,73))\n",
    "\n",
    "for i in range(len(output1_list)):\n",
    "    new_fileName = f\"STVM_{rename_numbers1[i]}_output.xlsx\"\n",
    "    src = os.path.join(output_1_path, output1_list[i])\n",
    "    dst = os.path.join(destination_path, new_fileName)\n",
    "    shutil.copy(src, dst)\n",
    "for i in range(len(output2_list)):\n",
    "    new_fileName = f\"STVM_{rename_numbers2[i]}_output.xlsx\"\n",
    "    src = os.path.join(output_2_path, output2_list[i])\n",
    "    dst = os.path.join(destination_path, new_fileName)\n",
    "    shutil.copy(src, dst)"
   ],
   "id": "205e36116f997822",
   "outputs": [
    {
     "name": "stdout",
     "output_type": "stream",
     "text": [
      "['STVM_1.xlsx', 'STVM_2.xlsx', 'STVM_3.xlsx', 'STVM_4.xlsx', 'STVM_5.xlsx', 'STVM_6.xlsx', 'STVM_7.xlsx', 'STVM_8.xlsx', 'STVM_9.xlsx', 'STVM_10.xlsx', 'STVM_11.xlsx', 'STVM_12.xlsx', 'STVM_13.xlsx', 'STVM_14.xlsx', 'STVM_15.xlsx', 'STVM_16.xlsx', 'STVM_17.xlsx', 'STVM_18.xlsx', 'STVM_19.xlsx', 'STVM_20.xlsx', 'STVM_21.xlsx', 'STVM_22.xlsx', 'STVM_23.xlsx', 'STVM_24.xlsx', 'STVM_25.xlsx', 'STVM_26.xlsx', 'STVM_27.xlsx', 'STVM_28.xlsx', 'STVM_29.xlsx', 'STVM_30.xlsx', 'STVM_31.xlsx', 'STVM_32.xlsx', 'STVM_33.xlsx', 'STVM_34.xlsx', 'STVM_35.xlsx', 'STVM_36.xlsx', 'STVM_1.xlsx', 'STVM_2.xlsx', 'STVM_3.xlsx', 'STVM_4.xlsx', 'STVM_5.xlsx', 'STVM_6.xlsx', 'STVM_7.xlsx', 'STVM_8.xlsx', 'STVM_9.xlsx', 'STVM_10.xlsx', 'STVM_11.xlsx', 'STVM_12.xlsx', 'STVM_13.xlsx', 'STVM_14.xlsx', 'STVM_15.xlsx', 'STVM_16.xlsx', 'STVM_17.xlsx', 'STVM_18.xlsx', 'STVM_19.xlsx', 'STVM_20.xlsx', 'STVM_21.xlsx', 'STVM_22.xlsx', 'STVM_23.xlsx', 'STVM_24.xlsx', 'STVM_25.xlsx', 'STVM_26.xlsx', 'STVM_27.xlsx', 'STVM_28.xlsx', 'STVM_29.xlsx', 'STVM_30.xlsx', 'STVM_31.xlsx', 'STVM_32.xlsx', 'STVM_33.xlsx', 'STVM_34.xlsx', 'STVM_35.xlsx', 'STVM_36.xlsx']\n"
     ]
    }
   ],
   "execution_count": 1
  }
 ],
 "metadata": {
  "kernelspec": {
   "display_name": "Python 3",
   "language": "python",
   "name": "python3"
  },
  "language_info": {
   "codemirror_mode": {
    "name": "ipython",
    "version": 2
   },
   "file_extension": ".py",
   "mimetype": "text/x-python",
   "name": "python",
   "nbconvert_exporter": "python",
   "pygments_lexer": "ipython2",
   "version": "2.7.6"
  }
 },
 "nbformat": 4,
 "nbformat_minor": 5
}
